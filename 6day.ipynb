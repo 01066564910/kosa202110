{
 "cells": [
  {
   "cell_type": "code",
   "execution_count": 96,
   "id": "9c017101",
   "metadata": {},
   "outputs": [
    {
     "data": {
      "text/html": [
       "<style>\n",
       "div.container { width:100% !important; }\n",
       "div.CodeMirror {font-family: Consolas; font-size: 35pt;}\n",
       "div.output { font-size: 16pt; font-weight: bold;}\n",
       "div.input { font-family: Consolas; font-size: 35pt;}\n",
       "div.prompt { min-width: 100px;}\n",
       "</style>\n"
      ],
      "text/plain": [
       "<IPython.core.display.HTML object>"
      ]
     },
     "metadata": {},
     "output_type": "display_data"
    }
   ],
   "source": [
    "from IPython.core.display import display, HTML\n",
    "display(HTML(\n",
    "\"\"\"<style>\n",
    "div.container { width:100% !important; }\n",
    "div.CodeMirror {font-family: Consolas; font-size: 35pt;}\n",
    "div.output { font-size: 16pt; font-weight: bold;}\n",
    "div.input { font-family: Consolas; font-size: 35pt;}\n",
    "div.prompt { min-width: 100px;}\n",
    "</style>\n",
    "\"\"\"))"
   ]
  },
  {
   "cell_type": "code",
   "execution_count": 5,
   "id": "7793d26b",
   "metadata": {},
   "outputs": [
    {
     "name": "stdout",
     "output_type": "stream",
     "text": [
      "1\n",
      "5\n",
      "12\n"
     ]
    }
   ],
   "source": [
    "#### class\n",
    "result = 0\n",
    "result = result + 1\n",
    "print(result)\n",
    "result = result + 4\n",
    "print(result)\n",
    "result = result + 7\n",
    "print(result)"
   ]
  },
  {
   "cell_type": "code",
   "execution_count": 6,
   "id": "bb34be9a",
   "metadata": {},
   "outputs": [
    {
     "name": "stdout",
     "output_type": "stream",
     "text": [
      "12\n"
     ]
    }
   ],
   "source": [
    "print(result)"
   ]
  },
  {
   "cell_type": "code",
   "execution_count": 14,
   "id": "63c6e3b2",
   "metadata": {},
   "outputs": [],
   "source": [
    "result = 0\n",
    "def add(num):\n",
    "    global result\n",
    "    result = result + num"
   ]
  },
  {
   "cell_type": "code",
   "execution_count": 15,
   "id": "a472fe1c",
   "metadata": {},
   "outputs": [
    {
     "name": "stdout",
     "output_type": "stream",
     "text": [
      "1\n",
      "5\n",
      "12\n"
     ]
    }
   ],
   "source": [
    "add(1)\n",
    "print(result)\n",
    "add(4)\n",
    "print(result)\n",
    "add(7)\n",
    "print(result)"
   ]
  },
  {
   "cell_type": "code",
   "execution_count": 16,
   "id": "1c7a1450",
   "metadata": {},
   "outputs": [
    {
     "name": "stdout",
     "output_type": "stream",
     "text": [
      "12\n"
     ]
    }
   ],
   "source": [
    "print(result)"
   ]
  },
  {
   "cell_type": "code",
   "execution_count": 17,
   "id": "03074261",
   "metadata": {},
   "outputs": [
    {
     "name": "stdout",
     "output_type": "stream",
     "text": [
      "1\n",
      "8\n"
     ]
    }
   ],
   "source": [
    "result1 = 0\n",
    "result1 = result1 + 1\n",
    "print(result1)\n",
    "result1 = result1 + 7\n",
    "print(result1)"
   ]
  },
  {
   "cell_type": "code",
   "execution_count": 18,
   "id": "da2dc147",
   "metadata": {},
   "outputs": [],
   "source": [
    "result1 = 0\n",
    "def add1(num):\n",
    "    global result1\n",
    "    result1 = result1 + num"
   ]
  },
  {
   "cell_type": "code",
   "execution_count": 19,
   "id": "a4fec9de",
   "metadata": {},
   "outputs": [
    {
     "name": "stdout",
     "output_type": "stream",
     "text": [
      "3\n",
      "8\n"
     ]
    }
   ],
   "source": [
    "add1(3)\n",
    "print(result1)\n",
    "add1(5)\n",
    "print(result1)"
   ]
  },
  {
   "cell_type": "code",
   "execution_count": 20,
   "id": "05906f8e",
   "metadata": {},
   "outputs": [
    {
     "name": "stdout",
     "output_type": "stream",
     "text": [
      "12\n",
      "8\n"
     ]
    }
   ],
   "source": [
    "print(result)\n",
    "print(result1)"
   ]
  },
  {
   "cell_type": "code",
   "execution_count": 24,
   "id": "50e37494",
   "metadata": {},
   "outputs": [],
   "source": [
    "result2 = 0\n",
    "def add2(num):\n",
    "    global result2\n",
    "    result2 = result2 + num"
   ]
  },
  {
   "cell_type": "code",
   "execution_count": 25,
   "id": "066d8c3c",
   "metadata": {},
   "outputs": [
    {
     "name": "stdout",
     "output_type": "stream",
     "text": [
      "6\n",
      "16\n"
     ]
    }
   ],
   "source": [
    "add2(6)\n",
    "print(result2)\n",
    "add2(10)\n",
    "print(result2)"
   ]
  },
  {
   "cell_type": "code",
   "execution_count": 26,
   "id": "f19f3bb4",
   "metadata": {},
   "outputs": [
    {
     "name": "stdout",
     "output_type": "stream",
     "text": [
      "12\n",
      "8\n",
      "16\n"
     ]
    }
   ],
   "source": [
    "print(result)\n",
    "print(result1)\n",
    "print(result2)"
   ]
  },
  {
   "cell_type": "code",
   "execution_count": 27,
   "id": "f77209da",
   "metadata": {},
   "outputs": [],
   "source": [
    "### 변수와 함수를 묶어서 사용하는 것을 class\n",
    "class res:\n",
    "    result = 0\n",
    "    def add(self, num):\n",
    "        self.result = self.result + num"
   ]
  },
  {
   "cell_type": "code",
   "execution_count": 30,
   "id": "7b3055ce",
   "metadata": {},
   "outputs": [
    {
     "name": "stdout",
     "output_type": "stream",
     "text": [
      "1\n",
      "4\n",
      "11\n"
     ]
    }
   ],
   "source": [
    "i = 10\n",
    "y = 10\n",
    "a = res() # result , add()\n",
    "a.add(1)\n",
    "print(a.result)\n",
    "a.add(3)\n",
    "print(a.result)\n",
    "a.add(7)\n",
    "print(a.result)"
   ]
  },
  {
   "cell_type": "code",
   "execution_count": 31,
   "id": "d56833ad",
   "metadata": {},
   "outputs": [
    {
     "name": "stdout",
     "output_type": "stream",
     "text": [
      "3\n",
      "7\n"
     ]
    }
   ],
   "source": [
    "b = res() # result , add()\n",
    "b.add(3)\n",
    "print(b.result)\n",
    "b.add(4)\n",
    "print(b.result)"
   ]
  },
  {
   "cell_type": "code",
   "execution_count": 32,
   "id": "3bd775c9",
   "metadata": {},
   "outputs": [
    {
     "name": "stdout",
     "output_type": "stream",
     "text": [
      "11\n",
      "7\n"
     ]
    }
   ],
   "source": [
    "print(a.result)\n",
    "print(b.result)"
   ]
  },
  {
   "cell_type": "code",
   "execution_count": 33,
   "id": "453bb7a3",
   "metadata": {},
   "outputs": [
    {
     "name": "stdout",
     "output_type": "stream",
     "text": [
      "6\n",
      "3\n"
     ]
    }
   ],
   "source": [
    "c = res() # 객체 생성\n",
    "d = res()\n",
    "e = res()\n",
    "c.add(6)\n",
    "print(c.result)\n",
    "d.add(3)\n",
    "print(d.result)\n",
    "# result3 = 0\n",
    "# def add3(num):\n",
    "#     global result3\n",
    "#     result3 = result3 + num\n",
    "# result4 = 0\n",
    "# def add4(num):\n",
    "#     global result4\n",
    "#     result4 = result4 + num"
   ]
  },
  {
   "cell_type": "code",
   "execution_count": 38,
   "id": "41d2174e",
   "metadata": {},
   "outputs": [],
   "source": [
    "class calulator:\n",
    "    result = 0\n",
    "    def add(self, num):\n",
    "        self.result += num # self.result = self.result + num\n",
    "        # i = i + 1 : i += 1"
   ]
  },
  {
   "cell_type": "code",
   "execution_count": 41,
   "id": "f9012070",
   "metadata": {},
   "outputs": [
    {
     "name": "stdout",
     "output_type": "stream",
     "text": [
      "0\n",
      "2\n",
      "5\n"
     ]
    }
   ],
   "source": [
    "cal1 = calulator() # 객체 생성 : result , add()\n",
    "print(cal1.result)\n",
    "cal1.add(2)\n",
    "print(cal1.result)\n",
    "cal1.add(3)\n",
    "print(cal1.result)"
   ]
  },
  {
   "cell_type": "code",
   "execution_count": 43,
   "id": "d74ec52e",
   "metadata": {},
   "outputs": [
    {
     "name": "stdout",
     "output_type": "stream",
     "text": [
      "0\n",
      "5\n"
     ]
    }
   ],
   "source": [
    "cal2 = calulator() \n",
    "print(cal2.result)\n",
    "cal2.add(5)\n",
    "print(cal2.result)"
   ]
  },
  {
   "cell_type": "code",
   "execution_count": 44,
   "id": "f02d9eaa",
   "metadata": {},
   "outputs": [
    {
     "name": "stdout",
     "output_type": "stream",
     "text": [
      "5\n",
      "5\n"
     ]
    }
   ],
   "source": [
    "print(cal1.result)\n",
    "print(cal2.result)"
   ]
  },
  {
   "cell_type": "code",
   "execution_count": 46,
   "id": "d21ed38a",
   "metadata": {},
   "outputs": [],
   "source": [
    "class calulator:\n",
    "    result = 0 # 멤버 변수, 멤버 필드\n",
    "    def add(self, first, second):\n",
    "        self.result = first + second\n",
    "    def sub(self, first, second):\n",
    "        self.result = first - second\n",
    "    def mul(self, first, second):\n",
    "        self.result = first * second\n",
    "    def div(self, first, second):\n",
    "        self.result = first / second"
   ]
  },
  {
   "cell_type": "code",
   "execution_count": 47,
   "id": "5f95f312",
   "metadata": {},
   "outputs": [
    {
     "name": "stdout",
     "output_type": "stream",
     "text": [
      "10\n",
      "18\n"
     ]
    }
   ],
   "source": [
    "cal3 = calulator() # 객체\n",
    "cal3.add(4, 6)\n",
    "print(cal3.result) \n",
    "cal4 = calulator()\n",
    "cal4.mul(3, 6)\n",
    "print(cal4.result)\n",
    "cal5 = calulator()\n",
    "cal6 = calulator()\n",
    "cal7 = calulator()"
   ]
  },
  {
   "cell_type": "code",
   "execution_count": 49,
   "id": "777619cb",
   "metadata": {},
   "outputs": [
    {
     "name": "stdout",
     "output_type": "stream",
     "text": [
      "7\n",
      "11\n"
     ]
    }
   ],
   "source": [
    "### self\n",
    "a = calulator() # add(self, first, second): self.result = first + second\n",
    "a.add(3, 4)\n",
    "print(a.result)\n",
    "calulator.add(a, 5, 6)\n",
    "print(a.result)\n",
    "a.add(4, 7) # calulator.add(a, 4, 7)\n",
    "print(a.result)\n",
    "a.sub(7, 4) # calulator.sub(a, 7, 4)"
   ]
  },
  {
   "cell_type": "code",
   "execution_count": null,
   "id": "6d3fa25d",
   "metadata": {},
   "outputs": [],
   "source": [
    "b = calulator()\n",
    "b.add(10 , 5) # calulator.add(b, 10, 5)\n",
    "              #  b.result = 10 + 5\n",
    "# 함수안에 있는 매개변수 self는 객체 자신을 나타낸다."
   ]
  },
  {
   "cell_type": "code",
   "execution_count": 57,
   "id": "63cd5ff7",
   "metadata": {},
   "outputs": [],
   "source": [
    "### 멤버 필드의 초기화\n",
    "class calulator:\n",
    "    def setdata(self, num1, num2): # 멤버필드를 초기화하는 함수\n",
    "        self.first = num1\n",
    "        self.second = num2\n",
    "    def add(self):\n",
    "        self.result = self.first + self.second\n",
    "    def sub(self):\n",
    "        self.result = self.first - self.second\n",
    "    def mul(self):\n",
    "        self.result = self.first * self.second\n",
    "    def div(self):\n",
    "        self.result = self.first / self.second      "
   ]
  },
  {
   "cell_type": "code",
   "execution_count": 53,
   "id": "7cbc7b26",
   "metadata": {},
   "outputs": [
    {
     "name": "stdout",
     "output_type": "stream",
     "text": [
      "14\n",
      "2.5\n"
     ]
    }
   ],
   "source": [
    "e = calulator() # self = e\n",
    "e.setdata(10, 4) # e.first = 10, e.second = 4 # first,second멤버 초기화\n",
    "e.add() # e.result = e.first + e.second\n",
    "print(e.result)\n",
    "e.div() # e.result = e.first / e.second : e.result = 10 / 4\n",
    "print(e.result)"
   ]
  },
  {
   "cell_type": "code",
   "execution_count": 58,
   "id": "b2a07abd",
   "metadata": {},
   "outputs": [
    {
     "name": "stdout",
     "output_type": "stream",
     "text": [
      "8\n"
     ]
    }
   ],
   "source": [
    "f = calulator() ## self = f : java에서는 self를 this로 사용한다.\n",
    "f.setdata(4, 2) # f.first = 4, f.second = 2 # first,second멤버 초기화\n",
    "f.mul() # f.result = f.first * f.second : r.result = 4 * 2\n",
    "print(f.result)"
   ]
  },
  {
   "cell_type": "code",
   "execution_count": 59,
   "id": "10048fa7",
   "metadata": {},
   "outputs": [],
   "source": [
    "## 객체 생성과 동시에 멤버필드를 초기화 하기\n",
    "class calulator:\n",
    "    def __init__(self, num1, num2): #### 생성자\n",
    "        self.first = num1\n",
    "        self.second = num2\n",
    "    def add(self):\n",
    "        self.result = self.first + self.second\n",
    "    def sub(self):\n",
    "        self.result = self.first - self.second\n",
    "    def mul(self):\n",
    "        self.result = self.first * self.second\n",
    "    def div(self):\n",
    "        self.result = self.first / self.second "
   ]
  },
  {
   "cell_type": "code",
   "execution_count": 61,
   "id": "48a9b7c0",
   "metadata": {},
   "outputs": [
    {
     "name": "stdout",
     "output_type": "stream",
     "text": [
      "10 4\n",
      "14\n"
     ]
    }
   ],
   "source": [
    "g = calulator(10, 4) # first, second에 값이 저장\n",
    "print(g.first, g.second) \n",
    "## __init__함수는 객체생성시에 자동으로 실행되는 함수이다.\n",
    "g.add()\n",
    "print(g.result)"
   ]
  },
  {
   "cell_type": "code",
   "execution_count": 63,
   "id": "d9536726",
   "metadata": {},
   "outputs": [
    {
     "ename": "TypeError",
     "evalue": "__init__() missing 2 required positional arguments: 'num1' and 'num2'",
     "output_type": "error",
     "traceback": [
      "\u001b[1;31m---------------------------------------------------------------------------\u001b[0m",
      "\u001b[1;31mTypeError\u001b[0m                                 Traceback (most recent call last)",
      "\u001b[1;32m~\\AppData\\Local\\Temp/ipykernel_4324/1373676895.py\u001b[0m in \u001b[0;36m<module>\u001b[1;34m\u001b[0m\n\u001b[1;32m----> 1\u001b[1;33m \u001b[0mh\u001b[0m \u001b[1;33m=\u001b[0m \u001b[0mcalulator\u001b[0m\u001b[1;33m(\u001b[0m\u001b[1;33m)\u001b[0m\u001b[1;33m\u001b[0m\u001b[1;33m\u001b[0m\u001b[0m\n\u001b[0m",
      "\u001b[1;31mTypeError\u001b[0m: __init__() missing 2 required positional arguments: 'num1' and 'num2'"
     ]
    }
   ],
   "source": [
    "h = calulator() # __init__()에 있는 매개변수 만큼 인자."
   ]
  },
  {
   "cell_type": "code",
   "execution_count": 64,
   "id": "4fe890de",
   "metadata": {},
   "outputs": [],
   "source": [
    "h = calulator(3, 4)\n",
    "# __init__()함수에 매개변수가 있다면 객체 생성할 때 꼭 초기값을 주어야 한다."
   ]
  },
  {
   "cell_type": "code",
   "execution_count": 65,
   "id": "f2b1e222",
   "metadata": {},
   "outputs": [],
   "source": [
    "class calu:\n",
    "    def __init__(self):\n",
    "        print(\"객체 생성시에 자동으로 실행이 됩니다.\")"
   ]
  },
  {
   "cell_type": "code",
   "execution_count": 66,
   "id": "a3635b55",
   "metadata": {},
   "outputs": [
    {
     "name": "stdout",
     "output_type": "stream",
     "text": [
      "객체 생성시에 자동으로 실행이 됩니다.\n"
     ]
    }
   ],
   "source": [
    "t = calu()"
   ]
  },
  {
   "cell_type": "code",
   "execution_count": 69,
   "id": "6b2c34c9",
   "metadata": {},
   "outputs": [],
   "source": [
    "### 상속\n",
    "class calulator: # 부모 클래스\n",
    "    def __init__(self, first, second):\n",
    "        self.first = first\n",
    "        self.second = second\n",
    "    def add(self):\n",
    "        self.result = self.first + self.second\n",
    "    def div(self):\n",
    "        self.result = self.first / self.second"
   ]
  },
  {
   "cell_type": "code",
   "execution_count": 71,
   "id": "aff27ab0",
   "metadata": {},
   "outputs": [],
   "source": [
    "class mor_clau:\n",
    "    def sub(self):\n",
    "        self.result = self.first - self.second\n",
    "    def mul(self):\n",
    "        self.result = self.first * self.second"
   ]
  },
  {
   "cell_type": "code",
   "execution_count": 72,
   "id": "fa80d375",
   "metadata": {},
   "outputs": [
    {
     "ename": "AttributeError",
     "evalue": "'mor_clau' object has no attribute 'add'",
     "output_type": "error",
     "traceback": [
      "\u001b[1;31m---------------------------------------------------------------------------\u001b[0m",
      "\u001b[1;31mAttributeError\u001b[0m                            Traceback (most recent call last)",
      "\u001b[1;32m~\\AppData\\Local\\Temp/ipykernel_4324/1565465221.py\u001b[0m in \u001b[0;36m<module>\u001b[1;34m\u001b[0m\n\u001b[0;32m      1\u001b[0m \u001b[0ma\u001b[0m \u001b[1;33m=\u001b[0m \u001b[0mmor_clau\u001b[0m\u001b[1;33m(\u001b[0m\u001b[1;33m)\u001b[0m\u001b[1;33m\u001b[0m\u001b[1;33m\u001b[0m\u001b[0m\n\u001b[1;32m----> 2\u001b[1;33m \u001b[0ma\u001b[0m\u001b[1;33m.\u001b[0m\u001b[0madd\u001b[0m\u001b[1;33m(\u001b[0m\u001b[1;33m)\u001b[0m\u001b[1;33m\u001b[0m\u001b[1;33m\u001b[0m\u001b[0m\n\u001b[0m",
      "\u001b[1;31mAttributeError\u001b[0m: 'mor_clau' object has no attribute 'add'"
     ]
    }
   ],
   "source": [
    "a = mor_clau()\n",
    "a.add()"
   ]
  },
  {
   "cell_type": "code",
   "execution_count": 73,
   "id": "4cd0f5b6",
   "metadata": {},
   "outputs": [],
   "source": [
    "class mor_clau(calulator):\n",
    "#     def __init__(self, first, second):\n",
    "#         self.first = first\n",
    "#         self.second = second\n",
    "#     def add(self):\n",
    "#         self.result = self.first + self.second\n",
    "#     def div(self):\n",
    "#         self.result = self.first / self.second\n",
    "    def sub(self):\n",
    "        self.result = self.first - self.second\n",
    "    def mul(self):\n",
    "        self.result = self.first * self.second"
   ]
  },
  {
   "cell_type": "code",
   "execution_count": 75,
   "id": "8a194168",
   "metadata": {},
   "outputs": [
    {
     "name": "stdout",
     "output_type": "stream",
     "text": [
      "14\n"
     ]
    }
   ],
   "source": [
    "a = mor_clau(10, 4)\n",
    "a.add()\n",
    "print(a.result)"
   ]
  },
  {
   "cell_type": "code",
   "execution_count": 77,
   "id": "2c96eba4",
   "metadata": {},
   "outputs": [
    {
     "name": "stdout",
     "output_type": "stream",
     "text": [
      "10\n",
      "0.0\n"
     ]
    }
   ],
   "source": [
    "b = mor_clau(0, 10)\n",
    "b.add()\n",
    "print(b.result)\n",
    "b.div() # 0 / 10\n",
    "print(b.result)  # 부정"
   ]
  },
  {
   "cell_type": "code",
   "execution_count": 79,
   "id": "421869f6",
   "metadata": {},
   "outputs": [
    {
     "name": "stdout",
     "output_type": "stream",
     "text": [
      "10\n"
     ]
    },
    {
     "ename": "ZeroDivisionError",
     "evalue": "division by zero",
     "output_type": "error",
     "traceback": [
      "\u001b[1;31m---------------------------------------------------------------------------\u001b[0m",
      "\u001b[1;31mZeroDivisionError\u001b[0m                         Traceback (most recent call last)",
      "\u001b[1;32m~\\AppData\\Local\\Temp/ipykernel_4324/1878741070.py\u001b[0m in \u001b[0;36m<module>\u001b[1;34m\u001b[0m\n\u001b[0;32m      2\u001b[0m \u001b[0mc\u001b[0m\u001b[1;33m.\u001b[0m\u001b[0madd\u001b[0m\u001b[1;33m(\u001b[0m\u001b[1;33m)\u001b[0m\u001b[1;33m\u001b[0m\u001b[1;33m\u001b[0m\u001b[0m\n\u001b[0;32m      3\u001b[0m \u001b[0mprint\u001b[0m\u001b[1;33m(\u001b[0m\u001b[0mc\u001b[0m\u001b[1;33m.\u001b[0m\u001b[0mresult\u001b[0m\u001b[1;33m)\u001b[0m\u001b[1;33m\u001b[0m\u001b[1;33m\u001b[0m\u001b[0m\n\u001b[1;32m----> 4\u001b[1;33m \u001b[0mc\u001b[0m\u001b[1;33m.\u001b[0m\u001b[0mdiv\u001b[0m\u001b[1;33m(\u001b[0m\u001b[1;33m)\u001b[0m \u001b[1;31m# 10 / 0\u001b[0m\u001b[1;33m\u001b[0m\u001b[1;33m\u001b[0m\u001b[0m\n\u001b[0m",
      "\u001b[1;32m~\\AppData\\Local\\Temp/ipykernel_4324/3422060837.py\u001b[0m in \u001b[0;36mdiv\u001b[1;34m(self)\u001b[0m\n\u001b[0;32m      7\u001b[0m         \u001b[0mself\u001b[0m\u001b[1;33m.\u001b[0m\u001b[0mresult\u001b[0m \u001b[1;33m=\u001b[0m \u001b[0mself\u001b[0m\u001b[1;33m.\u001b[0m\u001b[0mfirst\u001b[0m \u001b[1;33m+\u001b[0m \u001b[0mself\u001b[0m\u001b[1;33m.\u001b[0m\u001b[0msecond\u001b[0m\u001b[1;33m\u001b[0m\u001b[1;33m\u001b[0m\u001b[0m\n\u001b[0;32m      8\u001b[0m     \u001b[1;32mdef\u001b[0m \u001b[0mdiv\u001b[0m\u001b[1;33m(\u001b[0m\u001b[0mself\u001b[0m\u001b[1;33m)\u001b[0m\u001b[1;33m:\u001b[0m\u001b[1;33m\u001b[0m\u001b[1;33m\u001b[0m\u001b[0m\n\u001b[1;32m----> 9\u001b[1;33m         \u001b[0mself\u001b[0m\u001b[1;33m.\u001b[0m\u001b[0mresult\u001b[0m \u001b[1;33m=\u001b[0m \u001b[0mself\u001b[0m\u001b[1;33m.\u001b[0m\u001b[0mfirst\u001b[0m \u001b[1;33m/\u001b[0m \u001b[0mself\u001b[0m\u001b[1;33m.\u001b[0m\u001b[0msecond\u001b[0m\u001b[1;33m\u001b[0m\u001b[1;33m\u001b[0m\u001b[0m\n\u001b[0m",
      "\u001b[1;31mZeroDivisionError\u001b[0m: division by zero"
     ]
    }
   ],
   "source": [
    "c = mor_clau(10, 0) # first = 10. second = 0\n",
    "c.add()\n",
    "print(c.result)\n",
    "c.div() # 10 / 0 # 불능"
   ]
  },
  {
   "cell_type": "code",
   "execution_count": 81,
   "id": "8fcad1a7",
   "metadata": {},
   "outputs": [],
   "source": [
    "class mor_clau(calulator): # 자식 클래스\n",
    "#     def __init__(self, first, second):\n",
    "#         self.first = first\n",
    "#         self.second = second\n",
    "#     def add(self):\n",
    "#         self.result = self.first + self.second\n",
    "#     def div(self):\n",
    "#         self.result = self.first / self.second\n",
    "    def sub(self):\n",
    "        self.result = self.first - self.second\n",
    "    def mul(self):\n",
    "        self.result = self.first * self.second\n",
    "    def div(self): #  오버라이딩 : 재정의\n",
    "        if self.second == 0:\n",
    "            self.result = 0\n",
    "        else:\n",
    "            self.result = self.first / self.second"
   ]
  },
  {
   "cell_type": "code",
   "execution_count": 82,
   "id": "f0c32571",
   "metadata": {},
   "outputs": [
    {
     "name": "stdout",
     "output_type": "stream",
     "text": [
      "0\n"
     ]
    }
   ],
   "source": [
    "d = mor_clau(10, 0)\n",
    "d.div() # 상속받은 함수가 실행되는 것이 아니라 재정의 된 함수가 실행된다.\n",
    "print(d.result)"
   ]
  },
  {
   "cell_type": "code",
   "execution_count": 83,
   "id": "96e203eb",
   "metadata": {},
   "outputs": [
    {
     "name": "stdout",
     "output_type": "stream",
     "text": [
      "2.0\n"
     ]
    }
   ],
   "source": [
    "e = mor_clau(4, 2)\n",
    "e.div()\n",
    "print(e.result)\n",
    "##  오버라이딩 : 상속 받은 함수를 자식 클래스에 재정의 하여 함수를 사용하는 것\n",
    "## 오버라이딩된 함수가 있는 경우 부모 클래스로부터 받은 함수를 사용하지 않고 \n",
    "## 자식 클래스에서 재정의한 함수를 사용하게 된다."
   ]
  },
  {
   "cell_type": "code",
   "execution_count": null,
   "id": "20c13933",
   "metadata": {},
   "outputs": [],
   "source": [
    "## 클래스 : 반복적으로 정의해야 되는 변수와 함수를 묶어 놓은 것을 클래스이다.\n",
    "# 객체 : 클래스에 의해서 만들어진 변수를 객체\n",
    "## 객체 선언\n",
    "# 변수명 = 클래스명()  : 변수명은 객체이다.\n",
    "# 변수명.함수명() ==> 객체.함수명()\n",
    "# 변수명.멤버변수 ==> 객체.멤버변수\n",
    "# 생성자 : 객체가 생성시에 자동으로 실행되서 멤버필드를 초기화 해주는 것 \n",
    "#          __init__(self, num1, num2,...)\n",
    "# 객체 = 클래스명(값1, 값2,...)\n",
    "# 상속 : 부모클래스에 있는 멤버필드나 함수를 자식클래스에 전이시키는 것\n",
    "# 객체 = 자식클래스()\n",
    "# 객체.부모클래스 함수()\n",
    "# 오버라이딩 : 상속 받은 함수를 자식 클래스에서 다시 정의 하는 것을 말한다."
   ]
  },
  {
   "cell_type": "code",
   "execution_count": 85,
   "id": "7de9ff17",
   "metadata": {},
   "outputs": [
    {
     "name": "stdout",
     "output_type": "stream",
     "text": [
      "1\n"
     ]
    }
   ],
   "source": [
    "import random # 모듈\n",
    "num = random.randint(0,10)\n",
    "print(num)"
   ]
  },
  {
   "cell_type": "code",
   "execution_count": null,
   "id": "d71e6441",
   "metadata": {},
   "outputs": [],
   "source": [
    "## 모듈이란 변수나 함수 그리고 클래스 등을 모아둔 파일을 모듈이라 하고 확장자는 py이다."
   ]
  },
  {
   "cell_type": "code",
   "execution_count": 1,
   "id": "4a718e8b",
   "metadata": {},
   "outputs": [
    {
     "name": "stdout",
     "output_type": "stream",
     "text": [
      "14\n"
     ]
    }
   ],
   "source": [
    "import mod1\n",
    "num = mod1.add11(10, 4)\n",
    "print(num)"
   ]
  },
  {
   "cell_type": "code",
   "execution_count": 91,
   "id": "18a98ac2",
   "metadata": {},
   "outputs": [
    {
     "name": "stdout",
     "output_type": "stream",
     "text": [
      "3.141592\n"
     ]
    }
   ],
   "source": [
    "print(mod1.PI)"
   ]
  },
  {
   "cell_type": "code",
   "execution_count": 92,
   "id": "924b1cbb",
   "metadata": {},
   "outputs": [
    {
     "name": "stdout",
     "output_type": "stream",
     "text": [
      "14\n"
     ]
    }
   ],
   "source": [
    "obj = mod1.calculator(10, 4)\n",
    "num = obj.add()\n",
    "print(num)"
   ]
  },
  {
   "cell_type": "code",
   "execution_count": 3,
   "id": "4638b984",
   "metadata": {},
   "outputs": [
    {
     "name": "stdout",
     "output_type": "stream",
     "text": [
      "3.141592\n",
      "14\n"
     ]
    }
   ],
   "source": [
    "from mod1 import PI\n",
    "print(PI)\n",
    "num = mod1.add11(10, 4)\n",
    "print(num)"
   ]
  },
  {
   "cell_type": "code",
   "execution_count": 5,
   "id": "eb2c47aa",
   "metadata": {},
   "outputs": [
    {
     "name": "stdout",
     "output_type": "stream",
     "text": [
      "3.141592\n",
      "14\n",
      "7\n"
     ]
    }
   ],
   "source": [
    "from mod1 import *\n",
    "print(PI)\n",
    "num = add11(10, 4)\n",
    "print(num)\n",
    "obj1 = calculator(4, 3)\n",
    "num = obj1.add()\n",
    "print(num)"
   ]
  },
  {
   "cell_type": "code",
   "execution_count": 2,
   "id": "e833e654",
   "metadata": {},
   "outputs": [
    {
     "name": "stdout",
     "output_type": "stream",
     "text": [
      "3.141592\n",
      "15\n"
     ]
    }
   ],
   "source": [
    "import mod1 as md\n",
    "print(md.PI)\n",
    "num = md.obj12.add()\n",
    "print(num)"
   ]
  },
  {
   "cell_type": "code",
   "execution_count": 17,
   "id": "7b89a99b",
   "metadata": {},
   "outputs": [
    {
     "name": "stdout",
     "output_type": "stream",
     "text": [
      "나눌 첫번째 수를 입력하시오. : 4\n",
      "나눌 두번째 수를 입력하시오. : ㅁ\n",
      "오류를 예외처리했어요.\n",
      "num2는 0이 와서는 안됩니다.\n",
      "종료하려면 'y' 계속하려면 아무키나 누르시오 4\n",
      "나눌 첫번째 수를 입력하시오. : 0\n",
      "나눌 두번째 수를 입력하시오. : \n",
      "오류를 예외처리했어요.\n",
      "num2는 0이 와서는 안됩니다.\n",
      "종료하려면 'y' 계속하려면 아무키나 누르시오 ㅛ\n",
      "나눌 첫번째 수를 입력하시오. : \n",
      "오류를 예외처리했어요.\n",
      "num2는 0이 와서는 안됩니다.\n",
      "종료하려면 'y' 계속하려면 아무키나 누르시오 \n",
      "나눌 첫번째 수를 입력하시오. : \n",
      "오류를 예외처리했어요.\n",
      "num2는 0이 와서는 안됩니다.\n",
      "종료하려면 'y' 계속하려면 아무키나 누르시오 \n",
      "나눌 첫번째 수를 입력하시오. : \n",
      "오류를 예외처리했어요.\n",
      "num2는 0이 와서는 안됩니다.\n",
      "종료하려면 'y' 계속하려면 아무키나 누르시오 y\n"
     ]
    }
   ],
   "source": [
    "while True:\n",
    "    try:\n",
    "        num1 = int(input(\"나눌 첫번째 수를 입력하시오. : \"))\n",
    "        num2 = int(input(\"나눌 두번째 수를 입력하시오. : \"))\n",
    "        print(num1 / num2)\n",
    "    except: # 모든 오류에 대해서 예외를 하라\n",
    "        print(\"오류를 예외처리했어요.\")\n",
    "        print(\"num2는 0이 와서는 안됩니다.\")\n",
    "    stop = input(\"종료하려면 'y' 계속하려면 아무키나 누르시오 \")\n",
    "    if stop == 'y':\n",
    "        break"
   ]
  },
  {
   "cell_type": "code",
   "execution_count": 16,
   "id": "f04c629c",
   "metadata": {},
   "outputs": [
    {
     "name": "stdout",
     "output_type": "stream",
     "text": [
      "나눌 첫번째 수를 입력하시오. : 4\n",
      "나눌 두번째 수를 입력하시오. : ㅁ\n",
      "문자가 아닌 숫자를 입력해주세요. \n",
      "종료하려면 'y' 계속하려면 아무키나 누르시오 4\n",
      "나눌 첫번째 수를 입력하시오. : 0\n"
     ]
    },
    {
     "ename": "KeyboardInterrupt",
     "evalue": "Interrupted by user",
     "output_type": "error",
     "traceback": [
      "\u001b[1;31m---------------------------------------------------------------------------\u001b[0m",
      "\u001b[1;31mKeyboardInterrupt\u001b[0m                         Traceback (most recent call last)",
      "\u001b[1;32m~\\AppData\\Local\\Temp/ipykernel_4548/1139820266.py\u001b[0m in \u001b[0;36m<module>\u001b[1;34m\u001b[0m\n\u001b[0;32m      2\u001b[0m     \u001b[1;32mtry\u001b[0m\u001b[1;33m:\u001b[0m\u001b[1;33m\u001b[0m\u001b[1;33m\u001b[0m\u001b[0m\n\u001b[0;32m      3\u001b[0m         \u001b[0mnum1\u001b[0m \u001b[1;33m=\u001b[0m \u001b[0mint\u001b[0m\u001b[1;33m(\u001b[0m\u001b[0minput\u001b[0m\u001b[1;33m(\u001b[0m\u001b[1;34m\"나눌 첫번째 수를 입력하시오. : \"\u001b[0m\u001b[1;33m)\u001b[0m\u001b[1;33m)\u001b[0m\u001b[1;33m\u001b[0m\u001b[1;33m\u001b[0m\u001b[0m\n\u001b[1;32m----> 4\u001b[1;33m         \u001b[0mnum2\u001b[0m \u001b[1;33m=\u001b[0m \u001b[0mint\u001b[0m\u001b[1;33m(\u001b[0m\u001b[0minput\u001b[0m\u001b[1;33m(\u001b[0m\u001b[1;34m\"나눌 두번째 수를 입력하시오. : \"\u001b[0m\u001b[1;33m)\u001b[0m\u001b[1;33m)\u001b[0m\u001b[1;33m\u001b[0m\u001b[1;33m\u001b[0m\u001b[0m\n\u001b[0m\u001b[0;32m      5\u001b[0m         \u001b[0mprint\u001b[0m\u001b[1;33m(\u001b[0m\u001b[0mnum1\u001b[0m \u001b[1;33m/\u001b[0m \u001b[0mnum2\u001b[0m\u001b[1;33m)\u001b[0m\u001b[1;33m\u001b[0m\u001b[1;33m\u001b[0m\u001b[0m\n\u001b[0;32m      6\u001b[0m     \u001b[1;32mexcept\u001b[0m \u001b[0mZeroDivisionError\u001b[0m \u001b[1;33m:\u001b[0m \u001b[1;31m# 분모가 0일때만 오류가 발생할 때 예외처리를 해라.\u001b[0m\u001b[1;33m\u001b[0m\u001b[1;33m\u001b[0m\u001b[0m\n",
      "\u001b[1;32m~\\anaconda3\\envs\\kosa10\\lib\\site-packages\\ipykernel\\kernelbase.py\u001b[0m in \u001b[0;36mraw_input\u001b[1;34m(self, prompt)\u001b[0m\n\u001b[0;32m   1004\u001b[0m                 \u001b[1;34m\"raw_input was called, but this frontend does not support input requests.\"\u001b[0m\u001b[1;33m\u001b[0m\u001b[1;33m\u001b[0m\u001b[0m\n\u001b[0;32m   1005\u001b[0m             )\n\u001b[1;32m-> 1006\u001b[1;33m         return self._input_request(\n\u001b[0m\u001b[0;32m   1007\u001b[0m             \u001b[0mstr\u001b[0m\u001b[1;33m(\u001b[0m\u001b[0mprompt\u001b[0m\u001b[1;33m)\u001b[0m\u001b[1;33m,\u001b[0m\u001b[1;33m\u001b[0m\u001b[1;33m\u001b[0m\u001b[0m\n\u001b[0;32m   1008\u001b[0m             \u001b[0mself\u001b[0m\u001b[1;33m.\u001b[0m\u001b[0m_parent_ident\u001b[0m\u001b[1;33m[\u001b[0m\u001b[1;34m\"shell\"\u001b[0m\u001b[1;33m]\u001b[0m\u001b[1;33m,\u001b[0m\u001b[1;33m\u001b[0m\u001b[1;33m\u001b[0m\u001b[0m\n",
      "\u001b[1;32m~\\anaconda3\\envs\\kosa10\\lib\\site-packages\\ipykernel\\kernelbase.py\u001b[0m in \u001b[0;36m_input_request\u001b[1;34m(self, prompt, ident, parent, password)\u001b[0m\n\u001b[0;32m   1049\u001b[0m             \u001b[1;32mexcept\u001b[0m \u001b[0mKeyboardInterrupt\u001b[0m\u001b[1;33m:\u001b[0m\u001b[1;33m\u001b[0m\u001b[1;33m\u001b[0m\u001b[0m\n\u001b[0;32m   1050\u001b[0m                 \u001b[1;31m# re-raise KeyboardInterrupt, to truncate traceback\u001b[0m\u001b[1;33m\u001b[0m\u001b[1;33m\u001b[0m\u001b[1;33m\u001b[0m\u001b[0m\n\u001b[1;32m-> 1051\u001b[1;33m                 \u001b[1;32mraise\u001b[0m \u001b[0mKeyboardInterrupt\u001b[0m\u001b[1;33m(\u001b[0m\u001b[1;34m\"Interrupted by user\"\u001b[0m\u001b[1;33m)\u001b[0m \u001b[1;32mfrom\u001b[0m \u001b[1;32mNone\u001b[0m\u001b[1;33m\u001b[0m\u001b[1;33m\u001b[0m\u001b[0m\n\u001b[0m\u001b[0;32m   1052\u001b[0m             \u001b[1;32mexcept\u001b[0m \u001b[0mException\u001b[0m\u001b[1;33m:\u001b[0m\u001b[1;33m\u001b[0m\u001b[1;33m\u001b[0m\u001b[0m\n\u001b[0;32m   1053\u001b[0m                 \u001b[0mself\u001b[0m\u001b[1;33m.\u001b[0m\u001b[0mlog\u001b[0m\u001b[1;33m.\u001b[0m\u001b[0mwarning\u001b[0m\u001b[1;33m(\u001b[0m\u001b[1;34m\"Invalid Message:\"\u001b[0m\u001b[1;33m,\u001b[0m \u001b[0mexc_info\u001b[0m\u001b[1;33m=\u001b[0m\u001b[1;32mTrue\u001b[0m\u001b[1;33m)\u001b[0m\u001b[1;33m\u001b[0m\u001b[1;33m\u001b[0m\u001b[0m\n",
      "\u001b[1;31mKeyboardInterrupt\u001b[0m: Interrupted by user"
     ]
    }
   ],
   "source": [
    "while True:\n",
    "    try:\n",
    "        num1 = int(input(\"나눌 첫번째 수를 입력하시오. : \"))\n",
    "        num2 = int(input(\"나눌 두번째 수를 입력하시오. : \"))\n",
    "        print(num1 / num2)\n",
    "    except ZeroDivisionError : # 분모가 0일때만 오류가 발생할 때 예외처리를 해라.\n",
    "        print(\"두번째 입력값은 0을 입력하면 안됩니다.\")\n",
    "    except ValueError :\n",
    "        print(\"문자가 아닌 숫자를 입력해주세요. \")\n",
    "    stop = input(\"종료하려면 'y' 계속하려면 아무키나 누르시오 \")\n",
    "    if stop == 'y':\n",
    "        break"
   ]
  },
  {
   "cell_type": "code",
   "execution_count": 18,
   "id": "36835ae4",
   "metadata": {},
   "outputs": [
    {
     "name": "stdout",
     "output_type": "stream",
     "text": [
      "나눌 첫번째 수를 입력하시오. : 4\n",
      "나눌 두번째 수를 입력하시오. : 0\n"
     ]
    },
    {
     "ename": "KeyboardInterrupt",
     "evalue": "Interrupted by user",
     "output_type": "error",
     "traceback": [
      "\u001b[1;31m---------------------------------------------------------------------------\u001b[0m",
      "\u001b[1;31mKeyboardInterrupt\u001b[0m                         Traceback (most recent call last)",
      "\u001b[1;32m~\\AppData\\Local\\Temp/ipykernel_4548/3283106189.py\u001b[0m in \u001b[0;36m<module>\u001b[1;34m\u001b[0m\n\u001b[0;32m      6\u001b[0m     \u001b[1;32mexcept\u001b[0m\u001b[1;33m:\u001b[0m \u001b[1;31m# 모든 오류에 대해서 예외를 하라\u001b[0m\u001b[1;33m\u001b[0m\u001b[1;33m\u001b[0m\u001b[0m\n\u001b[0;32m      7\u001b[0m         \u001b[1;32mpass\u001b[0m \u001b[1;31m#  예외가 발생한 경우 아무처리도 하지 않는다\u001b[0m\u001b[1;33m\u001b[0m\u001b[1;33m\u001b[0m\u001b[0m\n\u001b[1;32m----> 8\u001b[1;33m     \u001b[0mstop\u001b[0m \u001b[1;33m=\u001b[0m \u001b[0minput\u001b[0m\u001b[1;33m(\u001b[0m\u001b[1;34m\"종료하려면 'y' 계속하려면 아무키나 누르시오 \"\u001b[0m\u001b[1;33m)\u001b[0m\u001b[1;33m\u001b[0m\u001b[1;33m\u001b[0m\u001b[0m\n\u001b[0m\u001b[0;32m      9\u001b[0m     \u001b[1;32mif\u001b[0m \u001b[0mstop\u001b[0m \u001b[1;33m==\u001b[0m \u001b[1;34m'y'\u001b[0m\u001b[1;33m:\u001b[0m\u001b[1;33m\u001b[0m\u001b[1;33m\u001b[0m\u001b[0m\n\u001b[0;32m     10\u001b[0m         \u001b[1;32mbreak\u001b[0m\u001b[1;33m\u001b[0m\u001b[1;33m\u001b[0m\u001b[0m\n",
      "\u001b[1;32m~\\anaconda3\\envs\\kosa10\\lib\\site-packages\\ipykernel\\kernelbase.py\u001b[0m in \u001b[0;36mraw_input\u001b[1;34m(self, prompt)\u001b[0m\n\u001b[0;32m   1004\u001b[0m                 \u001b[1;34m\"raw_input was called, but this frontend does not support input requests.\"\u001b[0m\u001b[1;33m\u001b[0m\u001b[1;33m\u001b[0m\u001b[0m\n\u001b[0;32m   1005\u001b[0m             )\n\u001b[1;32m-> 1006\u001b[1;33m         return self._input_request(\n\u001b[0m\u001b[0;32m   1007\u001b[0m             \u001b[0mstr\u001b[0m\u001b[1;33m(\u001b[0m\u001b[0mprompt\u001b[0m\u001b[1;33m)\u001b[0m\u001b[1;33m,\u001b[0m\u001b[1;33m\u001b[0m\u001b[1;33m\u001b[0m\u001b[0m\n\u001b[0;32m   1008\u001b[0m             \u001b[0mself\u001b[0m\u001b[1;33m.\u001b[0m\u001b[0m_parent_ident\u001b[0m\u001b[1;33m[\u001b[0m\u001b[1;34m\"shell\"\u001b[0m\u001b[1;33m]\u001b[0m\u001b[1;33m,\u001b[0m\u001b[1;33m\u001b[0m\u001b[1;33m\u001b[0m\u001b[0m\n",
      "\u001b[1;32m~\\anaconda3\\envs\\kosa10\\lib\\site-packages\\ipykernel\\kernelbase.py\u001b[0m in \u001b[0;36m_input_request\u001b[1;34m(self, prompt, ident, parent, password)\u001b[0m\n\u001b[0;32m   1049\u001b[0m             \u001b[1;32mexcept\u001b[0m \u001b[0mKeyboardInterrupt\u001b[0m\u001b[1;33m:\u001b[0m\u001b[1;33m\u001b[0m\u001b[1;33m\u001b[0m\u001b[0m\n\u001b[0;32m   1050\u001b[0m                 \u001b[1;31m# re-raise KeyboardInterrupt, to truncate traceback\u001b[0m\u001b[1;33m\u001b[0m\u001b[1;33m\u001b[0m\u001b[1;33m\u001b[0m\u001b[0m\n\u001b[1;32m-> 1051\u001b[1;33m                 \u001b[1;32mraise\u001b[0m \u001b[0mKeyboardInterrupt\u001b[0m\u001b[1;33m(\u001b[0m\u001b[1;34m\"Interrupted by user\"\u001b[0m\u001b[1;33m)\u001b[0m \u001b[1;32mfrom\u001b[0m \u001b[1;32mNone\u001b[0m\u001b[1;33m\u001b[0m\u001b[1;33m\u001b[0m\u001b[0m\n\u001b[0m\u001b[0;32m   1052\u001b[0m             \u001b[1;32mexcept\u001b[0m \u001b[0mException\u001b[0m\u001b[1;33m:\u001b[0m\u001b[1;33m\u001b[0m\u001b[1;33m\u001b[0m\u001b[0m\n\u001b[0;32m   1053\u001b[0m                 \u001b[0mself\u001b[0m\u001b[1;33m.\u001b[0m\u001b[0mlog\u001b[0m\u001b[1;33m.\u001b[0m\u001b[0mwarning\u001b[0m\u001b[1;33m(\u001b[0m\u001b[1;34m\"Invalid Message:\"\u001b[0m\u001b[1;33m,\u001b[0m \u001b[0mexc_info\u001b[0m\u001b[1;33m=\u001b[0m\u001b[1;32mTrue\u001b[0m\u001b[1;33m)\u001b[0m\u001b[1;33m\u001b[0m\u001b[1;33m\u001b[0m\u001b[0m\n",
      "\u001b[1;31mKeyboardInterrupt\u001b[0m: Interrupted by user"
     ]
    }
   ],
   "source": [
    "while True:\n",
    "    try: ### 오류가 발생하는 명령문에 적어준다\n",
    "        num1 = int(input(\"나눌 첫번째 수를 입력하시오. : \"))\n",
    "        num2 = int(input(\"나눌 두번째 수를 입력하시오. : \"))\n",
    "        print(num1 / num2)\n",
    "    except: # 모든 오류에 대해서 예외를 하라\n",
    "        pass #  예외가 발생한 경우 아무처리도 하지 않는다\n",
    "    stop = input(\"종료하려면 'y' 계속하려면 아무키나 누르시오 \")\n",
    "    if stop == 'y':\n",
    "        break"
   ]
  },
  {
   "cell_type": "code",
   "execution_count": 19,
   "id": "8b3e9daf",
   "metadata": {},
   "outputs": [
    {
     "name": "stdout",
     "output_type": "stream",
     "text": [
      "3.8.12 (default, Oct 12 2021, 03:01:40) [MSC v.1916 64 bit (AMD64)]\n"
     ]
    }
   ],
   "source": [
    "import sys\n",
    "print(sys.version)"
   ]
  },
  {
   "cell_type": "code",
   "execution_count": null,
   "id": "4ce54cc5",
   "metadata": {},
   "outputs": [],
   "source": []
  },
  {
   "cell_type": "code",
   "execution_count": null,
   "id": "44100b30",
   "metadata": {},
   "outputs": [],
   "source": []
  },
  {
   "cell_type": "code",
   "execution_count": null,
   "id": "46af38bd",
   "metadata": {},
   "outputs": [],
   "source": []
  },
  {
   "cell_type": "code",
   "execution_count": null,
   "id": "81e0280b",
   "metadata": {},
   "outputs": [],
   "source": []
  },
  {
   "cell_type": "code",
   "execution_count": null,
   "id": "fb0e9b84",
   "metadata": {},
   "outputs": [],
   "source": []
  }
 ],
 "metadata": {
  "kernelspec": {
   "display_name": "Python 3 (ipykernel)",
   "language": "python",
   "name": "python3"
  },
  "language_info": {
   "codemirror_mode": {
    "name": "ipython",
    "version": 3
   },
   "file_extension": ".py",
   "mimetype": "text/x-python",
   "name": "python",
   "nbconvert_exporter": "python",
   "pygments_lexer": "ipython3",
   "version": "3.8.12"
  }
 },
 "nbformat": 4,
 "nbformat_minor": 5
}
