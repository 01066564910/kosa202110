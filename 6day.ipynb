{
 "cells": [
  {
   "cell_type": "code",
   "execution_count": 1,
   "id": "c7a6ee67",
   "metadata": {},
   "outputs": [
    {
     "data": {
      "text/html": [
       "<style>\n",
       "div.container { width:100% !important; }\n",
       "div.CodeMirror {font-family: Consolas; font-size: 35pt;}\n",
       "div.output { font-size: 16pt; font-weight: bold;}\n",
       "div.input { font-family: Consolas; font-size: 35pt;}\n",
       "div.prompt { min-width: 100px;}\n",
       "</style>\n"
      ],
      "text/plain": [
       "<IPython.core.display.HTML object>"
      ]
     },
     "metadata": {},
     "output_type": "display_data"
    }
   ],
   "source": [
    "from IPython.core.display import display, HTML\n",
    "display(HTML(\n",
    "\"\"\"<style>\n",
    "div.container { width:100% !important; }\n",
    "div.CodeMirror {font-family: Consolas; font-size: 35pt;}\n",
    "div.output { font-size: 16pt; font-weight: bold;}\n",
    "div.input { font-family: Consolas; font-size: 35pt;}\n",
    "div.prompt { min-width: 100px;}\n",
    "</style>\n",
    "\"\"\"))"
   ]
  },
  {
   "cell_type": "code",
   "execution_count": 5,
   "id": "2baa3310",
   "metadata": {},
   "outputs": [
    {
     "name": "stdout",
     "output_type": "stream",
     "text": [
      "1\n",
      "5\n",
      "12\n"
     ]
    }
   ],
   "source": [
    "#### class\n",
    "result = 0\n",
    "result = result + 1\n",
    "print(result)\n",
    "result = result + 4\n",
    "print(result)\n",
    "result = result + 7\n",
    "print(result)"
   ]
  },
  {
   "cell_type": "code",
   "execution_count": 6,
   "id": "07591c0c",
   "metadata": {},
   "outputs": [
    {
     "name": "stdout",
     "output_type": "stream",
     "text": [
      "12\n"
     ]
    }
   ],
   "source": [
    "print(result)"
   ]
  },
  {
   "cell_type": "code",
   "execution_count": 14,
   "id": "15bb2d3d",
   "metadata": {},
   "outputs": [],
   "source": [
    "result = 0\n",
    "def add(num):\n",
    "    global result\n",
    "    result = result + num"
   ]
  },
  {
   "cell_type": "code",
   "execution_count": 15,
   "id": "ece8a436",
   "metadata": {},
   "outputs": [
    {
     "name": "stdout",
     "output_type": "stream",
     "text": [
      "1\n",
      "5\n",
      "12\n"
     ]
    }
   ],
   "source": [
    "add(1)\n",
    "print(result)\n",
    "add(4)\n",
    "print(result)\n",
    "add(7)\n",
    "print(result)"
   ]
  },
  {
   "cell_type": "code",
   "execution_count": 16,
   "id": "90595d8f",
   "metadata": {},
   "outputs": [
    {
     "name": "stdout",
     "output_type": "stream",
     "text": [
      "12\n"
     ]
    }
   ],
   "source": [
    "print(result)"
   ]
  },
  {
   "cell_type": "code",
   "execution_count": 17,
   "id": "6e8470fd",
   "metadata": {},
   "outputs": [
    {
     "name": "stdout",
     "output_type": "stream",
     "text": [
      "1\n",
      "8\n"
     ]
    }
   ],
   "source": [
    "result1 = 0\n",
    "result1 = result1 + 1\n",
    "print(result1)\n",
    "result1 = result1 + 7\n",
    "print(result1)"
   ]
  },
  {
   "cell_type": "code",
   "execution_count": 18,
   "id": "db94d23a",
   "metadata": {},
   "outputs": [],
   "source": [
    "result1 = 0\n",
    "def add1(num):\n",
    "    global result1\n",
    "    result1 = result1 + num"
   ]
  },
  {
   "cell_type": "code",
   "execution_count": 19,
   "id": "54c369fb",
   "metadata": {},
   "outputs": [
    {
     "name": "stdout",
     "output_type": "stream",
     "text": [
      "3\n",
      "8\n"
     ]
    }
   ],
   "source": [
    "add1(3)\n",
    "print(result1)\n",
    "add1(5)\n",
    "print(result1)"
   ]
  },
  {
   "cell_type": "code",
   "execution_count": 20,
   "id": "857fb46b",
   "metadata": {},
   "outputs": [
    {
     "name": "stdout",
     "output_type": "stream",
     "text": [
      "12\n",
      "8\n"
     ]
    }
   ],
   "source": [
    "print(result)\n",
    "print(result1)"
   ]
  },
  {
   "cell_type": "code",
   "execution_count": 24,
   "id": "c4fe7bb0",
   "metadata": {},
   "outputs": [],
   "source": [
    "result2 = 0\n",
    "def add2(num):\n",
    "    global result2\n",
    "    result2 = result2 + num"
   ]
  },
  {
   "cell_type": "code",
   "execution_count": 25,
   "id": "bbe02c99",
   "metadata": {},
   "outputs": [
    {
     "name": "stdout",
     "output_type": "stream",
     "text": [
      "6\n",
      "16\n"
     ]
    }
   ],
   "source": [
    "add2(6)\n",
    "print(result2)\n",
    "add2(10)\n",
    "print(result2)"
   ]
  },
  {
   "cell_type": "code",
   "execution_count": 26,
   "id": "65683e76",
   "metadata": {},
   "outputs": [
    {
     "name": "stdout",
     "output_type": "stream",
     "text": [
      "12\n",
      "8\n",
      "16\n"
     ]
    }
   ],
   "source": [
    "print(result)\n",
    "print(result1)\n",
    "print(result2)"
   ]
  },
  {
   "cell_type": "code",
   "execution_count": 27,
   "id": "095e4aba",
   "metadata": {},
   "outputs": [],
   "source": [
    "### 변수와 함수를 묶어서 사용하는 것을 class\n",
    "class res:\n",
    "    result = 0\n",
    "    def add(self, num):\n",
    "        self.result = self.result + num"
   ]
  },
  {
   "cell_type": "code",
   "execution_count": 30,
   "id": "a09c9330",
   "metadata": {},
   "outputs": [
    {
     "name": "stdout",
     "output_type": "stream",
     "text": [
      "1\n",
      "4\n",
      "11\n"
     ]
    }
   ],
   "source": [
    "i = 10\n",
    "y = 10\n",
    "a = res() # result , add()\n",
    "a.add(1)\n",
    "print(a.result)\n",
    "a.add(3)\n",
    "print(a.result)\n",
    "a.add(7)\n",
    "print(a.result)"
   ]
  },
  {
   "cell_type": "code",
   "execution_count": 31,
   "id": "3f238f63",
   "metadata": {},
   "outputs": [
    {
     "name": "stdout",
     "output_type": "stream",
     "text": [
      "3\n",
      "7\n"
     ]
    }
   ],
   "source": [
    "b = res() # result , add()\n",
    "b.add(3)\n",
    "print(b.result)\n",
    "b.add(4)\n",
    "print(b.result)"
   ]
  },
  {
   "cell_type": "code",
   "execution_count": 32,
   "id": "e7d8101e",
   "metadata": {},
   "outputs": [
    {
     "name": "stdout",
     "output_type": "stream",
     "text": [
      "11\n",
      "7\n"
     ]
    }
   ],
   "source": [
    "print(a.result)\n",
    "print(b.result)"
   ]
  },
  {
   "cell_type": "code",
   "execution_count": 33,
   "id": "23f75ae5",
   "metadata": {},
   "outputs": [
    {
     "name": "stdout",
     "output_type": "stream",
     "text": [
      "6\n",
      "3\n"
     ]
    }
   ],
   "source": [
    "c = res() # 객체 생성\n",
    "d = res()\n",
    "e = res()\n",
    "c.add(6)\n",
    "print(c.result)\n",
    "d.add(3)\n",
    "print(d.result)\n",
    "# result3 = 0\n",
    "# def add3(num):\n",
    "#     global result3\n",
    "#     result3 = result3 + num\n",
    "# result4 = 0\n",
    "# def add4(num):\n",
    "#     global result4\n",
    "#     result4 = result4 + num"
   ]
  },
  {
   "cell_type": "code",
   "execution_count": 38,
   "id": "e9dbda95",
   "metadata": {},
   "outputs": [],
   "source": [
    "class calulator:\n",
    "    result = 0\n",
    "    def add(self, num):\n",
    "        self.result += num # self.result = self.result + num\n",
    "        # i = i + 1 : i += 1"
   ]
  },
  {
   "cell_type": "code",
   "execution_count": 41,
   "id": "6bdf9de3",
   "metadata": {},
   "outputs": [
    {
     "name": "stdout",
     "output_type": "stream",
     "text": [
      "0\n",
      "2\n",
      "5\n"
     ]
    }
   ],
   "source": [
    "cal1 = calulator() # 객체 생성 : result , add()\n",
    "print(cal1.result)\n",
    "cal1.add(2)\n",
    "print(cal1.result)\n",
    "cal1.add(3)\n",
    "print(cal1.result)"
   ]
  },
  {
   "cell_type": "code",
   "execution_count": 43,
   "id": "ad781673",
   "metadata": {},
   "outputs": [
    {
     "name": "stdout",
     "output_type": "stream",
     "text": [
      "0\n",
      "5\n"
     ]
    }
   ],
   "source": [
    "cal2 = calulator() \n",
    "print(cal2.result)\n",
    "cal2.add(5)\n",
    "print(cal2.result)"
   ]
  },
  {
   "cell_type": "code",
   "execution_count": 44,
   "id": "9f3d1f22",
   "metadata": {},
   "outputs": [
    {
     "name": "stdout",
     "output_type": "stream",
     "text": [
      "5\n",
      "5\n"
     ]
    }
   ],
   "source": [
    "print(cal1.result)\n",
    "print(cal2.result)"
   ]
  },
  {
   "cell_type": "code",
   "execution_count": 46,
   "id": "02ef2ded",
   "metadata": {},
   "outputs": [],
   "source": [
    "class calulator:\n",
    "    result = 0\n",
    "    def add(self, first, second):\n",
    "        self.result = first + second\n",
    "    def sub(self, first, second):\n",
    "        self.result = first - second\n",
    "    def mul(self, first, second):\n",
    "        self.result = first * second\n",
    "    def div(self, first, second):\n",
    "        self.result = first / second"
   ]
  },
  {
   "cell_type": "code",
   "execution_count": 47,
   "id": "af439f0c",
   "metadata": {},
   "outputs": [
    {
     "name": "stdout",
     "output_type": "stream",
     "text": [
      "10\n",
      "18\n"
     ]
    }
   ],
   "source": [
    "cal3 =  calulator()\n",
    "cal3.add(4, 6)\n",
    "print(cal3.result)\n",
    "cal4 = calulator()\n",
    "cal4.mul(3, 6)\n",
    "print(cal4.result)"
   ]
  },
  {
   "cell_type": "code",
   "execution_count": null,
   "id": "2e6c1e14",
   "metadata": {},
   "outputs": [],
   "source": []
  },
  {
   "cell_type": "code",
   "execution_count": null,
   "id": "fb18b9f8",
   "metadata": {},
   "outputs": [],
   "source": []
  },
  {
   "cell_type": "code",
   "execution_count": null,
   "id": "eb7a6c8e",
   "metadata": {},
   "outputs": [],
   "source": []
  },
  {
   "cell_type": "code",
   "execution_count": null,
   "id": "4b3aa991",
   "metadata": {},
   "outputs": [],
   "source": []
  },
  {
   "cell_type": "code",
   "execution_count": null,
   "id": "0cc04716",
   "metadata": {},
   "outputs": [],
   "source": []
  },
  {
   "cell_type": "code",
   "execution_count": null,
   "id": "c5814e7a",
   "metadata": {},
   "outputs": [],
   "source": []
  }
 ],
 "metadata": {
  "kernelspec": {
   "display_name": "Python 3 (ipykernel)",
   "language": "python",
   "name": "python3"
  },
  "language_info": {
   "codemirror_mode": {
    "name": "ipython",
    "version": 3
   },
   "file_extension": ".py",
   "mimetype": "text/x-python",
   "name": "python",
   "nbconvert_exporter": "python",
   "pygments_lexer": "ipython3",
   "version": "3.8.12"
  }
 },
 "nbformat": 4,
 "nbformat_minor": 5
}
