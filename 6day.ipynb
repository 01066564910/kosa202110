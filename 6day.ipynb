{
 "cells": [
  {
   "cell_type": "code",
   "execution_count": 1,
   "id": "050b8cff",
   "metadata": {},
   "outputs": [
    {
     "data": {
      "text/html": [
       "<style>\n",
       "div.container { width:100% !important; }\n",
       "div.CodeMirror {font-family: Consolas; font-size: 35pt;}\n",
       "div.output { font-size: 16pt; font-weight: bold;}\n",
       "div.input { font-family: Consolas; font-size: 35pt;}\n",
       "div.prompt { min-width: 100px;}\n",
       "</style>\n"
      ],
      "text/plain": [
       "<IPython.core.display.HTML object>"
      ]
     },
     "metadata": {},
     "output_type": "display_data"
    }
   ],
   "source": [
    "from IPython.core.display import display, HTML\n",
    "display(HTML(\n",
    "\"\"\"<style>\n",
    "div.container { width:100% !important; }\n",
    "div.CodeMirror {font-family: Consolas; font-size: 35pt;}\n",
    "div.output { font-size: 16pt; font-weight: bold;}\n",
    "div.input { font-family: Consolas; font-size: 35pt;}\n",
    "div.prompt { min-width: 100px;}\n",
    "</style>\n",
    "\"\"\"))"
   ]
  },
  {
   "cell_type": "code",
   "execution_count": 5,
   "id": "7933fd9e",
   "metadata": {},
   "outputs": [
    {
     "name": "stdout",
     "output_type": "stream",
     "text": [
      "1\n",
      "5\n",
      "12\n"
     ]
    }
   ],
   "source": [
    "#### class\n",
    "result = 0\n",
    "result = result + 1\n",
    "print(result)\n",
    "result = result + 4\n",
    "print(result)\n",
    "result = result + 7\n",
    "print(result)"
   ]
  },
  {
   "cell_type": "code",
   "execution_count": 6,
   "id": "518c4ea8",
   "metadata": {},
   "outputs": [
    {
     "name": "stdout",
     "output_type": "stream",
     "text": [
      "12\n"
     ]
    }
   ],
   "source": [
    "print(result)"
   ]
  },
  {
   "cell_type": "code",
   "execution_count": 14,
   "id": "4e3bcad4",
   "metadata": {},
   "outputs": [],
   "source": [
    "result = 0\n",
    "def add(num):\n",
    "    global result\n",
    "    result = result + num"
   ]
  },
  {
   "cell_type": "code",
   "execution_count": 15,
   "id": "9909b43a",
   "metadata": {},
   "outputs": [
    {
     "name": "stdout",
     "output_type": "stream",
     "text": [
      "1\n",
      "5\n",
      "12\n"
     ]
    }
   ],
   "source": [
    "add(1)\n",
    "print(result)\n",
    "add(4)\n",
    "print(result)\n",
    "add(7)\n",
    "print(result)"
   ]
  },
  {
   "cell_type": "code",
   "execution_count": 16,
   "id": "4ef48bbb",
   "metadata": {},
   "outputs": [
    {
     "name": "stdout",
     "output_type": "stream",
     "text": [
      "12\n"
     ]
    }
   ],
   "source": [
    "print(result)"
   ]
  },
  {
   "cell_type": "code",
   "execution_count": 17,
   "id": "caf94dcf",
   "metadata": {},
   "outputs": [
    {
     "name": "stdout",
     "output_type": "stream",
     "text": [
      "1\n",
      "8\n"
     ]
    }
   ],
   "source": [
    "result1 = 0\n",
    "result1 = result1 + 1\n",
    "print(result1)\n",
    "result1 = result1 + 7\n",
    "print(result1)"
   ]
  },
  {
   "cell_type": "code",
   "execution_count": 18,
   "id": "188c61df",
   "metadata": {},
   "outputs": [],
   "source": [
    "result1 = 0\n",
    "def add1(num):\n",
    "    global result1\n",
    "    result1 = result1 + num"
   ]
  },
  {
   "cell_type": "code",
   "execution_count": 19,
   "id": "92d725a9",
   "metadata": {},
   "outputs": [
    {
     "name": "stdout",
     "output_type": "stream",
     "text": [
      "3\n",
      "8\n"
     ]
    }
   ],
   "source": [
    "add1(3)\n",
    "print(result1)\n",
    "add1(5)\n",
    "print(result1)"
   ]
  },
  {
   "cell_type": "code",
   "execution_count": 20,
   "id": "c8542d07",
   "metadata": {},
   "outputs": [
    {
     "name": "stdout",
     "output_type": "stream",
     "text": [
      "12\n",
      "8\n"
     ]
    }
   ],
   "source": [
    "print(result)\n",
    "print(result1)"
   ]
  },
  {
   "cell_type": "code",
   "execution_count": 24,
   "id": "47436fce",
   "metadata": {},
   "outputs": [],
   "source": [
    "result2 = 0\n",
    "def add2(num):\n",
    "    global result2\n",
    "    result2 = result2 + num"
   ]
  },
  {
   "cell_type": "code",
   "execution_count": 25,
   "id": "707110a1",
   "metadata": {},
   "outputs": [
    {
     "name": "stdout",
     "output_type": "stream",
     "text": [
      "6\n",
      "16\n"
     ]
    }
   ],
   "source": [
    "add2(6)\n",
    "print(result2)\n",
    "add2(10)\n",
    "print(result2)"
   ]
  },
  {
   "cell_type": "code",
   "execution_count": 26,
   "id": "ea177801",
   "metadata": {},
   "outputs": [
    {
     "name": "stdout",
     "output_type": "stream",
     "text": [
      "12\n",
      "8\n",
      "16\n"
     ]
    }
   ],
   "source": [
    "print(result)\n",
    "print(result1)\n",
    "print(result2)"
   ]
  },
  {
   "cell_type": "code",
   "execution_count": 27,
   "id": "95ff2ba7",
   "metadata": {},
   "outputs": [],
   "source": [
    "### 변수와 함수를 묶어서 사용하는 것을 class\n",
    "class res:\n",
    "    result = 0\n",
    "    def add(self, num):\n",
    "        self.result = self.result + num"
   ]
  },
  {
   "cell_type": "code",
   "execution_count": 30,
   "id": "068953e4",
   "metadata": {},
   "outputs": [
    {
     "name": "stdout",
     "output_type": "stream",
     "text": [
      "1\n",
      "4\n",
      "11\n"
     ]
    }
   ],
   "source": [
    "i = 10\n",
    "y = 10\n",
    "a = res() # result , add()\n",
    "a.add(1)\n",
    "print(a.result)\n",
    "a.add(3)\n",
    "print(a.result)\n",
    "a.add(7)\n",
    "print(a.result)"
   ]
  },
  {
   "cell_type": "code",
   "execution_count": 31,
   "id": "00dacdd5",
   "metadata": {},
   "outputs": [
    {
     "name": "stdout",
     "output_type": "stream",
     "text": [
      "3\n",
      "7\n"
     ]
    }
   ],
   "source": [
    "b = res() # result , add()\n",
    "b.add(3)\n",
    "print(b.result)\n",
    "b.add(4)\n",
    "print(b.result)"
   ]
  },
  {
   "cell_type": "code",
   "execution_count": 32,
   "id": "88b83bd9",
   "metadata": {},
   "outputs": [
    {
     "name": "stdout",
     "output_type": "stream",
     "text": [
      "11\n",
      "7\n"
     ]
    }
   ],
   "source": [
    "print(a.result)\n",
    "print(b.result)"
   ]
  },
  {
   "cell_type": "code",
   "execution_count": 33,
   "id": "11a09ef9",
   "metadata": {},
   "outputs": [
    {
     "name": "stdout",
     "output_type": "stream",
     "text": [
      "6\n",
      "3\n"
     ]
    }
   ],
   "source": [
    "c = res() # 객체 생성\n",
    "d = res()\n",
    "e = res()\n",
    "c.add(6)\n",
    "print(c.result)\n",
    "d.add(3)\n",
    "print(d.result)\n",
    "# result3 = 0\n",
    "# def add3(num):\n",
    "#     global result3\n",
    "#     result3 = result3 + num\n",
    "# result4 = 0\n",
    "# def add4(num):\n",
    "#     global result4\n",
    "#     result4 = result4 + num"
   ]
  },
  {
   "cell_type": "code",
   "execution_count": 38,
   "id": "7d24aaf0",
   "metadata": {},
   "outputs": [],
   "source": [
    "class calulator:\n",
    "    result = 0\n",
    "    def add(self, num):\n",
    "        self.result += num # self.result = self.result + num\n",
    "        # i = i + 1 : i += 1"
   ]
  },
  {
   "cell_type": "code",
   "execution_count": 41,
   "id": "26111626",
   "metadata": {},
   "outputs": [
    {
     "name": "stdout",
     "output_type": "stream",
     "text": [
      "0\n",
      "2\n",
      "5\n"
     ]
    }
   ],
   "source": [
    "cal1 = calulator() # 객체 생성 : result , add()\n",
    "print(cal1.result)\n",
    "cal1.add(2)\n",
    "print(cal1.result)\n",
    "cal1.add(3)\n",
    "print(cal1.result)"
   ]
  },
  {
   "cell_type": "code",
   "execution_count": 43,
   "id": "4937ebbd",
   "metadata": {},
   "outputs": [
    {
     "name": "stdout",
     "output_type": "stream",
     "text": [
      "0\n",
      "5\n"
     ]
    }
   ],
   "source": [
    "cal2 = calulator() \n",
    "print(cal2.result)\n",
    "cal2.add(5)\n",
    "print(cal2.result)"
   ]
  },
  {
   "cell_type": "code",
   "execution_count": 44,
   "id": "93be0328",
   "metadata": {},
   "outputs": [
    {
     "name": "stdout",
     "output_type": "stream",
     "text": [
      "5\n",
      "5\n"
     ]
    }
   ],
   "source": [
    "print(cal1.result)\n",
    "print(cal2.result)"
   ]
  },
  {
   "cell_type": "code",
   "execution_count": 46,
   "id": "5bb0e760",
   "metadata": {},
   "outputs": [],
   "source": [
    "class calulator:\n",
    "    result = 0 # 멤버 변수, 멤버 필드\n",
    "    def add(self, first, second):\n",
    "        self.result = first + second\n",
    "    def sub(self, first, second):\n",
    "        self.result = first - second\n",
    "    def mul(self, first, second):\n",
    "        self.result = first * second\n",
    "    def div(self, first, second):\n",
    "        self.result = first / second"
   ]
  },
  {
   "cell_type": "code",
   "execution_count": 47,
   "id": "afca3866",
   "metadata": {},
   "outputs": [
    {
     "name": "stdout",
     "output_type": "stream",
     "text": [
      "10\n",
      "18\n"
     ]
    }
   ],
   "source": [
    "cal3 = calulator() # 객체\n",
    "cal3.add(4, 6)\n",
    "print(cal3.result) \n",
    "cal4 = calulator()\n",
    "cal4.mul(3, 6)\n",
    "print(cal4.result)\n",
    "cal5 = calulator()\n",
    "cal6 = calulator()\n",
    "cal7 = calulator()"
   ]
  },
  {
   "cell_type": "code",
   "execution_count": 49,
   "id": "e0c7df2a",
   "metadata": {},
   "outputs": [
    {
     "name": "stdout",
     "output_type": "stream",
     "text": [
      "7\n",
      "11\n"
     ]
    }
   ],
   "source": [
    "### self\n",
    "a = calulator() # add(self, first, second): self.result = first + second\n",
    "a.add(3, 4)\n",
    "print(a.result)\n",
    "calulator.add(a, 5, 6)\n",
    "print(a.result)\n",
    "a.add(4, 7) # calulator.add(a, 4, 7)\n",
    "print(a.result)\n",
    "a.sub(7, 4) # calulator.sub(a, 7, 4)"
   ]
  },
  {
   "cell_type": "code",
   "execution_count": null,
   "id": "66b8b8c8",
   "metadata": {},
   "outputs": [],
   "source": [
    "b = calulator()\n",
    "b.add(10 , 5) # calulator.add(b, 10, 5)\n",
    "              #  b.result = 10 + 5\n",
    "# 함수안에 있는 매개변수 self는 객체 자신을 나타낸다."
   ]
  },
  {
   "cell_type": "code",
   "execution_count": 57,
   "id": "825270aa",
   "metadata": {},
   "outputs": [],
   "source": [
    "### 멤버 필드의 초기화\n",
    "class calulator:\n",
    "    def setdata(self, num1, num2): # 멤버필드를 초기화하는 함수\n",
    "        self.first = num1\n",
    "        self.second = num2\n",
    "    def add(self):\n",
    "        self.result = self.first + self.second\n",
    "    def sub(self):\n",
    "        self.result = self.first - self.second\n",
    "    def mul(self):\n",
    "        self.result = self.first * self.second\n",
    "    def div(self):\n",
    "        self.result = self.first / self.second      "
   ]
  },
  {
   "cell_type": "code",
   "execution_count": 53,
   "id": "24617410",
   "metadata": {},
   "outputs": [
    {
     "name": "stdout",
     "output_type": "stream",
     "text": [
      "14\n",
      "2.5\n"
     ]
    }
   ],
   "source": [
    "e = calulator() # self = e\n",
    "e.setdata(10, 4) # e.first = 10, e.second = 4 # first,second멤버 초기화\n",
    "e.add() # e.result = e.first + e.second\n",
    "print(e.result)\n",
    "e.div() # e.result = e.first / e.second : e.result = 10 / 4\n",
    "print(e.result)"
   ]
  },
  {
   "cell_type": "code",
   "execution_count": 58,
   "id": "7e2a661c",
   "metadata": {},
   "outputs": [
    {
     "name": "stdout",
     "output_type": "stream",
     "text": [
      "8\n"
     ]
    }
   ],
   "source": [
    "f = calulator() ## self = f : java에서는 self를 this로 사용한다.\n",
    "f.setdata(4, 2) # f.first = 4, f.second = 2 # first,second멤버 초기화\n",
    "f.mul() # f.result = f.first * f.second : r.result = 4 * 2\n",
    "print(f.result)"
   ]
  },
  {
   "cell_type": "code",
   "execution_count": 59,
   "id": "d1211cab",
   "metadata": {},
   "outputs": [],
   "source": [
    "## 객체 생성과 동시에 멤버필드를 초기화 하기\n",
    "class calulator:\n",
    "    def __init__(self, num1, num2): #### 생성자\n",
    "        self.first = num1\n",
    "        self.second = num2\n",
    "    def add(self):\n",
    "        self.result = self.first + self.second\n",
    "    def sub(self):\n",
    "        self.result = self.first - self.second\n",
    "    def mul(self):\n",
    "        self.result = self.first * self.second\n",
    "    def div(self):\n",
    "        self.result = self.first / self.second "
   ]
  },
  {
   "cell_type": "code",
   "execution_count": 61,
   "id": "3c6aa593",
   "metadata": {},
   "outputs": [
    {
     "name": "stdout",
     "output_type": "stream",
     "text": [
      "10 4\n",
      "14\n"
     ]
    }
   ],
   "source": [
    "g = calulator(10, 4) # first, second에 값이 저장\n",
    "print(g.first, g.second) \n",
    "## __init__함수는 객체생성시에 자동으로 실행되는 함수이다.\n",
    "g.add()\n",
    "print(g.result)"
   ]
  },
  {
   "cell_type": "code",
   "execution_count": 63,
   "id": "054640d5",
   "metadata": {},
   "outputs": [
    {
     "ename": "TypeError",
     "evalue": "__init__() missing 2 required positional arguments: 'num1' and 'num2'",
     "output_type": "error",
     "traceback": [
      "\u001b[1;31m---------------------------------------------------------------------------\u001b[0m",
      "\u001b[1;31mTypeError\u001b[0m                                 Traceback (most recent call last)",
      "\u001b[1;32m~\\AppData\\Local\\Temp/ipykernel_4324/1373676895.py\u001b[0m in \u001b[0;36m<module>\u001b[1;34m\u001b[0m\n\u001b[1;32m----> 1\u001b[1;33m \u001b[0mh\u001b[0m \u001b[1;33m=\u001b[0m \u001b[0mcalulator\u001b[0m\u001b[1;33m(\u001b[0m\u001b[1;33m)\u001b[0m\u001b[1;33m\u001b[0m\u001b[1;33m\u001b[0m\u001b[0m\n\u001b[0m",
      "\u001b[1;31mTypeError\u001b[0m: __init__() missing 2 required positional arguments: 'num1' and 'num2'"
     ]
    }
   ],
   "source": [
    "h = calulator() # __init__()에 있는 매개변수 만큼 인자."
   ]
  },
  {
   "cell_type": "code",
   "execution_count": 64,
   "id": "337a09cd",
   "metadata": {},
   "outputs": [],
   "source": [
    "h = calulator(3, 4)\n",
    "# __init__()함수에 매개변수가 있다면 객체 생성할 때 꼭 초기값을 주어야 한다."
   ]
  },
  {
   "cell_type": "code",
   "execution_count": 65,
   "id": "9d7f0acf",
   "metadata": {},
   "outputs": [],
   "source": [
    "class calu:\n",
    "    def __init__(self):\n",
    "        print(\"객체 생성시에 자동으로 실행이 됩니다.\")"
   ]
  },
  {
   "cell_type": "code",
   "execution_count": 66,
   "id": "9312a21f",
   "metadata": {},
   "outputs": [
    {
     "name": "stdout",
     "output_type": "stream",
     "text": [
      "객체 생성시에 자동으로 실행이 됩니다.\n"
     ]
    }
   ],
   "source": [
    "t = calu()"
   ]
  },
  {
   "cell_type": "code",
   "execution_count": 67,
   "id": "e1e77b7c",
   "metadata": {},
   "outputs": [],
   "source": [
    "### 상속\n",
    "class calulator:\n",
    "    def __init__(self, first, second):\n",
    "        self.first = first\n",
    "        self.second = second\n",
    "    def add(self):\n",
    "        self.result = self.first + self.second\n",
    "    def div(self):\n",
    "        self.result = self.first / self.second"
   ]
  },
  {
   "cell_type": "code",
   "execution_count": null,
   "id": "46f1503f",
   "metadata": {},
   "outputs": [],
   "source": [
    "class mor_clau(calulator):\n",
    "#     def __init__(self, first, second):\n",
    "#         self.first = first\n",
    "#         self.second = second\n",
    "#     def add(self):\n",
    "#         self.result = self.first + self.second\n",
    "#     def div(self):\n",
    "#         self.result = self.first / self.second\n",
    "    def sub(self):\n",
    "        self.result = self.first - self.second\n",
    "    def mul(self):\n",
    "        self.result = self.first * self.second"
   ]
  },
  {
   "cell_type": "code",
   "execution_count": null,
   "id": "6a9e81c6",
   "metadata": {},
   "outputs": [],
   "source": []
  },
  {
   "cell_type": "code",
   "execution_count": null,
   "id": "22fcf636",
   "metadata": {},
   "outputs": [],
   "source": []
  },
  {
   "cell_type": "code",
   "execution_count": null,
   "id": "9076baec",
   "metadata": {},
   "outputs": [],
   "source": []
  },
  {
   "cell_type": "code",
   "execution_count": null,
   "id": "9a194ee1",
   "metadata": {},
   "outputs": [],
   "source": []
  },
  {
   "cell_type": "code",
   "execution_count": null,
   "id": "415bb9c5",
   "metadata": {},
   "outputs": [],
   "source": []
  },
  {
   "cell_type": "code",
   "execution_count": null,
   "id": "b10701f7",
   "metadata": {},
   "outputs": [],
   "source": []
  }
 ],
 "metadata": {
  "kernelspec": {
   "display_name": "Python 3 (ipykernel)",
   "language": "python",
   "name": "python3"
  },
  "language_info": {
   "codemirror_mode": {
    "name": "ipython",
    "version": 3
   },
   "file_extension": ".py",
   "mimetype": "text/x-python",
   "name": "python",
   "nbconvert_exporter": "python",
   "pygments_lexer": "ipython3",
   "version": "3.8.12"
  }
 },
 "nbformat": 4,
 "nbformat_minor": 5
}
