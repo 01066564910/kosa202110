{
 "cells": [
  {
   "cell_type": "code",
   "execution_count": 1,
   "id": "bac98c45",
   "metadata": {},
   "outputs": [
    {
     "data": {
      "text/html": [
       "<style>\n",
       "div.container { width:100% !important; }\n",
       "div.CodeMirror {font-family: Consolas; font-size: 35pt;}\n",
       "div.output { font-size: 16pt; font-weight: bold;}\n",
       "div.input { font-family: Consolas; font-size: 35pt;}\n",
       "div.prompt { min-width: 100px;}\n",
       "</style>\n"
      ],
      "text/plain": [
       "<IPython.core.display.HTML object>"
      ]
     },
     "metadata": {},
     "output_type": "display_data"
    }
   ],
   "source": [
    "from IPython.core.display import display, HTML\n",
    "display(HTML(\n",
    "\"\"\"<style>\n",
    "div.container { width:100% !important; }\n",
    "div.CodeMirror {font-family: Consolas; font-size: 35pt;}\n",
    "div.output { font-size: 16pt; font-weight: bold;}\n",
    "div.input { font-family: Consolas; font-size: 35pt;}\n",
    "div.prompt { min-width: 100px;}\n",
    "</style>\n",
    "\"\"\"))"
   ]
  },
  {
   "cell_type": "code",
   "execution_count": 5,
   "id": "178d2159",
   "metadata": {},
   "outputs": [
    {
     "name": "stdout",
     "output_type": "stream",
     "text": [
      "1\n",
      "5\n",
      "12\n"
     ]
    }
   ],
   "source": [
    "#### class\n",
    "result = 0\n",
    "result = result + 1\n",
    "print(result)\n",
    "result = result + 4\n",
    "print(result)\n",
    "result = result + 7\n",
    "print(result)"
   ]
  },
  {
   "cell_type": "code",
   "execution_count": 6,
   "id": "0e5824c6",
   "metadata": {},
   "outputs": [
    {
     "name": "stdout",
     "output_type": "stream",
     "text": [
      "12\n"
     ]
    }
   ],
   "source": [
    "print(result)"
   ]
  },
  {
   "cell_type": "code",
   "execution_count": 14,
   "id": "dc3d1616",
   "metadata": {},
   "outputs": [],
   "source": [
    "result = 0\n",
    "def add(num):\n",
    "    global result\n",
    "    result = result + num"
   ]
  },
  {
   "cell_type": "code",
   "execution_count": 15,
   "id": "d10936a9",
   "metadata": {},
   "outputs": [
    {
     "name": "stdout",
     "output_type": "stream",
     "text": [
      "1\n",
      "5\n",
      "12\n"
     ]
    }
   ],
   "source": [
    "add(1)\n",
    "print(result)\n",
    "add(4)\n",
    "print(result)\n",
    "add(7)\n",
    "print(result)"
   ]
  },
  {
   "cell_type": "code",
   "execution_count": 16,
   "id": "4a23e061",
   "metadata": {},
   "outputs": [
    {
     "name": "stdout",
     "output_type": "stream",
     "text": [
      "12\n"
     ]
    }
   ],
   "source": [
    "print(result)"
   ]
  },
  {
   "cell_type": "code",
   "execution_count": 17,
   "id": "a9a14859",
   "metadata": {},
   "outputs": [
    {
     "name": "stdout",
     "output_type": "stream",
     "text": [
      "1\n",
      "8\n"
     ]
    }
   ],
   "source": [
    "result1 = 0\n",
    "result1 = result1 + 1\n",
    "print(result1)\n",
    "result1 = result1 + 7\n",
    "print(result1)"
   ]
  },
  {
   "cell_type": "code",
   "execution_count": 18,
   "id": "346b3576",
   "metadata": {},
   "outputs": [],
   "source": [
    "result1 = 0\n",
    "def add1(num):\n",
    "    global result1\n",
    "    result1 = result1 + num"
   ]
  },
  {
   "cell_type": "code",
   "execution_count": 19,
   "id": "cee82207",
   "metadata": {},
   "outputs": [
    {
     "name": "stdout",
     "output_type": "stream",
     "text": [
      "3\n",
      "8\n"
     ]
    }
   ],
   "source": [
    "add1(3)\n",
    "print(result1)\n",
    "add1(5)\n",
    "print(result1)"
   ]
  },
  {
   "cell_type": "code",
   "execution_count": 20,
   "id": "f12725b1",
   "metadata": {},
   "outputs": [
    {
     "name": "stdout",
     "output_type": "stream",
     "text": [
      "12\n",
      "8\n"
     ]
    }
   ],
   "source": [
    "print(result)\n",
    "print(result1)"
   ]
  },
  {
   "cell_type": "code",
   "execution_count": 24,
   "id": "ce8d3bca",
   "metadata": {},
   "outputs": [],
   "source": [
    "result2 = 0\n",
    "def add2(num):\n",
    "    global result2\n",
    "    result2 = result2 + num"
   ]
  },
  {
   "cell_type": "code",
   "execution_count": 25,
   "id": "658e00e5",
   "metadata": {},
   "outputs": [
    {
     "name": "stdout",
     "output_type": "stream",
     "text": [
      "6\n",
      "16\n"
     ]
    }
   ],
   "source": [
    "add2(6)\n",
    "print(result2)\n",
    "add2(10)\n",
    "print(result2)"
   ]
  },
  {
   "cell_type": "code",
   "execution_count": 26,
   "id": "98dab02b",
   "metadata": {},
   "outputs": [
    {
     "name": "stdout",
     "output_type": "stream",
     "text": [
      "12\n",
      "8\n",
      "16\n"
     ]
    }
   ],
   "source": [
    "print(result)\n",
    "print(result1)\n",
    "print(result2)"
   ]
  },
  {
   "cell_type": "code",
   "execution_count": 27,
   "id": "dfbd6510",
   "metadata": {},
   "outputs": [],
   "source": [
    "### 변수와 함수를 묶어서 사용하는 것을 class\n",
    "class res:\n",
    "    result = 0\n",
    "    def add(self, num):\n",
    "        self.result = self.result + num"
   ]
  },
  {
   "cell_type": "code",
   "execution_count": 30,
   "id": "da72860a",
   "metadata": {},
   "outputs": [
    {
     "name": "stdout",
     "output_type": "stream",
     "text": [
      "1\n",
      "4\n",
      "11\n"
     ]
    }
   ],
   "source": [
    "i = 10\n",
    "y = 10\n",
    "a = res() # result , add()\n",
    "a.add(1)\n",
    "print(a.result)\n",
    "a.add(3)\n",
    "print(a.result)\n",
    "a.add(7)\n",
    "print(a.result)"
   ]
  },
  {
   "cell_type": "code",
   "execution_count": 31,
   "id": "15204d03",
   "metadata": {},
   "outputs": [
    {
     "name": "stdout",
     "output_type": "stream",
     "text": [
      "3\n",
      "7\n"
     ]
    }
   ],
   "source": [
    "b = res() # result , add()\n",
    "b.add(3)\n",
    "print(b.result)\n",
    "b.add(4)\n",
    "print(b.result)"
   ]
  },
  {
   "cell_type": "code",
   "execution_count": 32,
   "id": "6c484848",
   "metadata": {},
   "outputs": [
    {
     "name": "stdout",
     "output_type": "stream",
     "text": [
      "11\n",
      "7\n"
     ]
    }
   ],
   "source": [
    "print(a.result)\n",
    "print(b.result)"
   ]
  },
  {
   "cell_type": "code",
   "execution_count": 33,
   "id": "2ae1b936",
   "metadata": {},
   "outputs": [
    {
     "name": "stdout",
     "output_type": "stream",
     "text": [
      "6\n",
      "3\n"
     ]
    }
   ],
   "source": [
    "c = res() # 객체 생성\n",
    "d = res()\n",
    "e = res()\n",
    "c.add(6)\n",
    "print(c.result)\n",
    "d.add(3)\n",
    "print(d.result)\n",
    "# result3 = 0\n",
    "# def add3(num):\n",
    "#     global result3\n",
    "#     result3 = result3 + num\n",
    "# result4 = 0\n",
    "# def add4(num):\n",
    "#     global result4\n",
    "#     result4 = result4 + num"
   ]
  },
  {
   "cell_type": "code",
   "execution_count": 38,
   "id": "6b0196f4",
   "metadata": {},
   "outputs": [],
   "source": [
    "class calulator:\n",
    "    result = 0\n",
    "    def add(self, num):\n",
    "        self.result += num # self.result = self.result + num\n",
    "        # i = i + 1 : i += 1"
   ]
  },
  {
   "cell_type": "code",
   "execution_count": 41,
   "id": "4ccae508",
   "metadata": {},
   "outputs": [
    {
     "name": "stdout",
     "output_type": "stream",
     "text": [
      "0\n",
      "2\n",
      "5\n"
     ]
    }
   ],
   "source": [
    "cal1 = calulator() # 객체 생성 : result , add()\n",
    "print(cal1.result)\n",
    "cal1.add(2)\n",
    "print(cal1.result)\n",
    "cal1.add(3)\n",
    "print(cal1.result)"
   ]
  },
  {
   "cell_type": "code",
   "execution_count": 43,
   "id": "c5b47e07",
   "metadata": {},
   "outputs": [
    {
     "name": "stdout",
     "output_type": "stream",
     "text": [
      "0\n",
      "5\n"
     ]
    }
   ],
   "source": [
    "cal2 = calulator() \n",
    "print(cal2.result)\n",
    "cal2.add(5)\n",
    "print(cal2.result)"
   ]
  },
  {
   "cell_type": "code",
   "execution_count": 44,
   "id": "980946f5",
   "metadata": {},
   "outputs": [
    {
     "name": "stdout",
     "output_type": "stream",
     "text": [
      "5\n",
      "5\n"
     ]
    }
   ],
   "source": [
    "print(cal1.result)\n",
    "print(cal2.result)"
   ]
  },
  {
   "cell_type": "code",
   "execution_count": 46,
   "id": "5ef4ee38",
   "metadata": {},
   "outputs": [],
   "source": [
    "class calulator:\n",
    "    result = 0 # 멤버 변수, 멤버 필드\n",
    "    def add(self, first, second):\n",
    "        self.result = first + second\n",
    "    def sub(self, first, second):\n",
    "        self.result = first - second\n",
    "    def mul(self, first, second):\n",
    "        self.result = first * second\n",
    "    def div(self, first, second):\n",
    "        self.result = first / second"
   ]
  },
  {
   "cell_type": "code",
   "execution_count": 47,
   "id": "c31fcfb3",
   "metadata": {},
   "outputs": [
    {
     "name": "stdout",
     "output_type": "stream",
     "text": [
      "10\n",
      "18\n"
     ]
    }
   ],
   "source": [
    "cal3 = calulator() # 객체\n",
    "cal3.add(4, 6)\n",
    "print(cal3.result) \n",
    "cal4 = calulator()\n",
    "cal4.mul(3, 6)\n",
    "print(cal4.result)\n",
    "cal5 = calulator()\n",
    "cal6 = calulator()\n",
    "cal7 = calulator()"
   ]
  },
  {
   "cell_type": "code",
   "execution_count": 49,
   "id": "cd45ba1d",
   "metadata": {},
   "outputs": [
    {
     "name": "stdout",
     "output_type": "stream",
     "text": [
      "7\n",
      "11\n"
     ]
    }
   ],
   "source": [
    "### self\n",
    "a = calulator() # add(self, first, second): self.result = first + second\n",
    "a.add(3, 4)\n",
    "print(a.result)\n",
    "calulator.add(a, 5, 6)\n",
    "print(a.result)\n",
    "a.add(4, 7) # calulator.add(a, 4, 7)\n",
    "print(a.result)\n",
    "a.sub(7, 4) # calulator.sub(a, 7, 4)"
   ]
  },
  {
   "cell_type": "code",
   "execution_count": null,
   "id": "7ed60bc7",
   "metadata": {},
   "outputs": [],
   "source": [
    "b = calulator()\n",
    "b.add(10 , 5) # calulator.add(b, 10, 5)\n",
    "              #  b.result = 10 + 5\n",
    "# 함수안에 있는 매개변수 self는 객체 자신을 나타낸다."
   ]
  },
  {
   "cell_type": "code",
   "execution_count": 57,
   "id": "58f66a93",
   "metadata": {},
   "outputs": [],
   "source": [
    "### 멤버 필드의 초기화\n",
    "class calulator:\n",
    "    def setdata(self, num1, num2): # 멤버필드를 초기화하는 함수\n",
    "        self.first = num1\n",
    "        self.second = num2\n",
    "    def add(self):\n",
    "        self.result = self.first + self.second\n",
    "    def sub(self):\n",
    "        self.result = self.first - self.second\n",
    "    def mul(self):\n",
    "        self.result = self.first * self.second\n",
    "    def div(self):\n",
    "        self.result = self.first / self.second      "
   ]
  },
  {
   "cell_type": "code",
   "execution_count": 53,
   "id": "f16255df",
   "metadata": {},
   "outputs": [
    {
     "name": "stdout",
     "output_type": "stream",
     "text": [
      "14\n",
      "2.5\n"
     ]
    }
   ],
   "source": [
    "e = calulator() # self = e\n",
    "e.setdata(10, 4) # e.first = 10, e.second = 4 # first,second멤버 초기화\n",
    "e.add() # e.result = e.first + e.second\n",
    "print(e.result)\n",
    "e.div() # e.result = e.first / e.second : e.result = 10 / 4\n",
    "print(e.result)"
   ]
  },
  {
   "cell_type": "code",
   "execution_count": 58,
   "id": "c28a55d8",
   "metadata": {},
   "outputs": [
    {
     "name": "stdout",
     "output_type": "stream",
     "text": [
      "8\n"
     ]
    }
   ],
   "source": [
    "f = calulator() ## self = f : java에서는 self를 this로 사용한다.\n",
    "f.setdata(4, 2) # f.first = 4, f.second = 2 # first,second멤버 초기화\n",
    "f.mul() # f.result = f.first * f.second : r.result = 4 * 2\n",
    "print(f.result)"
   ]
  },
  {
   "cell_type": "code",
   "execution_count": 59,
   "id": "428784ef",
   "metadata": {},
   "outputs": [],
   "source": [
    "## 객체 생성과 동시에 멤버필드를 초기화 하기\n",
    "class calulator:\n",
    "    def __init__(self, num1, num2): #### 생성자\n",
    "        self.first = num1\n",
    "        self.second = num2\n",
    "    def add(self):\n",
    "        self.result = self.first + self.second\n",
    "    def sub(self):\n",
    "        self.result = self.first - self.second\n",
    "    def mul(self):\n",
    "        self.result = self.first * self.second\n",
    "    def div(self):\n",
    "        self.result = self.first / self.second "
   ]
  },
  {
   "cell_type": "code",
   "execution_count": 61,
   "id": "9195d171",
   "metadata": {},
   "outputs": [
    {
     "name": "stdout",
     "output_type": "stream",
     "text": [
      "10 4\n",
      "14\n"
     ]
    }
   ],
   "source": [
    "g = calulator(10, 4) # first, second에 값이 저장\n",
    "print(g.first, g.second) \n",
    "## __init__함수는 객체생성시에 자동으로 실행되는 함수이다.\n",
    "g.add()\n",
    "print(g.result)"
   ]
  },
  {
   "cell_type": "code",
   "execution_count": 63,
   "id": "171c8c18",
   "metadata": {},
   "outputs": [
    {
     "ename": "TypeError",
     "evalue": "__init__() missing 2 required positional arguments: 'num1' and 'num2'",
     "output_type": "error",
     "traceback": [
      "\u001b[1;31m---------------------------------------------------------------------------\u001b[0m",
      "\u001b[1;31mTypeError\u001b[0m                                 Traceback (most recent call last)",
      "\u001b[1;32m~\\AppData\\Local\\Temp/ipykernel_4324/1373676895.py\u001b[0m in \u001b[0;36m<module>\u001b[1;34m\u001b[0m\n\u001b[1;32m----> 1\u001b[1;33m \u001b[0mh\u001b[0m \u001b[1;33m=\u001b[0m \u001b[0mcalulator\u001b[0m\u001b[1;33m(\u001b[0m\u001b[1;33m)\u001b[0m\u001b[1;33m\u001b[0m\u001b[1;33m\u001b[0m\u001b[0m\n\u001b[0m",
      "\u001b[1;31mTypeError\u001b[0m: __init__() missing 2 required positional arguments: 'num1' and 'num2'"
     ]
    }
   ],
   "source": [
    "h = calulator() # __init__()에 있는 매개변수 만큼 인자."
   ]
  },
  {
   "cell_type": "code",
   "execution_count": 64,
   "id": "8e453b39",
   "metadata": {},
   "outputs": [],
   "source": [
    "h = calulator(3, 4)\n",
    "# __init__()함수에 매개변수가 있다면 객체 생성할 때 꼭 초기값을 주어야 한다."
   ]
  },
  {
   "cell_type": "code",
   "execution_count": 65,
   "id": "3599fd90",
   "metadata": {},
   "outputs": [],
   "source": [
    "class calu:\n",
    "    def __init__(self):\n",
    "        print(\"객체 생성시에 자동으로 실행이 됩니다.\")"
   ]
  },
  {
   "cell_type": "code",
   "execution_count": 66,
   "id": "70311f58",
   "metadata": {},
   "outputs": [
    {
     "name": "stdout",
     "output_type": "stream",
     "text": [
      "객체 생성시에 자동으로 실행이 됩니다.\n"
     ]
    }
   ],
   "source": [
    "t = calu()"
   ]
  },
  {
   "cell_type": "code",
   "execution_count": 69,
   "id": "3c6f0ade",
   "metadata": {},
   "outputs": [],
   "source": [
    "### 상속\n",
    "class calulator: # 부모 클래스\n",
    "    def __init__(self, first, second):\n",
    "        self.first = first\n",
    "        self.second = second\n",
    "    def add(self):\n",
    "        self.result = self.first + self.second\n",
    "    def div(self):\n",
    "        self.result = self.first / self.second"
   ]
  },
  {
   "cell_type": "code",
   "execution_count": 71,
   "id": "7c5d26a5",
   "metadata": {},
   "outputs": [],
   "source": [
    "class mor_clau:\n",
    "    def sub(self):\n",
    "        self.result = self.first - self.second\n",
    "    def mul(self):\n",
    "        self.result = self.first * self.second"
   ]
  },
  {
   "cell_type": "code",
   "execution_count": 72,
   "id": "8fdea408",
   "metadata": {},
   "outputs": [
    {
     "ename": "AttributeError",
     "evalue": "'mor_clau' object has no attribute 'add'",
     "output_type": "error",
     "traceback": [
      "\u001b[1;31m---------------------------------------------------------------------------\u001b[0m",
      "\u001b[1;31mAttributeError\u001b[0m                            Traceback (most recent call last)",
      "\u001b[1;32m~\\AppData\\Local\\Temp/ipykernel_4324/1565465221.py\u001b[0m in \u001b[0;36m<module>\u001b[1;34m\u001b[0m\n\u001b[0;32m      1\u001b[0m \u001b[0ma\u001b[0m \u001b[1;33m=\u001b[0m \u001b[0mmor_clau\u001b[0m\u001b[1;33m(\u001b[0m\u001b[1;33m)\u001b[0m\u001b[1;33m\u001b[0m\u001b[1;33m\u001b[0m\u001b[0m\n\u001b[1;32m----> 2\u001b[1;33m \u001b[0ma\u001b[0m\u001b[1;33m.\u001b[0m\u001b[0madd\u001b[0m\u001b[1;33m(\u001b[0m\u001b[1;33m)\u001b[0m\u001b[1;33m\u001b[0m\u001b[1;33m\u001b[0m\u001b[0m\n\u001b[0m",
      "\u001b[1;31mAttributeError\u001b[0m: 'mor_clau' object has no attribute 'add'"
     ]
    }
   ],
   "source": [
    "a = mor_clau()\n",
    "a.add()"
   ]
  },
  {
   "cell_type": "code",
   "execution_count": 73,
   "id": "f9caf1ad",
   "metadata": {},
   "outputs": [],
   "source": [
    "class mor_clau(calulator):\n",
    "#     def __init__(self, first, second):\n",
    "#         self.first = first\n",
    "#         self.second = second\n",
    "#     def add(self):\n",
    "#         self.result = self.first + self.second\n",
    "#     def div(self):\n",
    "#         self.result = self.first / self.second\n",
    "    def sub(self):\n",
    "        self.result = self.first - self.second\n",
    "    def mul(self):\n",
    "        self.result = self.first * self.second"
   ]
  },
  {
   "cell_type": "code",
   "execution_count": 75,
   "id": "13ce009d",
   "metadata": {},
   "outputs": [
    {
     "name": "stdout",
     "output_type": "stream",
     "text": [
      "14\n"
     ]
    }
   ],
   "source": [
    "a = mor_clau(10, 4)\n",
    "a.add()\n",
    "print(a.result)"
   ]
  },
  {
   "cell_type": "code",
   "execution_count": 77,
   "id": "74d814d7",
   "metadata": {},
   "outputs": [
    {
     "name": "stdout",
     "output_type": "stream",
     "text": [
      "10\n",
      "0.0\n"
     ]
    }
   ],
   "source": [
    "b = mor_clau(0, 10)\n",
    "b.add()\n",
    "print(b.result)\n",
    "b.div() # 0 / 10\n",
    "print(b.result)  # 부정"
   ]
  },
  {
   "cell_type": "code",
   "execution_count": 79,
   "id": "c6a996b7",
   "metadata": {},
   "outputs": [
    {
     "name": "stdout",
     "output_type": "stream",
     "text": [
      "10\n"
     ]
    },
    {
     "ename": "ZeroDivisionError",
     "evalue": "division by zero",
     "output_type": "error",
     "traceback": [
      "\u001b[1;31m---------------------------------------------------------------------------\u001b[0m",
      "\u001b[1;31mZeroDivisionError\u001b[0m                         Traceback (most recent call last)",
      "\u001b[1;32m~\\AppData\\Local\\Temp/ipykernel_4324/1878741070.py\u001b[0m in \u001b[0;36m<module>\u001b[1;34m\u001b[0m\n\u001b[0;32m      2\u001b[0m \u001b[0mc\u001b[0m\u001b[1;33m.\u001b[0m\u001b[0madd\u001b[0m\u001b[1;33m(\u001b[0m\u001b[1;33m)\u001b[0m\u001b[1;33m\u001b[0m\u001b[1;33m\u001b[0m\u001b[0m\n\u001b[0;32m      3\u001b[0m \u001b[0mprint\u001b[0m\u001b[1;33m(\u001b[0m\u001b[0mc\u001b[0m\u001b[1;33m.\u001b[0m\u001b[0mresult\u001b[0m\u001b[1;33m)\u001b[0m\u001b[1;33m\u001b[0m\u001b[1;33m\u001b[0m\u001b[0m\n\u001b[1;32m----> 4\u001b[1;33m \u001b[0mc\u001b[0m\u001b[1;33m.\u001b[0m\u001b[0mdiv\u001b[0m\u001b[1;33m(\u001b[0m\u001b[1;33m)\u001b[0m \u001b[1;31m# 10 / 0\u001b[0m\u001b[1;33m\u001b[0m\u001b[1;33m\u001b[0m\u001b[0m\n\u001b[0m",
      "\u001b[1;32m~\\AppData\\Local\\Temp/ipykernel_4324/3422060837.py\u001b[0m in \u001b[0;36mdiv\u001b[1;34m(self)\u001b[0m\n\u001b[0;32m      7\u001b[0m         \u001b[0mself\u001b[0m\u001b[1;33m.\u001b[0m\u001b[0mresult\u001b[0m \u001b[1;33m=\u001b[0m \u001b[0mself\u001b[0m\u001b[1;33m.\u001b[0m\u001b[0mfirst\u001b[0m \u001b[1;33m+\u001b[0m \u001b[0mself\u001b[0m\u001b[1;33m.\u001b[0m\u001b[0msecond\u001b[0m\u001b[1;33m\u001b[0m\u001b[1;33m\u001b[0m\u001b[0m\n\u001b[0;32m      8\u001b[0m     \u001b[1;32mdef\u001b[0m \u001b[0mdiv\u001b[0m\u001b[1;33m(\u001b[0m\u001b[0mself\u001b[0m\u001b[1;33m)\u001b[0m\u001b[1;33m:\u001b[0m\u001b[1;33m\u001b[0m\u001b[1;33m\u001b[0m\u001b[0m\n\u001b[1;32m----> 9\u001b[1;33m         \u001b[0mself\u001b[0m\u001b[1;33m.\u001b[0m\u001b[0mresult\u001b[0m \u001b[1;33m=\u001b[0m \u001b[0mself\u001b[0m\u001b[1;33m.\u001b[0m\u001b[0mfirst\u001b[0m \u001b[1;33m/\u001b[0m \u001b[0mself\u001b[0m\u001b[1;33m.\u001b[0m\u001b[0msecond\u001b[0m\u001b[1;33m\u001b[0m\u001b[1;33m\u001b[0m\u001b[0m\n\u001b[0m",
      "\u001b[1;31mZeroDivisionError\u001b[0m: division by zero"
     ]
    }
   ],
   "source": [
    "c = mor_clau(10, 0) # first = 10. second = 0\n",
    "c.add()\n",
    "print(c.result)\n",
    "c.div() # 10 / 0 # 불능"
   ]
  },
  {
   "cell_type": "code",
   "execution_count": 81,
   "id": "4245ba72",
   "metadata": {},
   "outputs": [],
   "source": [
    "class mor_clau(calulator): # 자식 클래스\n",
    "#     def __init__(self, first, second):\n",
    "#         self.first = first\n",
    "#         self.second = second\n",
    "#     def add(self):\n",
    "#         self.result = self.first + self.second\n",
    "#     def div(self):\n",
    "#         self.result = self.first / self.second\n",
    "    def sub(self):\n",
    "        self.result = self.first - self.second\n",
    "    def mul(self):\n",
    "        self.result = self.first * self.second\n",
    "    def div(self): #  오버라이딩 : 재정의\n",
    "        if self.second == 0:\n",
    "            self.result = 0\n",
    "        else:\n",
    "            self.result = self.first / self.second"
   ]
  },
  {
   "cell_type": "code",
   "execution_count": 82,
   "id": "e499f827",
   "metadata": {},
   "outputs": [
    {
     "name": "stdout",
     "output_type": "stream",
     "text": [
      "0\n"
     ]
    }
   ],
   "source": [
    "d = mor_clau(10, 0)\n",
    "d.div() # 상속받은 함수가 실행되는 것이 아니라 재정의 된 함수가 실행된다.\n",
    "print(d.result)"
   ]
  },
  {
   "cell_type": "code",
   "execution_count": 83,
   "id": "ea47381a",
   "metadata": {},
   "outputs": [
    {
     "name": "stdout",
     "output_type": "stream",
     "text": [
      "2.0\n"
     ]
    }
   ],
   "source": [
    "e = mor_clau(4, 2)\n",
    "e.div()\n",
    "print(e.result)\n",
    "##  오버라이딩 : 상속 받은 함수를 자식 클래스에 재정의 하여 함수를 사용하는 것"
   ]
  },
  {
   "cell_type": "code",
   "execution_count": null,
   "id": "51d95da8",
   "metadata": {},
   "outputs": [],
   "source": []
  },
  {
   "cell_type": "code",
   "execution_count": null,
   "id": "be4eea2f",
   "metadata": {},
   "outputs": [],
   "source": []
  },
  {
   "cell_type": "code",
   "execution_count": null,
   "id": "3080f656",
   "metadata": {},
   "outputs": [],
   "source": []
  },
  {
   "cell_type": "code",
   "execution_count": null,
   "id": "e9664459",
   "metadata": {},
   "outputs": [],
   "source": []
  }
 ],
 "metadata": {
  "kernelspec": {
   "display_name": "Python 3 (ipykernel)",
   "language": "python",
   "name": "python3"
  },
  "language_info": {
   "codemirror_mode": {
    "name": "ipython",
    "version": 3
   },
   "file_extension": ".py",
   "mimetype": "text/x-python",
   "name": "python",
   "nbconvert_exporter": "python",
   "pygments_lexer": "ipython3",
   "version": "3.8.12"
  }
 },
 "nbformat": 4,
 "nbformat_minor": 5
}
