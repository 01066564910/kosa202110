{
 "cells": [
  {
   "cell_type": "code",
   "execution_count": 4,
   "id": "82a399e7",
   "metadata": {},
   "outputs": [
    {
     "data": {
      "text/html": [
       "<style>\n",
       "div.container { width:100% !important; }\n",
       "div.CodeMirror {font-family: Consolas; font-size: 40pt;}\n",
       "div.output { font-size: 16pt; font-weight: bold;}\n",
       "div.input { font-family: Consolas; font-size: 40pt;}\n",
       "div.prompt { min-width: 100px;}\n",
       "</style>\n"
      ],
      "text/plain": [
       "<IPython.core.display.HTML object>"
      ]
     },
     "metadata": {},
     "output_type": "display_data"
    }
   ],
   "source": [
    "from IPython.core.display import display, HTML\n",
    "display(HTML(\n",
    "\"\"\"<style>\n",
    "div.container { width:100% !important; }\n",
    "div.CodeMirror {font-family: Consolas; font-size: 40pt;}\n",
    "div.output { font-size: 16pt; font-weight: bold;}\n",
    "div.input { font-family: Consolas; font-size: 40pt;}\n",
    "div.prompt { min-width: 100px;}\n",
    "</style>\n",
    "\"\"\"))"
   ]
  },
  {
   "cell_type": "code",
   "execution_count": 6,
   "id": "48c657cb",
   "metadata": {},
   "outputs": [
    {
     "name": "stdout",
     "output_type": "stream",
     "text": [
      "True False\n",
      "True False\n"
     ]
    }
   ],
   "source": [
    "a = True   # bool\n",
    "b = False\n",
    "print(a, b)\n",
    "s1 = \"True\" # string\n",
    "s2 = \"False\"\n",
    "print(s1, s2)"
   ]
  },
  {
   "cell_type": "code",
   "execution_count": 10,
   "id": "9fd6c7e6",
   "metadata": {},
   "outputs": [
    {
     "name": "stdout",
     "output_type": "stream",
     "text": [
      "True\n",
      "False\n"
     ]
    }
   ],
   "source": [
    "### 관계(비교) 연산자 : 결과를 bool타입이다.\n",
    "x = 10; y =20;\n",
    "z = x < y\n",
    "print(z)\n",
    "z = x > y\n",
    "print(z)\n",
    "z = x <= y\n",
    "print(z)\n",
    "z = x >= y\n",
    "print(z)\n",
    "z = x == y #  같다\n",
    "print(z)\n",
    "z = x != y # 다르다.\n",
    "print(z)"
   ]
  },
  {
   "cell_type": "code",
   "execution_count": 14,
   "id": "51b82010",
   "metadata": {},
   "outputs": [
    {
     "name": "stdout",
     "output_type": "stream",
     "text": [
      "True\n",
      "False\n",
      "False\n",
      "False\n",
      "============================================================\n",
      "True\n",
      "True\n",
      "True\n",
      "False\n"
     ]
    }
   ],
   "source": [
    "### 논리 연산자(and | or) : bool타입을 이용해서 결과를 bool타입\n",
    "z = True and True\n",
    "print(z)\n",
    "z = True and False\n",
    "print(z)\n",
    "z = False and True\n",
    "print(z)\n",
    "z = False and False\n",
    "print(z)\n",
    "print(\"==\" * 30)\n",
    "z = True or True\n",
    "print(z)\n",
    "z = True or False\n",
    "print(z)\n",
    "z = False or True\n",
    "print(z)\n",
    "z = False or False\n",
    "print(z)"
   ]
  },
  {
   "cell_type": "code",
   "execution_count": 19,
   "id": "bfd33d89",
   "metadata": {},
   "outputs": [
    {
     "name": "stdout",
     "output_type": "stream",
     "text": [
      "True\n",
      "False\n",
      "True\n",
      "True\n",
      "False\n",
      "False\n",
      "True\n",
      "False\n",
      "False\n",
      "True\n",
      "True\n"
     ]
    }
   ],
   "source": [
    "print(bool(\"이숭무\"))\n",
    "print(bool(\"\")) # False\n",
    "print(bool(1)) # 0이 아닌 모든 수는 True\n",
    "print(bool(15))\n",
    "print(bool(0)) # False\n",
    "print(bool([]))  #False\n",
    "print(bool([1]))\n",
    "print(bool(()))  # False\n",
    "print(bool({})) # False\n",
    "print(bool({1:1}))\n",
    "print(bool({1,2,3,4}))"
   ]
  },
  {
   "cell_type": "code",
   "execution_count": null,
   "id": "f4dccf28",
   "metadata": {},
   "outputs": [],
   "source": [
    "# 제어문\n",
    "# bool을 이용해서 원하는 명령어를 실행시킨다.\n",
    "# 조건식: bool타입 결과 값이 와야 한다.\n",
    "# if문에서는 조건식의 뒤에는 \":\"이 와야 한다.\n",
    "# if문 다음의 명령문은 들여쓰기가 되어 있어야 한다.\n",
    "# 들여쓰기는 공백문자와 탭을 이용할 수 있는데 두개 같이 사용할 수 없다.\n",
    "# 주로 탭을 이용해서 들여 쓰기를 한다.\n",
    "# \"명령문10\"은 독립적인 명령문이 된다.\n",
    "# 일반적으로 조건식 비교연산자를 가지거나 논리연산자를 가진다.\n",
    "'''\n",
    "if 조건식:\n",
    "    명령문1\n",
    "    명령문2\n",
    "    ...\n",
    "명령문10\n",
    "예)\n",
    "if 조건식:\n",
    "    print(\"1\") # if문에 해당되는 명령문\n",
    "    \n",
    "print(\"2\") # if문과 상관 없이 실행되는 명령문이다.\n",
    "'''\n",
    "print()"
   ]
  },
  {
   "cell_type": "code",
   "execution_count": 22,
   "id": "7553a29f",
   "metadata": {},
   "outputs": [
    {
     "name": "stdout",
     "output_type": "stream",
     "text": [
      "차를 타고 가시오\n",
      "if문과 관계없이 실행\n",
      "if문과 관계없이 실행\n"
     ]
    }
   ],
   "source": [
    "# 조건문 : 단일 if\n",
    "# 돈이 3000원 이상이 있으면 \"차를 타고 가시오\"를 출력하시오.\n",
    "money = 4000\n",
    "if money >= 3000: #  조건식 # True\n",
    "    print(\"차를 타고 가시오\")\n",
    "# if 문 다음에 있는 조건식의 결과 값이 True이면 if문 다음에 있는 명령어가 실행\n",
    "print(\"if문과 관계없이 실행\")\n",
    "money = 2900\n",
    "if money >= 3000: #  조건식 # False\n",
    "    print(\"차를 타고 가시오\")\n",
    "# if에 있는 결과값이 False이면 명령문이 실행되지 않는다.\n",
    "print(\"if문과 관계없이 실행\")"
   ]
  },
  {
   "cell_type": "code",
   "execution_count": 23,
   "id": "5928b931",
   "metadata": {},
   "outputs": [
    {
     "name": "stdout",
     "output_type": "stream",
     "text": [
      "성인입니다.\n"
     ]
    }
   ],
   "source": [
    "age = 35\n",
    "height = 170\n",
    "# 나이가 19세 이상입니까?\n",
    "# 키가 175이상입니까?\n",
    "if age >= 19:\n",
    "    print(\"성인입니다.\")\n",
    "if height >= 175:\n",
    "    print(\"175이상입니다.\")"
   ]
  },
  {
   "cell_type": "code",
   "execution_count": null,
   "id": "5aab8218",
   "metadata": {},
   "outputs": [],
   "source": [
    "# if ~ else문\n",
    "'''\n",
    "if 조건식: # True\n",
    "    명령문1\n",
    "    ...\n",
    "else:     # False\n",
    "    명령문2\n",
    "    ...\n",
    "'''"
   ]
  },
  {
   "cell_type": "code",
   "execution_count": 24,
   "id": "6947be41",
   "metadata": {},
   "outputs": [
    {
     "name": "stdout",
     "output_type": "stream",
     "text": [
      "차를 타고 가시오\n"
     ]
    }
   ],
   "source": [
    "# 돈이 3000원 이상이면 차를 타고 가고 아니면 걸어가자.\n",
    "money = 3500\n",
    "if money >= 3000: # True\n",
    "    print(\"차를 타고 가시오\")\n",
    "else:\n",
    "    print(\"걸어 가시오\")"
   ]
  },
  {
   "cell_type": "code",
   "execution_count": 25,
   "id": "ca5dca07",
   "metadata": {},
   "outputs": [
    {
     "name": "stdout",
     "output_type": "stream",
     "text": [
      "걸어 가시오\n"
     ]
    }
   ],
   "source": [
    "money = 2000\n",
    "if money >= 3000: # True일 때 실행\n",
    "    print(\"차를 타고 가시오\")\n",
    "else:             # False일 때 실행\n",
    "    print(\"걸어 가시오\")"
   ]
  },
  {
   "cell_type": "code",
   "execution_count": 26,
   "id": "79d184d9",
   "metadata": {},
   "outputs": [
    {
     "name": "stdout",
     "output_type": "stream",
     "text": [
      "Ture 입니다.\n",
      "==========================================================================================\n",
      "False입니다.\n"
     ]
    }
   ],
   "source": [
    "if \"이숭무\":\n",
    "    print(\"Ture 입니다.\")\n",
    "else:\n",
    "    print(\"False입니다.\")\n",
    "print(\"===\" * 30)\n",
    "if \"\":\n",
    "    print(\"Ture 입니다.\")\n",
    "else:\n",
    "    print(\"False입니다.\")"
   ]
  },
  {
   "cell_type": "code",
   "execution_count": 28,
   "id": "ab247442",
   "metadata": {},
   "outputs": [
    {
     "name": "stdout",
     "output_type": "stream",
     "text": [
      "경기도입니다\n"
     ]
    }
   ],
   "source": [
    "s = \"경기도\"\n",
    "if s:\n",
    "    print(s + \"입니다\")\n",
    "else:\n",
    "    print(\"입력 받은 값이 없습니다\")\n",
    "print(\"==\" * 30)"
   ]
  },
  {
   "cell_type": "code",
   "execution_count": 29,
   "id": "9cb7830d",
   "metadata": {},
   "outputs": [
    {
     "name": "stdout",
     "output_type": "stream",
     "text": [
      "입력 받은 값이 없습니다\n"
     ]
    }
   ],
   "source": [
    "s = \"\"\n",
    "if s:\n",
    "    print(s + \"입니다\")\n",
    "else:\n",
    "    print(\"입력 받은 값이 없습니다\")"
   ]
  },
  {
   "cell_type": "code",
   "execution_count": 30,
   "id": "a85fcad0",
   "metadata": {},
   "outputs": [
    {
     "name": "stdout",
     "output_type": "stream",
     "text": [
      "차를 타고 가시오\n",
      "차를 타고 가시오\n"
     ]
    }
   ],
   "source": [
    "# 돈이 있다면 \"차를 타고 가시오\"\n",
    "money = 1\n",
    "if money:\n",
    "    print(\"차를 타고 가시오\")\n",
    "else:\n",
    "    print(\"돈이 0원이에요.\")\n",
    "\n",
    "if 1:\n",
    "    print(\"차를 타고 가시오\")\n",
    "else:\n",
    "    print(\"돈이 0원이에요.\")"
   ]
  },
  {
   "cell_type": "code",
   "execution_count": 31,
   "id": "f48af2dc",
   "metadata": {},
   "outputs": [
    {
     "name": "stdout",
     "output_type": "stream",
     "text": [
      "0은 False입니다.\n"
     ]
    }
   ],
   "source": [
    "if 0:\n",
    "    print(\"0이 아닙니다\")\n",
    "else:\n",
    "    print(\"0은 False입니다.\")"
   ]
  },
  {
   "cell_type": "code",
   "execution_count": 32,
   "id": "eeaaa41f",
   "metadata": {},
   "outputs": [
    {
     "name": "stdout",
     "output_type": "stream",
     "text": [
      "[1, 2, 4]\n",
      "============================================================\n",
      "리스트에 요소가 없습니다.\n"
     ]
    }
   ],
   "source": [
    "l = [1,2,4]\n",
    "if l:\n",
    "    print(l)\n",
    "else:\n",
    "    print(\"리스트에 요소가 없습니다.\")\n",
    "print(\"==\" * 30)\n",
    "l = []\n",
    "if l:\n",
    "    print(l)\n",
    "else:\n",
    "    print(\"리스트에 요소가 없습니다.\")"
   ]
  },
  {
   "cell_type": "code",
   "execution_count": 33,
   "id": "55a0615b",
   "metadata": {},
   "outputs": [
    {
     "name": "stdout",
     "output_type": "stream",
     "text": [
      "0입니다.\n",
      "============================================================\n",
      "0입니다.\n"
     ]
    }
   ],
   "source": [
    "money = 0\n",
    "if money:\n",
    "    print(\"0이 아닙니다.\")\n",
    "else:\n",
    "    print(\"0입니다.\")\n",
    "\n",
    "print(\"==\" * 30)\n",
    "if not money: # not False = True\n",
    "    print(\"0입니다.\")\n",
    "else:\n",
    "    print(\"0이 아닙니다\")"
   ]
  },
  {
   "cell_type": "code",
   "execution_count": 37,
   "id": "a9031695",
   "metadata": {},
   "outputs": [
    {
     "name": "stdout",
     "output_type": "stream",
     "text": [
      "False\n",
      "True\n",
      "True\n",
      "False\n"
     ]
    }
   ],
   "source": [
    "print(bool(0))\n",
    "print(not bool(0))\n",
    "print(bool(1))\n",
    "print(not bool(1)) # not True = False"
   ]
  },
  {
   "cell_type": "code",
   "execution_count": 40,
   "id": "eaeb8236",
   "metadata": {},
   "outputs": [
    {
     "name": "stdout",
     "output_type": "stream",
     "text": [
      "False\n",
      "x가 작습니다.\n",
      "x와 y는 다르다.\n"
     ]
    }
   ],
   "source": [
    "x = 10; y = 20\n",
    "print(x > y)\n",
    "if x > y:\n",
    "    print(\"x가 큽니다\")\n",
    "else:\n",
    "    print(\"x가 작습니다.\")\n",
    "if x == y:\n",
    "    print(\"x와 y는 같다.\")\n",
    "else:\n",
    "    print(\"x와 y는 다르다.\")"
   ]
  },
  {
   "cell_type": "code",
   "execution_count": 43,
   "id": "9e9079ab",
   "metadata": {},
   "outputs": [
    {
     "name": "stdout",
     "output_type": "stream",
     "text": [
      "False\n",
      "평년\n"
     ]
    }
   ],
   "source": [
    "# 2200은 윤년입니까?\n",
    "# 4년마다 윤년, 100년마다는 평년, 400년마다는 윤년\n",
    "z = 2000 % 4 == 0 and 2200 % 100 != 0 or 2200 % 400 == 0\n",
    "#        True            False\n",
    "#               False                or    False\n",
    "print(z)\n",
    "if 2000 % 4 == 0 and 2200 % 100 != 0 or 2200 % 400 == 0:\n",
    "    print(\"윤년\")\n",
    "else:\n",
    "    print(\"평년\")"
   ]
  },
  {
   "cell_type": "code",
   "execution_count": 44,
   "id": "3de0c577",
   "metadata": {},
   "outputs": [
    {
     "name": "stdout",
     "output_type": "stream",
     "text": [
      "True\n",
      "False\n"
     ]
    }
   ],
   "source": [
    "### in 연산자.  결과값을 bool타입을 받아오는 연산자이다.\n",
    "## \n",
    "z = 1 in [1,2,3,4]\n",
    "print(z)\n",
    "z = 7 in [1,2,3,4]\n",
    "print(z)"
   ]
  },
  {
   "cell_type": "code",
   "execution_count": 45,
   "id": "f8d65dd5",
   "metadata": {},
   "outputs": [
    {
     "name": "stdout",
     "output_type": "stream",
     "text": [
      "리스트에는 1을 포함하고 있습니다.\n",
      "============================================================\n",
      "리스트에는 7이 포함되어 있지 않습니다.\n"
     ]
    }
   ],
   "source": [
    "if 1 in [1,2,3,4]:\n",
    "    print(\"리스트에는 1을 포함하고 있습니다.\")\n",
    "else:\n",
    "    print(\"리스트에는 1이 포함되어 있지 않습니다.\")\n",
    "print(\"==\" * 30)\n",
    "if 7 in [1,2,3,4]:\n",
    "    print(\"리스트에 7이 포함되어 있습니다.\")\n",
    "else:\n",
    "    print(\"리스트에는 7이 포함되어 있지 않습니다.\")"
   ]
  },
  {
   "cell_type": "code",
   "execution_count": 48,
   "id": "8adad16e",
   "metadata": {},
   "outputs": [
    {
     "name": "stdout",
     "output_type": "stream",
     "text": [
      "리스트에는 7이 포함되어 있지 않습니다.\n"
     ]
    }
   ],
   "source": [
    "l = [1,2,3,4]\n",
    "if 7 not in l: \n",
    "    print(\"리스트에는 7이 포함되어 있지 않습니다.\")\n",
    "else:\n",
    "    print(\"리스트에는 7이 포함되어 있습니다.\")"
   ]
  },
  {
   "cell_type": "code",
   "execution_count": 49,
   "id": "79695b75",
   "metadata": {},
   "outputs": [
    {
     "name": "stdout",
     "output_type": "stream",
     "text": [
      "True\n"
     ]
    }
   ],
   "source": [
    "print(\"a\" in {\"a\": 1, \"b\" :2})\n",
    "if \"a\" in {\"a\": 1, \"b\" :2}:\n",
    "    print(\"키 a가 존재 합니다.\")\n",
    "\n",
    "if \"c\" not in {\"a\": 1, \"b\" :2}:\n",
    "    print(\"키 c가 존재하지 않습니다.\")"
   ]
  },
  {
   "cell_type": "code",
   "execution_count": 51,
   "id": "3221b498",
   "metadata": {},
   "outputs": [
    {
     "name": "stdout",
     "output_type": "stream",
     "text": [
      "True\n",
      "변수 s가 가진 문자열에는  p를 포함하고 있다.\n",
      "변수 s에는 Life가 포함되어 있지 않다.\n"
     ]
    }
   ],
   "source": [
    "print(\"p\" in \"python\") \n",
    "s = \"python\"\n",
    "if \"p\" in s:\n",
    "    print(\"변수 s가 가진 문자열에는  p를 포함하고 있다.\")\n",
    "s = \"Your leg is too short\"\n",
    "if \"Life\" in s:\n",
    "    print(\"변수 s에는 Life가 포함되어 있다.\")\n",
    "else:\n",
    "    print(\"변수 s에는 Life가 포함되어 있지 않다.\")"
   ]
  },
  {
   "cell_type": "code",
   "execution_count": 52,
   "id": "c0c38da9",
   "metadata": {},
   "outputs": [
    {
     "name": "stdout",
     "output_type": "stream",
     "text": [
      "카드가 있어서 차를 타고 갈 수 있다.\n"
     ]
    }
   ],
   "source": [
    "pocket = [\"paper\", \"cellphon\", \"card\"]\n",
    "# 주머니에 카드가 있으면 차를 타고 갈수 있다.\n",
    "if \"card\" in pocket:\n",
    "    print(\"카드가 있어서 차를 타고 갈 수 있다.\")\n",
    "else:\n",
    "    print(\"카드가 없어서 차를 타고 갈 수 없다.\")"
   ]
  },
  {
   "cell_type": "code",
   "execution_count": 53,
   "id": "c33eb1e0",
   "metadata": {},
   "outputs": [
    {
     "name": "stdout",
     "output_type": "stream",
     "text": [
      "C\n"
     ]
    }
   ],
   "source": [
    "# 90점이상이면 A , 80점이상이면 B,70점이상이면 C, 60점이상이면 D, 아니면 F\n",
    "# 조건식은 if 문에 만 올수 있다.\n",
    "score = 75\n",
    "if score >= 90:\n",
    "    print('A')\n",
    "elif score >= 80: # score < 90 and score >= 80\n",
    "    print('B')\n",
    "elif score >= 70: # score < 80 and score >= 70\n",
    "    print('C')\n",
    "elif score >= 60:\n",
    "    print('D')\n",
    "else:\n",
    "    print('F')"
   ]
  },
  {
   "cell_type": "code",
   "execution_count": null,
   "id": "ee4fdcb7",
   "metadata": {},
   "outputs": [],
   "source": [
    "# 95이상이면 'A+', 90이상이면 'A', \n",
    "# 85이상이면 'B+', 80이상이면 'B',   \n",
    "# 75이상이면 'C+', 70이상이면 'C',\n",
    "# 65이상이면 'D+', 60이상이면 'D',\n",
    "# 그렇지 않으면 F\n",
    "# 다중 if문\n",
    "score = 75\n",
    "if score >= 90:\n",
    "    if score >= 95:\n",
    "        print('A+')\n",
    "    else:\n",
    "        print('A')\n",
    "elif score >= 80: \n",
    "    if score >= 85:\n",
    "        print('B+')\n",
    "    else:\n",
    "        print('B')\n",
    "elif score >= 70: \n",
    "    if score >= 7:\n",
    "        print('C+')\n",
    "    else:\n",
    "        print('C')\n",
    "elif score >= 60:\n",
    "    if score >= 65:\n",
    "        print('D+')\n",
    "    else:\n",
    "        print('D')\n",
    "else:\n",
    "    print('F')"
   ]
  },
  {
   "cell_type": "code",
   "execution_count": 58,
   "id": "dd24be6d",
   "metadata": {},
   "outputs": [
    {
     "name": "stdout",
     "output_type": "stream",
     "text": [
      "합격\n",
      "불합격\n"
     ]
    }
   ],
   "source": [
    "# kor = 70, eng = 38, math = 90\n",
    "# 평균이 60점이상면 합격 그렇지 않으면 불합격\n",
    "kor = 70; eng = 38; math = 90\n",
    "if (kor+eng+math) / 3 >= 60:\n",
    "    print(\"합격\")\n",
    "else:\n",
    "    print(\"불합격\")\n",
    "# 평균이 60이상이고 모든 과목이 40 이상이면 합격, 아니면 불합격\n",
    "if (kor+eng+math) / 3 >= 60 and kor >= 40 and eng >= 40 and math >= 40:\n",
    "    print(\"합격\")\n",
    "else:\n",
    "    print(\"불합격\")"
   ]
  },
  {
   "cell_type": "code",
   "execution_count": 62,
   "id": "d8376143",
   "metadata": {},
   "outputs": [
    {
     "name": "stdout",
     "output_type": "stream",
     "text": [
      "합격\n",
      "============================================================\n",
      "합격\n"
     ]
    }
   ],
   "source": [
    "# 조건문 : if, if ~ else , if ~ elif ~ ... ~ else\n",
    "score = 75\n",
    "if score >= 60:\n",
    "    message = \"합격\"\n",
    "else:\n",
    "    message = \"불합격\"\n",
    "print(message)\n",
    "print(\"==\" * 30)\n",
    "message = \"합격\" if score >= 60 else \"불합격\"\n",
    "print(message)"
   ]
  },
  {
   "cell_type": "code",
   "execution_count": null,
   "id": "e0697378",
   "metadata": {},
   "outputs": [],
   "source": [
    "''' # 파이썬은 swith ~ case문을 사용하지 않는다.\n",
    "score = 80\n",
    "swith(score){\n",
    "    case 90 : print(\"A\"); break;\n",
    "    case 80 : print(\"B\"); break;\n",
    "    ...\n",
    "}\n",
    "'''\n",
    "#파이썬에서는 switch~case문 딕셔너리\n",
    "#dic = {'A' : 90 , 'B' : 80}\n",
    "'''\n",
    "num = 97\n",
    "swith (num){\n",
    "    case 92: \n",
    "    case 91: \n",
    "    case 90 : score = \"A\" ; break;\n",
    "}\n",
    "'''"
   ]
  },
  {
   "cell_type": "code",
   "execution_count": null,
   "id": "143cdf8e",
   "metadata": {},
   "outputs": [],
   "source": [
    "### 반복문\n",
    "print(\"나무를 1번 찍었습니다.\")\n",
    "print(\"나무를 2번 찍었습니다.\")\n",
    "print(\"나무를 3번 찍었습니다.\")\n",
    "print(\"나무를 4번 찍었습니다.\")\n",
    "print(\"나무를 5번 찍었습니다.\")\n",
    "print(\"나무를 6번 찍었습니다.\")\n",
    "print(\"나무를 7번 찍었습니다.\")\n",
    "print(\"나무를 8번 찍었습니다.\")\n",
    "print(\"나무를 9번 찍었습니다.\")\n",
    "print(\"나무를 10번 찍었습니다.\")\n",
    "print(\"나무가 넘어 갑니다.\")\n",
    "# 반복문 반복적으로 실행되는 명령문을 한번마 사용해서 반복적으로 실행이 \n",
    "# 되게 하는 것을 반복문이라고 한다."
   ]
  },
  {
   "cell_type": "code",
   "execution_count": 66,
   "id": "4a5b0f4e",
   "metadata": {},
   "outputs": [
    {
     "name": "stdout",
     "output_type": "stream",
     "text": [
      "나무를 1번 찍었습니다.\n",
      "나무를 2번 찍었습니다.\n",
      "나무를 3번 찍었습니다.\n",
      "나무를 4번 찍었습니다.\n",
      "나무를 5번 찍었습니다.\n",
      "나무를 6번 찍었습니다.\n",
      "나무를 7번 찍었습니다.\n",
      "나무를 8번 찍었습니다.\n",
      "나무를 9번 찍었습니다.\n",
      "나무를 10번 찍었습니다.\n",
      "나무가 넘어 갑니다.\n",
      "10\n",
      "10\n"
     ]
    }
   ],
   "source": [
    "i = 1\n",
    "while i <= 10:\n",
    "    print(f\"나무를 {i}번 찍었습니다.\")\n",
    "    i = i + 1 # 증가식 # 증가식이 없으면 무한 반복늘 한다.\n",
    "              # i = 1 + 1 : 2\n",
    "              # i = 2 + 1 : 3\n",
    "              # i = 3 + 1 : 4, ...\n",
    "print(\"나무가 넘어 갑니다.\")\n",
    "j = 10\n",
    "print(j)\n",
    "z = j\n",
    "print(z)"
   ]
  },
  {
   "cell_type": "code",
   "execution_count": 73,
   "id": "fb83e852",
   "metadata": {},
   "outputs": [
    {
     "name": "stdout",
     "output_type": "stream",
     "text": [
      "나무를 1번 찍었습니다.\n",
      "나무를 2번 찍었습니다.\n",
      "나무를 3번 찍었습니다.\n",
      "나무를 4번 찍었습니다.\n",
      "나무를 5번 찍었습니다.\n",
      "나무를 6번 찍었습니다.\n",
      "나무를 7번 찍었습니다.\n",
      "나무를 8번 찍었습니다.\n",
      "나무를 9번 찍었습니다.\n",
      "나무를 10번 찍었습니다.\n",
      "나무가 넘어 갑니다.\n",
      "i는 11\n",
      "나무를 1번 찍었습니다.\n",
      "나무를 2번 찍었습니다.\n",
      "나무를 3번 찍었습니다.\n",
      "나무를 4번 찍었습니다.\n",
      "나무를 5번 찍었습니다.\n",
      "나무를 6번 찍었습니다.\n",
      "나무를 7번 찍었습니다.\n",
      "나무를 8번 찍었습니다.\n",
      "나무를 9번 찍었습니다.\n",
      "나무를 10번 찍었습니다.\n",
      "나무가 넘어 갑니다.\n"
     ]
    }
   ],
   "source": [
    "i = 1\n",
    "while i <= 10:\n",
    "    print(\"나무를 %d번 찍었습니다.\" % i)\n",
    "    i += 1 # i = i + 1 : i -= i => i = i - 1 : i /= i => i = i / 1\n",
    "print(\"나무가 넘어 갑니다.\")\n",
    "print(f\"i는 {i}\")\n",
    "i = 1\n",
    "while i <= 10:\n",
    "    print(\"나무를 {0}번 찍었습니다.\".format(i))\n",
    "    i += 1 # i = i + 1 : i -= i => i = i - 1 : i /= i => i = i / 1\n",
    "print(\"나무가 넘어 갑니다.\")"
   ]
  },
  {
   "cell_type": "code",
   "execution_count": 79,
   "id": "f491e9cb",
   "metadata": {},
   "outputs": [
    {
     "name": "stdout",
     "output_type": "stream",
     "text": [
      " 8 * 1 = 8\n",
      " 8 * 2 = 16\n",
      " 8 * 3 = 24\n",
      " 8 * 4 = 32\n",
      " 8 * 5 = 40\n",
      "============================================================\n",
      " 8 * 1 = 8\n",
      " 8 * 2 = 16\n",
      " 8 * 3 = 24\n",
      "...\n",
      " 8 * 9 = 72\n"
     ]
    }
   ],
   "source": [
    "print(\" 8 * 1 = 8\")\n",
    "print(\" 8 * 2 = 16\")\n",
    "print(\" 8 * 3 = 24\")\n",
    "print(\" 8 * 4 = 32\")\n",
    "print(\" 8 * 5 = 40\")\n",
    "print(\"==\" * 30)\n",
    "print(f\" 8 * {1} = {8 * 1}\")\n",
    "print(f\" 8 * {2} = {8 * 2}\")\n",
    "print(f\" 8 * {3} = {8 * 3}\")\n",
    "print(\"...\")\n",
    "print(f\" 8 * {9} = {8 * 9}\")"
   ]
  },
  {
   "cell_type": "code",
   "execution_count": 81,
   "id": "8e2228dd",
   "metadata": {},
   "outputs": [
    {
     "name": "stdout",
     "output_type": "stream",
     "text": [
      " 8 * 1 = 8\n",
      " 8 * 2 = 16\n",
      " 8 * 3 = 24\n",
      " 8 * 4 = 32\n",
      " 8 * 5 = 40\n",
      " 8 * 6 = 48\n",
      " 8 * 7 = 56\n",
      " 8 * 8 = 64\n",
      " 8 * 9 = 72\n",
      " 8 * 1 = 8\n",
      " 8 * 2 = 16\n",
      " 8 * 3 = 24\n",
      " 8 * 4 = 32\n",
      " 8 * 5 = 40\n",
      " 8 * 6 = 48\n",
      " 8 * 7 = 56\n",
      " 8 * 8 = 64\n",
      " 8 * 9 = 72\n"
     ]
    }
   ],
   "source": [
    "i = 1\n",
    "while i <= 9:\n",
    "    print(f\" 8 * {i} = {8 * i}\")\n",
    "    i += 1\n",
    "# 포맷문자를 출력\n",
    "i = 1\n",
    "while i <= 9:\n",
    "    print(\" 8 * %d = %d\" % (i , 8 * i))\n",
    "    i += 1"
   ]
  },
  {
   "cell_type": "code",
   "execution_count": 89,
   "id": "5365f403",
   "metadata": {},
   "outputs": [
    {
     "name": "stdout",
     "output_type": "stream",
     "text": [
      "원하는 단을 입력해주세요. : 4\n",
      "5\n",
      " 4 * 1 = 4\n",
      " 4 * 2 = 8\n",
      " 4 * 3 = 12\n",
      " 4 * 4 = 16\n",
      " 4 * 5 = 20\n",
      " 4 * 6 = 24\n",
      " 4 * 7 = 28\n",
      " 4 * 8 = 32\n",
      " 4 * 9 = 36\n",
      "============================================================\n",
      "4 * 1 = 4\n",
      "4 * 2 = 8\n",
      "4 * 3 = 12\n",
      "4 * 4 = 16\n",
      "4 * 5 = 20\n",
      "4 * 6 = 24\n",
      "4 * 7 = 28\n",
      "4 * 8 = 32\n",
      "4 * 9 = 36\n"
     ]
    }
   ],
   "source": [
    "dan = int(input(\"원하는 단을 입력해주세요. : \"))\n",
    "# 키보드로 입력 받은 값은 모두 문자이므로 숫자로 형변환을 해야 한다.\n",
    "print(dan + 1)\n",
    "i = 1\n",
    "while i <= 9:\n",
    "    print(\" %d * %d = %d\" % (dan, i , dan * i))\n",
    "    i += 1\n",
    "print(\"==\" * 30)\n",
    "# f문자를 사용해서 출력\n",
    "i = 1\n",
    "while i <= 9:\n",
    "    print(f\"{dan} * {i} = {dan * i}\")\n",
    "    i += 1"
   ]
  },
  {
   "cell_type": "code",
   "execution_count": 94,
   "id": "6ab3f484",
   "metadata": {},
   "outputs": [
    {
     "name": "stdout",
     "output_type": "stream",
     "text": [
      " 8 * 3 = 24\n",
      " 8 * 4 = 32\n",
      " 8 * 5 = 40\n"
     ]
    }
   ],
   "source": [
    "i = 3\n",
    "while i <= 5:\n",
    "    print(\" 8 * %d = %d\" % (i , 8 * i))\n",
    "    i += 1"
   ]
  },
  {
   "cell_type": "code",
   "execution_count": 98,
   "id": "68f0b0f0",
   "metadata": {},
   "outputs": [
    {
     "name": "stdout",
     "output_type": "stream",
     "text": [
      "원하는 단을 입력해주세요. : 3\n",
      "원하는 시작 곱을 입력해주세요. : 4\n",
      "원하는 끝 곱을 입력해주세요. : 7\n",
      "3 * 4 = 12\n",
      "3 * 5 = 15\n",
      "3 * 6 = 18\n",
      "3 * 7 = 21\n",
      "============================================================\n",
      "3 * 4 = 12\n",
      "3 * 5 = 15\n",
      "3 * 6 = 18\n",
      "3 * 7 = 21\n",
      "============================================================\n",
      "3 * 4 = 12\n",
      "3 * 5 = 15\n",
      "3 * 6 = 18\n",
      "3 * 7 = 21\n"
     ]
    }
   ],
   "source": [
    "dan = int(input(\"원하는 단을 입력해주세요. : \"))\n",
    "start = int(input(\"원하는 시작 곱을 입력해주세요. : \"))\n",
    "end = int(input(\"원하는 끝 곱을 입력해주세요. : \"))\n",
    "i = start\n",
    "while i <= end:\n",
    "    print(f\"{dan} * {i} = {dan * i}\")\n",
    "    i += 1\n",
    "print(\"==\" * 30)\n",
    "# format()함수를 이용해서 출력\n",
    "i = start\n",
    "while i <= end:\n",
    "    print(\"{0} * {1} = {2}\".format(dan , i , dan * i))\n",
    "    i += 1\n",
    "    \n",
    "print(\"==\" * 30)\n",
    "i = start\n",
    "while i <= end:\n",
    "    print(\"{0} * {1} = {r}\".format(dan , i , r = dan * i))\n",
    "    i += 1"
   ]
  },
  {
   "cell_type": "code",
   "execution_count": 102,
   "id": "1e3ecd2f",
   "metadata": {},
   "outputs": [
    {
     "name": "stdout",
     "output_type": "stream",
     "text": [
      "\n",
      "*\n",
      "**\n",
      "***\n",
      "****\n",
      "*****\n",
      "\n",
      "============================================================\n",
      "*\n",
      "**\n",
      "***\n",
      "****\n",
      "*****\n",
      "============================================================\n",
      "*\n",
      "**\n",
      "***\n",
      "****\n",
      "*****\n"
     ]
    }
   ],
   "source": [
    "print('''\n",
    "*\n",
    "**\n",
    "***\n",
    "****\n",
    "*****\n",
    "''')\n",
    "print(\"==\" * 30)\n",
    "print(\"*\" * 1)\n",
    "print(\"*\" * 2)\n",
    "print(\"*\" * 3)\n",
    "print(\"*\" * 4)\n",
    "print(\"*\" * 5)\n",
    "print(\"==\" * 30)\n",
    "i = 1\n",
    "while i <= 5:\n",
    "    print(\"*\" * i)\n",
    "    i += 1"
   ]
  },
  {
   "cell_type": "code",
   "execution_count": 106,
   "id": "2e3cf0af",
   "metadata": {},
   "outputs": [
    {
     "name": "stdout",
     "output_type": "stream",
     "text": [
      "5050\n",
      "============================================================\n",
      "400500\n",
      "============================================================\n"
     ]
    }
   ],
   "source": [
    "#### 1 ~ 100 까지의 합을 sum에 저장한 후 sum을 출력하시오.\n",
    "'''\n",
    "sum = 0\n",
    "sum = sum + 1 # sum = 0 + 1\n",
    "sum = sum + 2 # sum = 1 + 2\n",
    "sum = sum + 3 # sum = 3 + 3\n",
    "...\n",
    "sum = sum + 100 # sum = 4950 + 100\n",
    "print(sum)\n",
    "'''\n",
    "i = 1\n",
    "sum = 0\n",
    "while i <= 100:\n",
    "    sum = sum + i\n",
    "    i += 1\n",
    "print(sum)\n",
    "print(\"==\" * 30)\n",
    "i = 100\n",
    "sum = 0\n",
    "while i <= 900:\n",
    "    sum = sum + i\n",
    "    i += 1\n",
    "print(sum)\n",
    "print(\"==\" * 30)\n",
    "### 원하는 범위의 합을 구히시오.\n"
   ]
  },
  {
   "cell_type": "code",
   "execution_count": null,
   "id": "521ef5b3",
   "metadata": {},
   "outputs": [],
   "source": []
  },
  {
   "cell_type": "code",
   "execution_count": null,
   "id": "27016c55",
   "metadata": {},
   "outputs": [],
   "source": []
  },
  {
   "cell_type": "code",
   "execution_count": null,
   "id": "e70ebbb4",
   "metadata": {},
   "outputs": [],
   "source": []
  },
  {
   "cell_type": "code",
   "execution_count": null,
   "id": "c2d00066",
   "metadata": {},
   "outputs": [],
   "source": []
  },
  {
   "cell_type": "code",
   "execution_count": null,
   "id": "cf57a433",
   "metadata": {},
   "outputs": [],
   "source": []
  }
 ],
 "metadata": {
  "kernelspec": {
   "display_name": "Python 3 (ipykernel)",
   "language": "python",
   "name": "python3"
  },
  "language_info": {
   "codemirror_mode": {
    "name": "ipython",
    "version": 3
   },
   "file_extension": ".py",
   "mimetype": "text/x-python",
   "name": "python",
   "nbconvert_exporter": "python",
   "pygments_lexer": "ipython3",
   "version": "3.8.12"
  }
 },
 "nbformat": 4,
 "nbformat_minor": 5
}
