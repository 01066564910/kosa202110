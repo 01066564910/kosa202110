{
 "cells": [
  {
   "cell_type": "code",
   "execution_count": 179,
   "id": "70e826bf",
   "metadata": {},
   "outputs": [
    {
     "data": {
      "text/html": [
       "<style>\n",
       "div.container { width:100% !important; }\n",
       "div.CodeMirror {font-family: Consolas; font-size: 40pt;}\n",
       "div.output { font-size: 16pt; font-weight: bold;}\n",
       "div.input { font-family: Consolas; font-size: 40pt;}\n",
       "div.prompt { min-width: 100px;}\n",
       "</style>\n"
      ],
      "text/plain": [
       "<IPython.core.display.HTML object>"
      ]
     },
     "metadata": {},
     "output_type": "display_data"
    }
   ],
   "source": [
    "from IPython.core.display import display, HTML\n",
    "display(HTML(\n",
    "\"\"\"<style>\n",
    "div.container { width:100% !important; }\n",
    "div.CodeMirror {font-family: Consolas; font-size: 40pt;}\n",
    "div.output { font-size: 16pt; font-weight: bold;}\n",
    "div.input { font-family: Consolas; font-size: 40pt;}\n",
    "div.prompt { min-width: 100px;}\n",
    "</style>\n",
    "\"\"\"))"
   ]
  },
  {
   "cell_type": "code",
   "execution_count": null,
   "id": "c1130d3e",
   "metadata": {},
   "outputs": [],
   "source": [
    "# 1 ~ 10까지의 합을 구하시오.\n",
    "i = 1\n",
    "sum = 0\n",
    "while i <= 10:\n",
    "    sum += i\n",
    "    i += 1\n",
    "print(sum)"
   ]
  },
  {
   "cell_type": "code",
   "execution_count": 178,
   "id": "b57f59c2",
   "metadata": {},
   "outputs": [
    {
     "name": "stdout",
     "output_type": "stream",
     "text": [
      "15\n",
      "============================================================\n",
      "15\n",
      "============================================================\n",
      "15\n"
     ]
    }
   ],
   "source": [
    "#  리스트에 있는 요소의 합계를 구하시오.\n",
    "l = [1,2,3,4,5]\n",
    "#    0 1 2 3 4\n",
    "i = 0\n",
    "sum = 0\n",
    "while i < len(l):\n",
    "    sum += l[i]\n",
    "    i += 1\n",
    "print(sum)\n",
    "\n",
    "print(\"==\" * 30)\n",
    "sum = 0\n",
    "for j in [1,2,3,4,5]: # 리스트나 튜플과 같은 경우에는 for문이용이 편함\n",
    "    sum += j # 1,2,3,4,5\n",
    "print(sum)\n",
    "\n",
    "print(\"==\" * 30)\n",
    "l = [1,2,3,4,5]\n",
    "sum = 0\n",
    "for j in l: # for 문을 사용하는 경우  in연산자를 사용한다.\n",
    "    sum += j\n",
    "print(sum)"
   ]
  },
  {
   "cell_type": "code",
   "execution_count": 8,
   "id": "fe3ea222",
   "metadata": {},
   "outputs": [
    {
     "name": "stdout",
     "output_type": "stream",
     "text": [
      "1\n",
      "45\n",
      "76\n",
      "30\n",
      "152\n"
     ]
    }
   ],
   "source": [
    "t = (1,45, 76, 30)\n",
    "sum = 0\n",
    "for j in t:\n",
    "    print(j) # t에 있는 값을 하나씩 출력\n",
    "    sum += j\n",
    "print(sum)"
   ]
  },
  {
   "cell_type": "code",
   "execution_count": 12,
   "id": "7f7ac471",
   "metadata": {},
   "outputs": [
    {
     "name": "stdout",
     "output_type": "stream",
     "text": [
      "74.3\n",
      "============================================================\n",
      "4 번째 학생은 80점입니다.\n",
      "6 번째 학생은 88점입니다.\n",
      "7 번째 학생은 90점입니다.\n",
      "9 번째 학생은 95점입니다.\n"
     ]
    }
   ],
   "source": [
    "l = [70, 65, 50, 80, 74, 88, 90, 66, 95, 65]\n",
    "# 리스트의 값의 평균을 구하시오.\n",
    "sum = 0\n",
    "for j in l:\n",
    "    sum += j\n",
    "print(sum/len(l))\n",
    "print(\"==\" * 30)\n",
    "## 80점이상인 학생을 출력할 때 몇번째 학생인지도 같이 출력하시오.\n",
    "# 4번째 학생은 80점입니다.\n",
    "# 6번째 학생은 88점입니다.\n",
    "# ...\n",
    "i = 1\n",
    "for j in l:\n",
    "    if j >= 80:\n",
    "        print(f\"{i} 번째 학생은 {j}점입니다.\")\n",
    "    i += 1"
   ]
  },
  {
   "cell_type": "code",
   "execution_count": 16,
   "id": "e08869b2",
   "metadata": {},
   "outputs": [
    {
     "name": "stdout",
     "output_type": "stream",
     "text": [
      "5050\n",
      "============================================================\n",
      "5050\n"
     ]
    }
   ],
   "source": [
    "# 1 ~ 100까의 합을 구하시오\n",
    "i = 1\n",
    "sum = 0 \n",
    "while i <= 100:\n",
    "    sum += i\n",
    "    i += 1\n",
    "print(sum)\n",
    "\n",
    "print(\"==\" * 30)\n",
    "sum = 0\n",
    "for j in range(1, 101):\n",
    "    sum += j\n",
    "print(sum)"
   ]
  },
  {
   "cell_type": "code",
   "execution_count": 18,
   "id": "2a1af23a",
   "metadata": {},
   "outputs": [
    {
     "name": "stdout",
     "output_type": "stream",
     "text": [
      "시작 숫자를 입력하세요. : 1\n",
      "마지막 숫자를 입력하세요. : 100\n",
      "5050\n",
      "============================================================\n",
      "2550\n",
      "============================================================\n",
      "2550\n"
     ]
    }
   ],
   "source": [
    "# for문을 이용해서 원하는 범위의 값을 입력받아 더하시오\n",
    "start = int(input(\"시작 숫자를 입력하세요. : \")) # 0\n",
    "end = int(input(\"마지막 숫자를 입력하세요. : \")) #100\n",
    "sum = 0\n",
    "for j in range(start, end + 1) : # 0,1,2,3,..., 100  \n",
    "    sum += j\n",
    "print(sum)\n",
    "print(\"==\" * 30)\n",
    "# 입력 받은 수중 짝수만 더하시오.\n",
    "sum = 0\n",
    "for j in range(start, end + 1):\n",
    "    if j % 2 == 0:\n",
    "        sum += j\n",
    "print(sum)\n",
    "\n",
    "print(\"==\" * 30)\n",
    "sum = 0\n",
    "for j in range(start, end+1):\n",
    "    if j % 2 != 0:\n",
    "        continue\n",
    "    sum += j\n",
    "print(sum)"
   ]
  },
  {
   "cell_type": "code",
   "execution_count": 25,
   "id": "4dcbbb9e",
   "metadata": {},
   "outputs": [
    {
     "name": "stdout",
     "output_type": "stream",
     "text": [
      "(1, 2)\n",
      "(3, 4)\n",
      "(5, 6)\n",
      "============================================================\n",
      "1 2 3\n",
      "3 4 7\n",
      "5 6 11\n",
      "============================================================\n",
      "6\n",
      "15\n",
      "24\n",
      "============================================================\n"
     ]
    },
    {
     "ename": "ValueError",
     "evalue": "too many values to unpack (expected 2)",
     "output_type": "error",
     "traceback": [
      "\u001b[1;31m---------------------------------------------------------------------------\u001b[0m",
      "\u001b[1;31mValueError\u001b[0m                                Traceback (most recent call last)",
      "\u001b[1;32m~\\AppData\\Local\\Temp/ipykernel_4292/3283621659.py\u001b[0m in \u001b[0;36m<module>\u001b[1;34m\u001b[0m\n\u001b[0;32m     13\u001b[0m \u001b[0mprint\u001b[0m\u001b[1;33m(\u001b[0m\u001b[1;34m\"==\"\u001b[0m \u001b[1;33m*\u001b[0m \u001b[1;36m30\u001b[0m\u001b[1;33m)\u001b[0m\u001b[1;33m\u001b[0m\u001b[1;33m\u001b[0m\u001b[0m\n\u001b[0;32m     14\u001b[0m \u001b[0ml\u001b[0m \u001b[1;33m=\u001b[0m \u001b[1;33m[\u001b[0m\u001b[1;33m(\u001b[0m\u001b[1;36m1\u001b[0m\u001b[1;33m,\u001b[0m\u001b[1;36m2\u001b[0m\u001b[1;33m,\u001b[0m\u001b[1;36m3\u001b[0m\u001b[1;33m)\u001b[0m\u001b[1;33m,\u001b[0m \u001b[1;33m(\u001b[0m\u001b[1;36m4\u001b[0m\u001b[1;33m,\u001b[0m\u001b[1;36m5\u001b[0m\u001b[1;33m)\u001b[0m\u001b[1;33m,\u001b[0m \u001b[1;33m(\u001b[0m\u001b[1;36m7\u001b[0m\u001b[1;33m,\u001b[0m\u001b[1;36m8\u001b[0m\u001b[1;33m,\u001b[0m\u001b[1;36m9\u001b[0m\u001b[1;33m)\u001b[0m\u001b[1;33m]\u001b[0m\u001b[1;33m\u001b[0m\u001b[1;33m\u001b[0m\u001b[0m\n\u001b[1;32m---> 15\u001b[1;33m \u001b[1;32mfor\u001b[0m \u001b[1;33m(\u001b[0m\u001b[0ma\u001b[0m\u001b[1;33m,\u001b[0m\u001b[0mb\u001b[0m\u001b[1;33m)\u001b[0m \u001b[1;32min\u001b[0m \u001b[0ml\u001b[0m\u001b[1;33m:\u001b[0m\u001b[1;33m\u001b[0m\u001b[1;33m\u001b[0m\u001b[0m\n\u001b[0m\u001b[0;32m     16\u001b[0m     \u001b[0mprint\u001b[0m\u001b[1;33m(\u001b[0m\u001b[0ma\u001b[0m \u001b[1;33m+\u001b[0m \u001b[0mb\u001b[0m \u001b[1;33m+\u001b[0m \u001b[0mc\u001b[0m\u001b[1;33m)\u001b[0m\u001b[1;33m\u001b[0m\u001b[1;33m\u001b[0m\u001b[0m\n",
      "\u001b[1;31mValueError\u001b[0m: too many values to unpack (expected 2)"
     ]
    }
   ],
   "source": [
    "l = [(1,2),(3,4),(5,6)]\n",
    "for j in l:\n",
    "    print(j)\n",
    "print(\"==\" * 30)\n",
    "for (a, b) in l:\n",
    "    print(a, b , a + b)\n",
    "\n",
    "print(\"==\" * 30)\n",
    "l = [(1,2,3), (4,5,6), (7,8,9)]\n",
    "for (a,b,c) in l:\n",
    "    print(a + b + c)\n",
    "\n",
    "print(\"==\" * 30)\n",
    "l = [(1,2,3), (4,5), (7,8,9)]\n",
    "for (a,b,c) in l: # 튜플 안에 있는 요소의 갯수가 같아야 한다.\n",
    "    print(a + b + c)\n",
    "# for문은 리스트나 튜플 그리고 range()를 이용할 때 주로 사용"
   ]
  },
  {
   "cell_type": "code",
   "execution_count": null,
   "id": "a54956f9",
   "metadata": {},
   "outputs": [],
   "source": [
    "### 1부터 100까지의 수중 3의 배수만 더하시오.\n",
    "sum = 0\n",
    "for j in range(1, 101):\n",
    "    if j % 3 == 0:\n",
    "        sum += j\n",
    "print(sum)\n",
    "\n",
    "print(\"==\" * 30)\n",
    "sum = 0\n",
    "for j in range(1, 101):\n",
    "    if j % 3 != 0:\n",
    "        continue\n",
    "    sum += j\n",
    "print(sum)"
   ]
  },
  {
   "cell_type": "code",
   "execution_count": 38,
   "id": "2c4b9d7e",
   "metadata": {},
   "outputs": [
    {
     "name": "stdout",
     "output_type": "stream",
     "text": [
      "[1, 2, 3, 4, 5, 6, 7, 8, 9, 10, 11, 12, 13, 14, 15, 16, 17, 18, 19, 20, 21, 22, 23, 24, 25, 26, 27, 28, 29, 30, 31, 32, 33, 34, 35, 36, 37, 38, 39, 40, 41, 42, 43, 44, 45]\n",
      "15, 45, 31, 12, 18, 14, "
     ]
    }
   ],
   "source": [
    "import random\n",
    "# 1부터 45까지의 수를 lotto라는 리스트에 담으시오. for\n",
    "lotto = []\n",
    "for i in range(1, 46):\n",
    "    lotto.append(i)\n",
    "print(lotto)\n",
    "for cnt in range(1, 7):\n",
    "    index = random.randint(0, len(lotto) -1 )\n",
    "    num = lotto.pop(index)\n",
    "    print(num, end = \", \")"
   ]
  },
  {
   "cell_type": "code",
   "execution_count": 35,
   "id": "86faab56",
   "metadata": {},
   "outputs": [
    {
     "name": "stdout",
     "output_type": "stream",
     "text": [
      "[1, 2, 3, 4, 5, 6, 7, 8, 9, 10, 11, 12, 13, 14, 15, 16, 17, 18, 19, 20, 21, 22, 23, 24, 25, 26, 27, 28, 29, 30, 31, 32, 33, 34, 35, 36, 37, 38, 39, 40, 41, 42, 43, 44, 45]\n",
      "35, 33, 42, 45, 32, 37, "
     ]
    }
   ],
   "source": [
    "lotto =[]\n",
    "i = 1\n",
    "while i <= 45:\n",
    "    lotto.append(i)\n",
    "    i += 1\n",
    "print(lotto)\n",
    "cnt = 1\n",
    "while cnt <= 6:\n",
    "    index = random.randint(0, len(lotto) -1 )\n",
    "    num = lotto.pop(index)\n",
    "    print(num, end =\", \")\n",
    "    cnt += 1"
   ]
  },
  {
   "cell_type": "code",
   "execution_count": 40,
   "id": "cadc51ed",
   "metadata": {},
   "outputs": [
    {
     "name": "stdout",
     "output_type": "stream",
     "text": [
      "8  * 0 = 0\n",
      "8  * 1 = 8\n",
      "8  * 2 = 16\n",
      "8  * 3 = 24\n",
      "8  * 4 = 32\n",
      "8  * 5 = 40\n",
      "8  * 6 = 48\n",
      "8  * 7 = 56\n",
      "8  * 8 = 64\n",
      "8  * 9 = 72\n"
     ]
    }
   ],
   "source": [
    "### 6단을 출력\n",
    "for i in range(0, 10):\n",
    "    print(f\"6  * {i} = {6 * i}\")\n",
    "## 7단을 출력\n",
    "for i in range(0, 10):\n",
    "    print(f\"7  * {i} = {7 * i}\")\n",
    "### 8단을 출력하시오. for\n",
    "for i in range(0, 10):\n",
    "    print(f\"8  * {i} = {8 * i}\")"
   ]
  },
  {
   "cell_type": "code",
   "execution_count": 41,
   "id": "6a4f976f",
   "metadata": {},
   "outputs": [
    {
     "name": "stdout",
     "output_type": "stream",
     "text": [
      "6  * 0 = 0\n",
      "6  * 1 = 6\n",
      "6  * 2 = 12\n",
      "6  * 3 = 18\n",
      "6  * 4 = 24\n",
      "6  * 5 = 30\n",
      "6  * 6 = 36\n",
      "6  * 7 = 42\n",
      "6  * 8 = 48\n",
      "6  * 9 = 54\n",
      "7  * 0 = 0\n",
      "7  * 1 = 7\n",
      "7  * 2 = 14\n",
      "7  * 3 = 21\n",
      "7  * 4 = 28\n",
      "7  * 5 = 35\n",
      "7  * 6 = 42\n",
      "7  * 7 = 49\n",
      "7  * 8 = 56\n",
      "7  * 9 = 63\n",
      "8  * 0 = 0\n",
      "8  * 1 = 8\n",
      "8  * 2 = 16\n",
      "8  * 3 = 24\n",
      "8  * 4 = 32\n",
      "8  * 5 = 40\n",
      "8  * 6 = 48\n",
      "8  * 7 = 56\n",
      "8  * 8 = 64\n",
      "8  * 9 = 72\n"
     ]
    }
   ],
   "source": [
    "for dan in range(6, 9):\n",
    "    for i in range(0, 10):\n",
    "        print(f\"{dan}  * {i} = {dan * i}\")"
   ]
  },
  {
   "cell_type": "code",
   "execution_count": 44,
   "id": "b365631e",
   "metadata": {},
   "outputs": [
    {
     "name": "stdout",
     "output_type": "stream",
     "text": [
      "시작 단을 입력 하시오 : 1\n",
      "마지막 단을 입력 하시오 : 2\n",
      "시작 곱을 입력 하시오 : 3\n",
      "마지막 곱을 입력 하시오 : 4\n",
      "1 * 3 = 3\n",
      "1 * 4 = 4\n",
      "2 * 3 = 6\n",
      "2 * 4 = 8\n"
     ]
    }
   ],
   "source": [
    "#  단과 곱의 범위를 입력 받아 출력하시오. for문\n",
    "startDan = int(input(\"시작 단을 입력 하시오 : \"))\n",
    "endDan = int(input(\"마지막 단을 입력 하시오 : \"))\n",
    "startGop = int(input(\"시작 곱을 입력 하시오 : \"))\n",
    "endGop = int(input(\"마지막 곱을 입력 하시오 : \"))\n",
    "for dan in range(startDan, endDan + 1):\n",
    "    for gop in range(startGop, endGop + 1):\n",
    "        print(f\"{dan} * {gop} = {dan * gop}\")"
   ]
  },
  {
   "cell_type": "code",
   "execution_count": 48,
   "id": "8f083150",
   "metadata": {},
   "outputs": [
    {
     "name": "stdout",
     "output_type": "stream",
     "text": [
      " 시작 숫자를 입력 하시오 : 1\n",
      " 마지막 숫자를 입력 하시오 : 2\n",
      "1\n",
      "2\n"
     ]
    }
   ],
   "source": [
    "#  범위를 입력 받아 5의 배수만 출력하시오.\n",
    "start = int(input(\" 시작 숫자를 입력 하시오 : \"))\n",
    "end = int(input(\" 마지막 숫자를 입력 하시오 : \"))\n",
    "for i in range(start, end + 1): # range에는 int가 들어 간다.\n",
    "    if i % 5 != 0 :\n",
    "        continue\n",
    "        print(i) # 1\n",
    "    print(i) # 2"
   ]
  },
  {
   "cell_type": "code",
   "execution_count": null,
   "id": "09aa72e5",
   "metadata": {},
   "outputs": [],
   "source": [
    "#  범위를 입력 받아 5의 배수만 합계를 구하시오.\n",
    "start = int(input(\" 시작 숫자를 입력 하시오 : \"))\n",
    "end = int(input(\" 마지막 숫자를 입력 하시오 : \"))\n",
    "sum = 0\n",
    "for i in range(start, end + 1): # range에는 int가 들어 간다.\n",
    "    if i % 5 != 0 :\n",
    "        continue\n",
    "        sum += i # 1 : if 문에서 실행되는 sum\n",
    "                 # continue밑에 있어서 실행 되지 않는다.\n",
    "    sum += i # 2 :for문에서 실행되는 sum"
   ]
  },
  {
   "cell_type": "code",
   "execution_count": 52,
   "id": "ebce0846",
   "metadata": {},
   "outputs": [
    {
     "name": "stdout",
     "output_type": "stream",
     "text": [
      "[3, 6, 9, 12, 15]\n",
      "============================================================\n",
      "[3, 6, 9, 12, 15]\n"
     ]
    }
   ],
   "source": [
    "a = [1,2,3,4,5]\n",
    "# a리스트에 있는 값을 result라는 리스트에 곱하기 3한값을 저장 하시오.\n",
    "result = [] \n",
    "for i in a:\n",
    "    result.append(i * 3)\n",
    "print(result)\n",
    "\n",
    "print(\"==\" * 30)\n",
    "result = [i * 3 for i in a]\n",
    "print(result)\n"
   ]
  },
  {
   "cell_type": "code",
   "execution_count": 55,
   "id": "cab25bbd",
   "metadata": {},
   "outputs": [
    {
     "name": "stdout",
     "output_type": "stream",
     "text": [
      "[3, 9, 15]\n",
      "============================================================\n",
      "[3, 9, 15]\n"
     ]
    }
   ],
   "source": [
    "a = [1,2,3,4,5]\n",
    "# 홀수만 3을 곱해서 result란 빈 리스트에 저장하시오.\n",
    "result = []\n",
    "for i in a:\n",
    "    if i % 2 != 0:\n",
    "        result.append(i * 3)\n",
    "print(result)\n",
    "\n",
    "print(\"==\" * 30)\n",
    "result = [i * 3 for i in a if i % 2 != 0]\n",
    "print(result)"
   ]
  },
  {
   "cell_type": "code",
   "execution_count": 57,
   "id": "e6ebc640",
   "metadata": {},
   "outputs": [
    {
     "name": "stdout",
     "output_type": "stream",
     "text": [
      "[1, 2, 3, 4, 5, 6, 7, 8, 9, 2, 4, 6, 8, 10, 12, 14, 16, 18, 3, 6, 9, 12, 15, 18, 21, 24, 27, 4, 8, 12, 16, 20, 24, 28, 32, 36, 5, 10, 15, 20, 25, 30, 35, 40, 45, 6, 12, 18, 24, 30, 36, 42, 48, 54, 7, 14, 21, 28, 35, 42, 49, 56, 63, 8, 16, 24, 32, 40, 48, 56, 64, 72, 9, 18, 27, 36, 45, 54, 63, 72, 81]\n"
     ]
    }
   ],
   "source": [
    "# result라는 리스트에 구구단의 값을 저장하시오\n",
    "result = []\n",
    "for dan in range(1, 10):\n",
    "    for gop in range(1, 10):\n",
    "        result.append(dan * gop)\n",
    "print(result)"
   ]
  },
  {
   "cell_type": "code",
   "execution_count": 58,
   "id": "67f9ee41",
   "metadata": {},
   "outputs": [
    {
     "name": "stdout",
     "output_type": "stream",
     "text": [
      "[1, 2, 3, 4, 5, 6, 7, 8, 9, 2, 4, 6, 8, 10, 12, 14, 16, 18, 3, 6, 9, 12, 15, 18, 21, 24, 27, 4, 8, 12, 16, 20, 24, 28, 32, 36, 5, 10, 15, 20, 25, 30, 35, 40, 45, 6, 12, 18, 24, 30, 36, 42, 48, 54, 7, 14, 21, 28, 35, 42, 49, 56, 63, 8, 16, 24, 32, 40, 48, 56, 64, 72, 9, 18, 27, 36, 45, 54, 63, 72, 81]\n"
     ]
    }
   ],
   "source": [
    "result = [dan * gop for dan in range(1, 10)\n",
    "                    for gop in range(1, 10)]\n",
    "print(result)"
   ]
  },
  {
   "cell_type": "code",
   "execution_count": 60,
   "id": "c98c5980",
   "metadata": {},
   "outputs": [
    {
     "name": "stdout",
     "output_type": "stream",
     "text": [
      "[2, 6, 10, 14, 18, 4, 12, 20, 28, 36, 6, 18, 30, 42, 54, 8, 24, 40, 56, 72]\n"
     ]
    }
   ],
   "source": [
    "### 구구단 중 짝수단과 홀수 곱만 곱합값을 result리스트에 저장\n",
    "result = []\n",
    "for dan in range(1, 10):\n",
    "    if dan % 2 == 0:\n",
    "        for gop in range(1, 10):\n",
    "            if gop % 2 != 0:\n",
    "                result.append(dan * gop)\n",
    "print(result)"
   ]
  },
  {
   "cell_type": "code",
   "execution_count": 61,
   "id": "e1a41998",
   "metadata": {},
   "outputs": [
    {
     "name": "stdout",
     "output_type": "stream",
     "text": [
      "[2, 6, 10, 14, 18, 4, 12, 20, 28, 36, 6, 18, 30, 42, 54, 8, 24, 40, 56, 72]\n"
     ]
    }
   ],
   "source": [
    "# 리스트를 내포하는 방식\n",
    "result = [dan * gop for dan in range(1, 10) if dan % 2 == 0\n",
    "                    for gop in range(1, 10) if gop % 2 != 0]\n",
    "print(result)"
   ]
  },
  {
   "cell_type": "code",
   "execution_count": null,
   "id": "6d155a13",
   "metadata": {},
   "outputs": [],
   "source": [
    "# 제어문 : 조건문 : if , if ~ else, if ~ elif ~ ... ~ else\n",
    "#                 switch ~ case : 딕셔너리\n",
    "#         반복문 : while, for, 리스트 내포"
   ]
  },
  {
   "cell_type": "code",
   "execution_count": 63,
   "id": "9a6a31f0",
   "metadata": {},
   "outputs": [
    {
     "name": "stdout",
     "output_type": "stream",
     "text": [
      "3 * 1 = 3\n",
      "3 * 2 = 6\n",
      "3 * 3 = 9\n",
      "3 * 4 = 12\n",
      "3 * 5 = 15\n",
      "3 * 6 = 18\n",
      "3 * 7 = 21\n",
      "3 * 8 = 24\n",
      "3 * 9 = 27\n"
     ]
    }
   ],
   "source": [
    "# 함수 : 코드가 반복적인 때 \n",
    "# 3단 출력\n",
    "for gop in range(1, 10):\n",
    "    print(f\"3 * {gop} = {3 * gop}\")\n",
    "# 7단 출력\n",
    "for gop in range(1, 10):\n",
    "    print(f\"7 * {gop} = {7 * gop}\")\n",
    "# 5단 출력\n",
    "for gop in range(1, 10):\n",
    "    print(f\"5 * {gop} = {5 * gop}\")"
   ]
  },
  {
   "cell_type": "code",
   "execution_count": 64,
   "id": "411a31c3",
   "metadata": {},
   "outputs": [],
   "source": [
    "def gugu3(): # 함수\n",
    "    for gop in range(1, 10):\n",
    "            print(f\"3 * {gop} = {3 * gop}\")"
   ]
  },
  {
   "cell_type": "code",
   "execution_count": 66,
   "id": "2f17237a",
   "metadata": {},
   "outputs": [
    {
     "name": "stdout",
     "output_type": "stream",
     "text": [
      "3 * 1 = 3\n",
      "3 * 2 = 6\n",
      "3 * 3 = 9\n",
      "3 * 4 = 12\n",
      "3 * 5 = 15\n",
      "3 * 6 = 18\n",
      "3 * 7 = 21\n",
      "3 * 8 = 24\n",
      "3 * 9 = 27\n",
      "3 * 1 = 3\n",
      "3 * 2 = 6\n",
      "3 * 3 = 9\n",
      "3 * 4 = 12\n",
      "3 * 5 = 15\n",
      "3 * 6 = 18\n",
      "3 * 7 = 21\n",
      "3 * 8 = 24\n",
      "3 * 9 = 27\n",
      "3 * 1 = 3\n",
      "3 * 2 = 6\n",
      "3 * 3 = 9\n",
      "3 * 4 = 12\n",
      "3 * 5 = 15\n",
      "3 * 6 = 18\n",
      "3 * 7 = 21\n",
      "3 * 8 = 24\n",
      "3 * 9 = 27\n"
     ]
    }
   ],
   "source": [
    "gugu3()\n",
    "gugu3()\n",
    "gugu3()"
   ]
  },
  {
   "cell_type": "code",
   "execution_count": 67,
   "id": "fe3e7578",
   "metadata": {},
   "outputs": [],
   "source": [
    "def gugu(dan): # dan : 매개변수 : parameter ,para, 가인자\n",
    "    for gop in range(1, 10):\n",
    "            print(f\"{dan} * {gop} = {dan * gop}\")    "
   ]
  },
  {
   "cell_type": "code",
   "execution_count": 72,
   "id": "fa00736e",
   "metadata": {},
   "outputs": [
    {
     "name": "stdout",
     "output_type": "stream",
     "text": [
      "3 * 1 = 3\n",
      "3 * 2 = 6\n",
      "3 * 3 = 9\n",
      "3 * 4 = 12\n",
      "3 * 5 = 15\n",
      "3 * 6 = 18\n",
      "3 * 7 = 21\n",
      "3 * 8 = 24\n",
      "3 * 9 = 27\n",
      "7 * 1 = 7\n",
      "7 * 2 = 14\n",
      "7 * 3 = 21\n",
      "7 * 4 = 28\n",
      "7 * 5 = 35\n",
      "7 * 6 = 42\n",
      "7 * 7 = 49\n",
      "7 * 8 = 56\n",
      "7 * 9 = 63\n",
      "5 * 1 = 5\n",
      "5 * 2 = 10\n",
      "5 * 3 = 15\n",
      "5 * 4 = 20\n",
      "5 * 5 = 25\n",
      "5 * 6 = 30\n",
      "5 * 7 = 35\n",
      "5 * 8 = 40\n",
      "5 * 9 = 45\n"
     ]
    }
   ],
   "source": [
    "gugu(3)\n",
    "gugu(7)\n",
    "gugu(5)  # 3 : argument, arg, 실인자\n",
    "# gugu3(2) # parameter가 없는 경우에는 argument를 주면 안된다.\n",
    "# gugu() # parameter가 있는 경우에는 argument를 주어야 한다."
   ]
  },
  {
   "cell_type": "code",
   "execution_count": 73,
   "id": "57f446e9",
   "metadata": {},
   "outputs": [
    {
     "name": "stdout",
     "output_type": "stream",
     "text": [
      "3 * 4 = 12\n",
      "3 * 5 = 15\n",
      "3 * 6 = 18\n"
     ]
    }
   ],
   "source": [
    "# 4 ~ 6곱까지 출력\n",
    "for gop in range(4, 7):\n",
    "    print(f\"3 * {gop} = {3 * gop}\")  "
   ]
  },
  {
   "cell_type": "code",
   "execution_count": 77,
   "id": "e95e6255",
   "metadata": {},
   "outputs": [],
   "source": [
    "def gugu1(startGop, endGop):\n",
    "    for gop in range(startGop, endGop + 1):\n",
    "        print(f\"3 * {gop} = {3 * gop}\")  "
   ]
  },
  {
   "cell_type": "code",
   "execution_count": 78,
   "id": "af81e8c9",
   "metadata": {},
   "outputs": [
    {
     "name": "stdout",
     "output_type": "stream",
     "text": [
      "3 * 4 = 12\n",
      "3 * 5 = 15\n",
      "3 * 6 = 18\n",
      "3 * 7 = 21\n"
     ]
    }
   ],
   "source": [
    "gugu1(4, 7)\n",
    "# gugu1(4) # parameter의 갯수와 argument의 갯수는 일치해야 한다. "
   ]
  },
  {
   "cell_type": "code",
   "execution_count": 79,
   "id": "0c1280c1",
   "metadata": {},
   "outputs": [
    {
     "name": "stdout",
     "output_type": "stream",
     "text": [
      "3\n",
      "7\n"
     ]
    }
   ],
   "source": [
    "a = 1\n",
    "b = 2\n",
    "print( a  + b )\n",
    "a = 3\n",
    "b = 4\n",
    "print( a  + b )"
   ]
  },
  {
   "cell_type": "code",
   "execution_count": 83,
   "id": "0b5a94ba",
   "metadata": {},
   "outputs": [],
   "source": [
    "def add(a, b):\n",
    "    print( a  + b )"
   ]
  },
  {
   "cell_type": "code",
   "execution_count": 84,
   "id": "f2ca7c78",
   "metadata": {},
   "outputs": [
    {
     "name": "stdout",
     "output_type": "stream",
     "text": [
      "3\n",
      "7\n"
     ]
    }
   ],
   "source": [
    "add(1, 2)\n",
    "add(3,4)"
   ]
  },
  {
   "cell_type": "code",
   "execution_count": 85,
   "id": "cee769a0",
   "metadata": {},
   "outputs": [
    {
     "name": "stdout",
     "output_type": "stream",
     "text": [
      "4 * 1 = 4\n",
      "4 * 2 = 8\n",
      "4 * 3 = 12\n",
      "4 * 4 = 16\n",
      "4 * 5 = 20\n",
      "4 * 6 = 24\n",
      "4 * 7 = 28\n",
      "4 * 8 = 32\n",
      "4 * 9 = 36\n",
      "5 * 1 = 5\n",
      "5 * 2 = 10\n",
      "5 * 3 = 15\n",
      "5 * 4 = 20\n",
      "5 * 5 = 25\n",
      "5 * 6 = 30\n",
      "5 * 7 = 35\n",
      "5 * 8 = 40\n",
      "5 * 9 = 45\n",
      "6 * 1 = 6\n",
      "6 * 2 = 12\n",
      "6 * 3 = 18\n",
      "6 * 4 = 24\n",
      "6 * 5 = 30\n",
      "6 * 6 = 36\n",
      "6 * 7 = 42\n",
      "6 * 8 = 48\n",
      "6 * 9 = 54\n"
     ]
    }
   ],
   "source": [
    "gugu(4)\n",
    "gugu(5)\n",
    "gugu(6)"
   ]
  },
  {
   "cell_type": "code",
   "execution_count": 86,
   "id": "ef33ef4a",
   "metadata": {},
   "outputs": [
    {
     "name": "stdout",
     "output_type": "stream",
     "text": [
      "4 * 1 = 4\n",
      "4 * 2 = 8\n",
      "4 * 3 = 12\n",
      "4 * 4 = 16\n",
      "4 * 5 = 20\n",
      "4 * 6 = 24\n",
      "4 * 7 = 28\n",
      "4 * 8 = 32\n",
      "4 * 9 = 36\n",
      "5 * 1 = 5\n",
      "5 * 2 = 10\n",
      "5 * 3 = 15\n",
      "5 * 4 = 20\n",
      "5 * 5 = 25\n",
      "5 * 6 = 30\n",
      "5 * 7 = 35\n",
      "5 * 8 = 40\n",
      "5 * 9 = 45\n",
      "6 * 1 = 6\n",
      "6 * 2 = 12\n",
      "6 * 3 = 18\n",
      "6 * 4 = 24\n",
      "6 * 5 = 30\n",
      "6 * 6 = 36\n",
      "6 * 7 = 42\n",
      "6 * 8 = 48\n",
      "6 * 9 = 54\n"
     ]
    }
   ],
   "source": [
    "for i in range(4, 7):\n",
    "    gugu(i)"
   ]
  },
  {
   "cell_type": "code",
   "execution_count": 88,
   "id": "545c1859",
   "metadata": {},
   "outputs": [
    {
     "name": "stdout",
     "output_type": "stream",
     "text": [
      "32\n"
     ]
    }
   ],
   "source": [
    "# 함수 정의\n",
    "# def 함수명(parameter1, 2,3,...):\n",
    "#     명령어1\n",
    "#     명령어2\n",
    "#     ...\n",
    "#     return 결과값\n",
    "\n",
    "# 함수 실행\n",
    "# 함수명(argument1,2,3,...)\n",
    "\n",
    "# f(x,y) = 3 + 3x + 4y\n",
    "# f(3, 5)\n",
    "def f(x, y):\n",
    "    return 3 + 3*x + 4*y\n",
    "result = f(3, 5)\n",
    "print(result)"
   ]
  },
  {
   "cell_type": "code",
   "execution_count": 89,
   "id": "71d411db",
   "metadata": {},
   "outputs": [
    {
     "name": "stdout",
     "output_type": "stream",
     "text": [
      "43\n",
      "43\n"
     ]
    }
   ],
   "source": [
    "result = f(4, 7)\n",
    "print(result)\n",
    "print(f(4,7))"
   ]
  },
  {
   "cell_type": "code",
   "execution_count": 93,
   "id": "c1feea24",
   "metadata": {},
   "outputs": [
    {
     "name": "stdout",
     "output_type": "stream",
     "text": [
      "6\n",
      "12\n"
     ]
    }
   ],
   "source": [
    "# 함수를 선언하는 방법 4가지\n",
    "# 1. 일반적인 방식 : 입력값이 있고 출력값이 있는 경우 \n",
    "def add(a, b):\n",
    "    return a + b # return문에 있는 값을 결과값\n",
    "                 # 결과값은 실행함수로 전달 \n",
    "\n",
    "print(add(2, 4)) ## 2, 4 을 입력값\n",
    "result = add(4, 8) # 12\n",
    "print(result)"
   ]
  },
  {
   "cell_type": "code",
   "execution_count": 96,
   "id": "c02f8583",
   "metadata": {},
   "outputs": [],
   "source": [
    "# 2. 입력값은 없고 결과 값만 있는 경우\n",
    "def add():\n",
    "    a = int(input(\"수를 입력해주세요. :\"))\n",
    "    b = int(input(\"수를 입력해주세요. :\"))\n",
    "    c = a + b\n",
    "    return c"
   ]
  },
  {
   "cell_type": "code",
   "execution_count": 99,
   "id": "4f74b371",
   "metadata": {},
   "outputs": [
    {
     "name": "stdout",
     "output_type": "stream",
     "text": [
      "수를 입력해주세요. :3\n",
      "수를 입력해주세요. :4\n",
      "7\n"
     ]
    }
   ],
   "source": [
    "result = add() # 7\n",
    "print(result)"
   ]
  },
  {
   "cell_type": "code",
   "execution_count": 100,
   "id": "24530bc1",
   "metadata": {},
   "outputs": [
    {
     "name": "stdout",
     "output_type": "stream",
     "text": [
      "수를 입력해주세요. :2\n",
      "수를 입력해주세요. :6\n",
      "8\n"
     ]
    }
   ],
   "source": [
    "print(add())"
   ]
  },
  {
   "cell_type": "code",
   "execution_count": 101,
   "id": "abd242c6",
   "metadata": {},
   "outputs": [],
   "source": [
    "# 3. 입력값은 있고 결과값은 없다.\n",
    "def add(a, b):\n",
    "    print(a + b)"
   ]
  },
  {
   "cell_type": "code",
   "execution_count": 103,
   "id": "cd0f7479",
   "metadata": {},
   "outputs": [
    {
     "name": "stdout",
     "output_type": "stream",
     "text": [
      "7\n"
     ]
    }
   ],
   "source": [
    "add(3, 4)"
   ]
  },
  {
   "cell_type": "code",
   "execution_count": 104,
   "id": "79db3f34",
   "metadata": {},
   "outputs": [],
   "source": [
    "# 4. 입력값 없고 결과값도 없다.\n",
    "def add():\n",
    "    a = int(input(\"숫자를 입력해주세요\"))\n",
    "    b = int(input(\"숫자를 입력해주세요\"))\n",
    "    print(a + b)"
   ]
  },
  {
   "cell_type": "code",
   "execution_count": 105,
   "id": "ad44588f",
   "metadata": {},
   "outputs": [
    {
     "name": "stdout",
     "output_type": "stream",
     "text": [
      "숫자를 입력해주세요3\n",
      "숫자를 입력해주세요5\n",
      "8\n"
     ]
    }
   ],
   "source": [
    "add()"
   ]
  },
  {
   "cell_type": "code",
   "execution_count": 107,
   "id": "6061d9b1",
   "metadata": {},
   "outputs": [],
   "source": [
    "# 1 ~ 100까지의 합을 구하시오.\n",
    "# 1. 입력값도 있고 결과값도 있는 함수\n",
    "def add(start, end):\n",
    "    sum = 0\n",
    "    for i in range(start, end + 1):\n",
    "        sum += i\n",
    "    return sum"
   ]
  },
  {
   "cell_type": "code",
   "execution_count": 108,
   "id": "a2ce9126",
   "metadata": {},
   "outputs": [
    {
     "name": "stdout",
     "output_type": "stream",
     "text": [
      "5050\n"
     ]
    }
   ],
   "source": [
    "result = add(1, 100)\n",
    "print(result)"
   ]
  },
  {
   "cell_type": "code",
   "execution_count": 110,
   "id": "240f3323",
   "metadata": {},
   "outputs": [],
   "source": [
    "# 2. 입력이 없고 결과 값이 있는 함수\n",
    "def add():\n",
    "    sum = 0\n",
    "    for i in range(1, 101):\n",
    "        sum += i\n",
    "    return sum"
   ]
  },
  {
   "cell_type": "code",
   "execution_count": 111,
   "id": "7be47f27",
   "metadata": {},
   "outputs": [
    {
     "name": "stdout",
     "output_type": "stream",
     "text": [
      "5050\n"
     ]
    }
   ],
   "source": [
    "result = add()\n",
    "print(result)"
   ]
  },
  {
   "cell_type": "code",
   "execution_count": 113,
   "id": "dcabf69b",
   "metadata": {},
   "outputs": [],
   "source": [
    "# 3.  입력값은 있고 결과값이 없다,\n",
    "def add(start, end):\n",
    "    sum = 0\n",
    "    for i in range(start, end+1):\n",
    "        sum += i\n",
    "    print(sum)"
   ]
  },
  {
   "cell_type": "code",
   "execution_count": 114,
   "id": "92af4cda",
   "metadata": {},
   "outputs": [
    {
     "name": "stdout",
     "output_type": "stream",
     "text": [
      "5050\n"
     ]
    }
   ],
   "source": [
    "add(1, 100)"
   ]
  },
  {
   "cell_type": "code",
   "execution_count": 115,
   "id": "b592d019",
   "metadata": {},
   "outputs": [],
   "source": [
    "# 4.  입력값 없고 결과값도 없다,\n",
    "def add():\n",
    "    sum = 0\n",
    "    for i in range(1, 100+1):\n",
    "        sum += i\n",
    "    print(sum)"
   ]
  },
  {
   "cell_type": "code",
   "execution_count": 116,
   "id": "296d6aed",
   "metadata": {},
   "outputs": [
    {
     "name": "stdout",
     "output_type": "stream",
     "text": [
      "5050\n"
     ]
    }
   ],
   "source": [
    "add()"
   ]
  },
  {
   "cell_type": "code",
   "execution_count": null,
   "id": "87493849",
   "metadata": {},
   "outputs": [],
   "source": [
    "def add(a, b):\n",
    "    return a + b"
   ]
  },
  {
   "cell_type": "code",
   "execution_count": null,
   "id": "f673377d",
   "metadata": {},
   "outputs": [],
   "source": [
    "result = add(3, 4)"
   ]
  },
  {
   "cell_type": "code",
   "execution_count": 119,
   "id": "85fbd379",
   "metadata": {},
   "outputs": [],
   "source": [
    "import random\n",
    "def lottoPlay():\n",
    "    lotto = [i for i in range(1, 46)]\n",
    "    for cnt in range(1, 7):\n",
    "        idx = random.randint(0, len(lotto) - 1)\n",
    "        num = lotto[idx]\n",
    "        print(num , end =\", \")"
   ]
  },
  {
   "cell_type": "code",
   "execution_count": 128,
   "id": "3e148a5d",
   "metadata": {},
   "outputs": [
    {
     "name": "stdout",
     "output_type": "stream",
     "text": [
      "23, 16, 7, 22, 2, 18, "
     ]
    }
   ],
   "source": [
    "lottoPlay()"
   ]
  },
  {
   "cell_type": "code",
   "execution_count": 129,
   "id": "f834f720",
   "metadata": {},
   "outputs": [
    {
     "name": "stdout",
     "output_type": "stream",
     "text": [
      "14, 36, 2, 25, 13, 13, "
     ]
    }
   ],
   "source": [
    "lottoPlay()"
   ]
  },
  {
   "cell_type": "code",
   "execution_count": 130,
   "id": "f17647f4",
   "metadata": {},
   "outputs": [
    {
     "name": "stdout",
     "output_type": "stream",
     "text": [
      "8, 15, 4, 7, 30, 26, "
     ]
    }
   ],
   "source": [
    "lottoPlay()"
   ]
  },
  {
   "cell_type": "code",
   "execution_count": 134,
   "id": "95ec6396",
   "metadata": {},
   "outputs": [
    {
     "name": "stdout",
     "output_type": "stream",
     "text": [
      "구매 수량을 입력하세요. :5\n",
      "36, 21, 13, 29, 34, 17, \n",
      "24, 15, 34, 16, 27, 32, \n",
      "41, 2, 31, 40, 11, 1, \n",
      "3, 43, 12, 34, 35, 39, \n",
      "21, 24, 1, 36, 21, 30, \n"
     ]
    }
   ],
   "source": [
    "c = int(input(\"구매 수량을 입력하세요. :\"))\n",
    "for y in range(0, c):\n",
    "    lottoPlay()\n",
    "    print()"
   ]
  },
  {
   "cell_type": "code",
   "execution_count": 137,
   "id": "91e17829",
   "metadata": {},
   "outputs": [],
   "source": [
    "# 원하는 범위의 값을 입력 받아 합을 구하시오\n",
    "def sum100():\n",
    "    start = int(input( \"첫번째 숫자를 입력하시오. : \"))\n",
    "    end =  int(input( \"마지막번째 숫자를 입력하시오. : \"))\n",
    "    sum = 0\n",
    "    for i in range(start, end + 1):\n",
    "        sum += i\n",
    "    return sum "
   ]
  },
  {
   "cell_type": "code",
   "execution_count": 138,
   "id": "3e2a2f2e",
   "metadata": {},
   "outputs": [
    {
     "name": "stdout",
     "output_type": "stream",
     "text": [
      "첫번째 숫자를 입력하시오. : 3\n",
      "마지막번째 숫자를 입력하시오. : 4\n",
      "7\n"
     ]
    }
   ],
   "source": [
    "result = sum100()\n",
    "print(result)"
   ]
  },
  {
   "cell_type": "code",
   "execution_count": 139,
   "id": "96a7ae4c",
   "metadata": {},
   "outputs": [],
   "source": [
    "### 결과값은 오로지 하나만 전달이 된다.\n",
    "def add_mul(a, b):\n",
    "    c = a + b\n",
    "    d = a * b\n",
    "    return c, d # 결과값을 여러개를 전달하기 위해 튜플로 묶어서 전달"
   ]
  },
  {
   "cell_type": "code",
   "execution_count": 141,
   "id": "60150c38",
   "metadata": {},
   "outputs": [
    {
     "name": "stdout",
     "output_type": "stream",
     "text": [
      "(7, 12)\n",
      "7\n",
      "12\n"
     ]
    }
   ],
   "source": [
    "result = add_mul(3, 4)\n",
    "print(result)\n",
    "print(result[0])\n",
    "print(result[1])"
   ]
  },
  {
   "cell_type": "code",
   "execution_count": 142,
   "id": "31ac6969",
   "metadata": {},
   "outputs": [
    {
     "name": "stdout",
     "output_type": "stream",
     "text": [
      "1\n",
      "3\n"
     ]
    }
   ],
   "source": [
    "a, b = (1, 3)\n",
    "print(a)\n",
    "print(b)"
   ]
  },
  {
   "cell_type": "code",
   "execution_count": 143,
   "id": "877808d0",
   "metadata": {},
   "outputs": [
    {
     "name": "stdout",
     "output_type": "stream",
     "text": [
      "11\n",
      "28\n"
     ]
    }
   ],
   "source": [
    "a, b = add_mul(4, 7)\n",
    "print(a)\n",
    "print(b)"
   ]
  },
  {
   "cell_type": "code",
   "execution_count": 146,
   "id": "044a0927",
   "metadata": {},
   "outputs": [],
   "source": [
    "# return문의 용도\n",
    "#1. 값을 반환하는 용도\n",
    "#2. 함수를 강제 종료 시킨다.\n",
    "def test(a, b):\n",
    "    print(a + b)\n",
    "    return # 함수가 종료되어서 아래 명령어는 실행되지 않는다.\n",
    "    print(a * b)  "
   ]
  },
  {
   "cell_type": "code",
   "execution_count": 147,
   "id": "ba17052b",
   "metadata": {},
   "outputs": [
    {
     "name": "stdout",
     "output_type": "stream",
     "text": [
      "6\n"
     ]
    }
   ],
   "source": [
    "test(2,4)"
   ]
  },
  {
   "cell_type": "code",
   "execution_count": 148,
   "id": "2e2aca0c",
   "metadata": {},
   "outputs": [],
   "source": [
    "def say_myself(name, old, man):\n",
    "    print(\"나의 이름은 {0}\".format(name))\n",
    "    print(\"나의 나이는 {age}\".format(age=old))\n",
    "    if man:\n",
    "        print(\"남자입니다.\")\n",
    "    else:\n",
    "        print(\"여자입니다.\")"
   ]
  },
  {
   "cell_type": "code",
   "execution_count": 151,
   "id": "f2589e72",
   "metadata": {},
   "outputs": [
    {
     "name": "stdout",
     "output_type": "stream",
     "text": [
      "나의 이름은 이숭무\n",
      "나의 나이는 35\n",
      "남자입니다.\n",
      "나의 이름은 노사연\n",
      "나의 나이는 58\n",
      "여자입니다.\n"
     ]
    }
   ],
   "source": [
    "say_myself(\"이숭무\", 35, True)\n",
    "say_myself(\"노사연\", 58, False)"
   ]
  },
  {
   "cell_type": "code",
   "execution_count": 152,
   "id": "75cfa3d0",
   "metadata": {},
   "outputs": [],
   "source": [
    "# 매개변수 초기화\n",
    "def say_myself(name, old, man=True):\n",
    "    print(\"나의 이름은 {0}\".format(name))\n",
    "    print(\"나의 나이는 {age}\".format(age=old))\n",
    "    if man:\n",
    "        print(\"남자입니다.\")\n",
    "    else:\n",
    "        print(\"여자입니다.\")"
   ]
  },
  {
   "cell_type": "code",
   "execution_count": 156,
   "id": "b87a3f10",
   "metadata": {},
   "outputs": [
    {
     "name": "stdout",
     "output_type": "stream",
     "text": [
      "나의 이름은 이숭무\n",
      "나의 나이는 35\n",
      "남자입니다.\n",
      "나의 이름은 노사연\n",
      "나의 나이는 58\n",
      "여자입니다.\n"
     ]
    }
   ],
   "source": [
    "say_myself(\"이숭무\", 35)\n",
    "# 매개변수에 초기값이 있는 경우 초기값을 사용할 때는 인자를 전달 하지 \n",
    "# 않아도 된다.\n",
    "say_myself(\"노사연\", 58, False)"
   ]
  },
  {
   "cell_type": "code",
   "execution_count": 157,
   "id": "b01cc70c",
   "metadata": {},
   "outputs": [
    {
     "ename": "SyntaxError",
     "evalue": "non-default argument follows default argument (Temp/ipykernel_4292/2835951974.py, line 1)",
     "output_type": "error",
     "traceback": [
      "\u001b[1;36m  File \u001b[1;32m\"C:\\Users\\user\\AppData\\Local\\Temp/ipykernel_4292/2835951974.py\"\u001b[1;36m, line \u001b[1;32m1\u001b[0m\n\u001b[1;33m    def say_myself(name, old=35, man):\u001b[0m\n\u001b[1;37m                   ^\u001b[0m\n\u001b[1;31mSyntaxError\u001b[0m\u001b[1;31m:\u001b[0m non-default argument follows default argument\n"
     ]
    }
   ],
   "source": [
    "def say_myself(name, old=35, man):\n",
    "    print(\"나의 이름은 {0}\".format(name))\n",
    "    print(\"나의 나이는 {age}\".format(age=old))\n",
    "    if man:\n",
    "        print(\"남자입니다.\")\n",
    "    else:\n",
    "        print(\"여자입니다.\")\n",
    "\n",
    "say_myself(\"이숭무\", True)"
   ]
  },
  {
   "cell_type": "code",
   "execution_count": 158,
   "id": "05e9aeac",
   "metadata": {},
   "outputs": [],
   "source": [
    "def say_myself(name, old=35, man = True):\n",
    "    print(\"나의 이름은 {0}\".format(name))\n",
    "    print(\"나의 나이는 {age}\".format(age=old))\n",
    "    if man:\n",
    "        print(\"남자입니다.\")\n",
    "    else:\n",
    "        print(\"여자입니다.\")"
   ]
  },
  {
   "cell_type": "code",
   "execution_count": 161,
   "id": "15c3013c",
   "metadata": {},
   "outputs": [
    {
     "name": "stdout",
     "output_type": "stream",
     "text": [
      "나의 이름은 이숭무\n",
      "나의 나이는 35\n",
      "남자입니다.\n",
      "나의 이름은 이숭무\n",
      "나의 나이는 40\n",
      "남자입니다.\n",
      "나의 이름은 노사연\n",
      "나의 나이는 58\n",
      "여자입니다.\n"
     ]
    }
   ],
   "source": [
    "say_myself(\"이숭무\")\n",
    "say_myself(\"이숭무\", 40)\n",
    "say_myself(\"노사연\", 58, False)"
   ]
  },
  {
   "cell_type": "code",
   "execution_count": 162,
   "id": "cc7a426f",
   "metadata": {},
   "outputs": [
    {
     "name": "stdout",
     "output_type": "stream",
     "text": [
      "함수 안에서 실행된 값 : 100\n",
      "1\n"
     ]
    }
   ],
   "source": [
    "# 전역변수와 지역변수\n",
    "b = 1 # 전역 변수\n",
    "def test1():\n",
    "    b = 100 # 지역 변수\n",
    "    print(f\"함수 안에서 실행된 값 : {b}\") #지역변수\n",
    "\n",
    "test1()\n",
    "print(b) # 전역변수가 실행이 됨"
   ]
  },
  {
   "cell_type": "code",
   "execution_count": 164,
   "id": "587f69bf",
   "metadata": {},
   "outputs": [],
   "source": [
    "b = 1\n",
    "def test1():\n",
    "    global b #  전역변수 b\n",
    "    b = 100\n",
    "    print(f\"함수 안에서 실행된 값 : {b}\") #지역변수"
   ]
  },
  {
   "cell_type": "code",
   "execution_count": 166,
   "id": "cae03081",
   "metadata": {},
   "outputs": [
    {
     "name": "stdout",
     "output_type": "stream",
     "text": [
      "1\n",
      "함수 안에서 실행된 값 : 100\n",
      "100\n"
     ]
    }
   ],
   "source": [
    "print(b)\n",
    "test1()\n",
    "print(b)"
   ]
  },
  {
   "cell_type": "code",
   "execution_count": 167,
   "id": "5637b437",
   "metadata": {},
   "outputs": [
    {
     "name": "stdout",
     "output_type": "stream",
     "text": [
      "7\n"
     ]
    }
   ],
   "source": [
    "# lambda 함수(람다 함수)\n",
    "def add(a, b):\n",
    "    return a + b\n",
    "result = add(3, 4)\n",
    "print(result)"
   ]
  },
  {
   "cell_type": "code",
   "execution_count": 168,
   "id": "d8b69e43",
   "metadata": {},
   "outputs": [
    {
     "name": "stdout",
     "output_type": "stream",
     "text": [
      "9\n"
     ]
    }
   ],
   "source": [
    "add = lambda a , b : a + b \n",
    "result = add(4, 5)\n",
    "print(result)"
   ]
  },
  {
   "cell_type": "code",
   "execution_count": 169,
   "id": "dec0b446",
   "metadata": {},
   "outputs": [
    {
     "name": "stdout",
     "output_type": "stream",
     "text": [
      "10\n"
     ]
    }
   ],
   "source": [
    "def add_mul(opt, a, b):\n",
    "    if opt == \"add\":\n",
    "        return a + b\n",
    "    else:\n",
    "        return a * b\n",
    "result = add_mul(\"add\", 4, 6)\n",
    "print(result)"
   ]
  },
  {
   "cell_type": "code",
   "execution_count": null,
   "id": "dae1679c",
   "metadata": {},
   "outputs": [],
   "source": [
    "add_mul = lambda opt, a, b : a + b if opt == \"add\" else a * b"
   ]
  },
  {
   "cell_type": "code",
   "execution_count": 170,
   "id": "05129a94",
   "metadata": {},
   "outputs": [],
   "source": [
    "def calu(opt, a, b):\n",
    "    if opt == \"add\":\n",
    "        return a + b\n",
    "    elif opt == \"sub\":\n",
    "        return a - b\n",
    "    elif opt == \"mul\":\n",
    "        return a * b\n",
    "    else:\n",
    "        return a / b\n",
    "\n",
    "def calulator(opt , a, b):\n",
    "    if opt == \"add\":\n",
    "        return a + b\n",
    "    else:\n",
    "        if opt == \"sub\":\n",
    "            return a - b\n",
    "        else:\n",
    "            if opt == \"mul\":\n",
    "                return a * b\n",
    "            else:\n",
    "                return a / b"
   ]
  },
  {
   "cell_type": "code",
   "execution_count": 174,
   "id": "46d95f63",
   "metadata": {},
   "outputs": [],
   "source": [
    "calulator = lambda opt , a , b : a + b if opt == \"add\" else ( \\\n",
    "                                 a - b if opt == \"sub\" else( \\\n",
    "                                 a * b if opt == \"mul\" else a / b))                      "
   ]
  },
  {
   "cell_type": "code",
   "execution_count": 176,
   "id": "80ad178a",
   "metadata": {},
   "outputs": [
    {
     "name": "stdout",
     "output_type": "stream",
     "text": [
      "9\n",
      "1\n"
     ]
    }
   ],
   "source": [
    "result = calulator(\"add\", 5, 4)\n",
    "print(result)\n",
    "result = calulator(\"sub\", 5, 4)\n",
    "print(result)"
   ]
  },
  {
   "cell_type": "code",
   "execution_count": 180,
   "id": "17b9ca0d",
   "metadata": {},
   "outputs": [],
   "source": [
    "### 파일 입력, 출력\n",
    "#f = open(\"C:/Users/user/Desktop/anaconda/test.txt\",\"w\")\n",
    "f = open(\"test.txt\", \"w\")\n",
    "f.write(\"1번째 줄입니다.\\n\")\n",
    "f.write(\"2번째 줄입니다.\\n\")\n",
    "f.write(\"3번째 줄입니다.\\n\")\n",
    "f.close()"
   ]
  },
  {
   "cell_type": "code",
   "execution_count": 181,
   "id": "86a273d7",
   "metadata": {},
   "outputs": [],
   "source": [
    "f = open(\"test.txt\", \"w\") # 덮어 쓰기\n",
    "for i in range(1, 11):\n",
    "    f.write(f\"{i}번째 줄입니다.\\n\")\n",
    "f.close()"
   ]
  },
  {
   "cell_type": "code",
   "execution_count": 183,
   "id": "0d278dc9",
   "metadata": {},
   "outputs": [],
   "source": [
    "f = open(\"test.txt\", \"a\") # append : 다음 줄부터 내용을 추가\n",
    "for i in range(11, 21):\n",
    "    f.write(f\"{i}번째 줄입니다.\\n\")\n",
    "f.close()"
   ]
  },
  {
   "cell_type": "code",
   "execution_count": 186,
   "id": "6bbda8a7",
   "metadata": {},
   "outputs": [
    {
     "name": "stdout",
     "output_type": "stream",
     "text": [
      "1번째 줄입니다.\n",
      "\n",
      "2번째 줄입니다.\n",
      "\n",
      "3번째 줄입니다.\n",
      "\n",
      "4번째 줄입니다.\n",
      "\n"
     ]
    }
   ],
   "source": [
    "### 파일 내용 읽기\n",
    "f = open(\"test.txt\" , \"r\") # read\n",
    "line = f.readline()\n",
    "print(line)\n",
    "line = f.readline()\n",
    "print(line)\n",
    "line = f.readline()\n",
    "print(line)\n",
    "line = f.readline()\n",
    "print(line)\n",
    "f.close()"
   ]
  },
  {
   "cell_type": "code",
   "execution_count": 189,
   "id": "c4361eac",
   "metadata": {},
   "outputs": [
    {
     "name": "stdout",
     "output_type": "stream",
     "text": [
      "1번째 줄입니다.\n",
      "\n",
      "2번째 줄입니다.\n",
      "\n",
      "3번째 줄입니다.\n",
      "\n",
      "4번째 줄입니다.\n",
      "\n",
      "5번째 줄입니다.\n",
      "\n",
      "6번째 줄입니다.\n",
      "\n",
      "7번째 줄입니다.\n",
      "\n",
      "8번째 줄입니다.\n",
      "\n",
      "9번째 줄입니다.\n",
      "\n",
      "10번째 줄입니다.\n",
      "\n",
      "11번째 줄입니다.\n",
      "\n",
      "12번째 줄입니다.\n",
      "\n",
      "13번째 줄입니다.\n",
      "\n",
      "14번째 줄입니다.\n",
      "\n",
      "15번째 줄입니다.\n",
      "\n",
      "16번째 줄입니다.\n",
      "\n",
      "17번째 줄입니다.\n",
      "\n",
      "18번째 줄입니다.\n",
      "\n",
      "19번째 줄입니다.\n",
      "\n",
      "20번째 줄입니다.\n",
      "\n",
      "11번째 줄입니다.\n",
      "\n",
      "12번째 줄입니다.\n",
      "\n",
      "13번째 줄입니다.\n",
      "\n",
      "14번째 줄입니다.\n",
      "\n",
      "15번째 줄입니다.\n",
      "\n",
      "16번째 줄입니다.\n",
      "\n",
      "17번째 줄입니다.\n",
      "\n",
      "18번째 줄입니다.\n",
      "\n",
      "19번째 줄입니다.\n",
      "\n",
      "20번째 줄입니다.\n",
      "\n",
      "============================================================\n",
      "1번째 줄입니다.\n",
      "\n",
      "2번째 줄입니다.\n",
      "\n",
      "3번째 줄입니다.\n",
      "\n",
      "4번째 줄입니다.\n",
      "\n",
      "5번째 줄입니다.\n",
      "\n",
      "6번째 줄입니다.\n",
      "\n",
      "7번째 줄입니다.\n",
      "\n",
      "8번째 줄입니다.\n",
      "\n",
      "9번째 줄입니다.\n",
      "\n",
      "10번째 줄입니다.\n",
      "\n",
      "11번째 줄입니다.\n",
      "\n",
      "12번째 줄입니다.\n",
      "\n",
      "13번째 줄입니다.\n",
      "\n",
      "14번째 줄입니다.\n",
      "\n",
      "15번째 줄입니다.\n",
      "\n",
      "16번째 줄입니다.\n",
      "\n",
      "17번째 줄입니다.\n",
      "\n",
      "18번째 줄입니다.\n",
      "\n",
      "19번째 줄입니다.\n",
      "\n",
      "20번째 줄입니다.\n",
      "\n",
      "11번째 줄입니다.\n",
      "\n",
      "12번째 줄입니다.\n",
      "\n",
      "13번째 줄입니다.\n",
      "\n",
      "14번째 줄입니다.\n",
      "\n",
      "15번째 줄입니다.\n",
      "\n",
      "16번째 줄입니다.\n",
      "\n",
      "17번째 줄입니다.\n",
      "\n",
      "18번째 줄입니다.\n",
      "\n",
      "19번째 줄입니다.\n",
      "\n",
      "20번째 줄입니다.\n",
      "\n"
     ]
    }
   ],
   "source": [
    "f = open(\"test.txt\", \"r\")\n",
    "while True:\n",
    "    line = f.readline()\n",
    "    if line: # 행씩 가져 옴\n",
    "        print(line)\n",
    "    else:\n",
    "        break\n",
    "f.close()\n",
    "\n",
    "print(\"==\" * 30)\n",
    "f = open(\"test.txt\", \"r\")\n",
    "while True:\n",
    "    line = f.readline()\n",
    "    if not line: # not '' : not False : True\n",
    "        break\n",
    "    print(line)\n",
    "f.close()"
   ]
  },
  {
   "cell_type": "code",
   "execution_count": 199,
   "id": "751ea79b",
   "metadata": {},
   "outputs": [
    {
     "name": "stdout",
     "output_type": "stream",
     "text": [
      "['1번째 줄입니다.\\n', '2번째 줄입니다.\\n', '3번째 줄입니다.\\n', '4번째 줄입니다.\\n', '5번째 줄입니다.\\n', '6번째 줄입니다.\\n', '7번째 줄입니다.\\n', '8번째 줄입니다.\\n', '9번째 줄입니다.\\n', '10번째 줄입니다.\\n', '11번째 줄입니다.\\n', '12번째 줄입니다.\\n', '13번째 줄입니다.\\n', '14번째 줄입니다.\\n', '15번째 줄입니다.\\n', '16번째 줄입니다.\\n', '17번째 줄입니다.\\n', '18번째 줄입니다.\\n', '19번째 줄입니다.\\n', '20번째 줄입니다.\\n', '11번째 줄입니다.\\n', '12번째 줄입니다.\\n', '13번째 줄입니다.\\n', '14번째 줄입니다.\\n', '15번째 줄입니다.\\n', '16번째 줄입니다.\\n', '17번째 줄입니다.\\n', '18번째 줄입니다.\\n', '19번째 줄입니다.\\n', '20번째 줄입니다.\\n']\n"
     ]
    }
   ],
   "source": [
    "f = open(\"test.txt\",\"r\")\n",
    "lines = f.readlines()\n",
    "print(lines)\n",
    "\n",
    "for line in lines:\n",
    "    print(line)\n",
    "    \n",
    "print(\"\".join(lines))"
   ]
  },
  {
   "cell_type": "code",
   "execution_count": 196,
   "id": "d324f059",
   "metadata": {},
   "outputs": [
    {
     "name": "stdout",
     "output_type": "stream",
     "text": [
      "['1', '2', '3', '4', '5']\n",
      "1 2 3 4 5\n",
      "12345\n",
      "p,y,t,h,o,n\n"
     ]
    }
   ],
   "source": [
    "l = [\"1\",\"2\",\"3\",\"4\",\"5\"]\n",
    "print(l)\n",
    "print(\" \".join(l))\n",
    "print(\"\".join(l))\n",
    "s = \"python\"\n",
    "print(\",\".join(s))"
   ]
  },
  {
   "cell_type": "code",
   "execution_count": 202,
   "id": "ae56f583",
   "metadata": {},
   "outputs": [
    {
     "name": "stdout",
     "output_type": "stream",
     "text": [
      "1번째 줄입니다.\n",
      "2번째 줄입니다.\n",
      "3번째 줄입니다.\n",
      "4번째 줄입니다.\n",
      "5번째 줄입니다.\n",
      "6번째 줄입니다.\n",
      "7번째 줄입니다.\n",
      "8번째 줄입니다.\n",
      "9번째 줄입니다.\n",
      "10번째 줄입니다.\n",
      "11번째 줄입니다.\n",
      "12번째 줄입니다.\n",
      "13번째 줄입니다.\n",
      "14번째 줄입니다.\n",
      "15번째 줄입니다.\n",
      "16번째 줄입니다.\n",
      "17번째 줄입니다.\n",
      "18번째 줄입니다.\n",
      "19번째 줄입니다.\n",
      "20번째 줄입니다.\n",
      "11번째 줄입니다.\n",
      "12번째 줄입니다.\n",
      "13번째 줄입니다.\n",
      "14번째 줄입니다.\n",
      "15번째 줄입니다.\n",
      "16번째 줄입니다.\n",
      "17번째 줄입니다.\n",
      "18번째 줄입니다.\n",
      "19번째 줄입니다.\n",
      "20번째 줄입니다.\n",
      "\n"
     ]
    }
   ],
   "source": [
    "f = open(\"test.txt\", \"r\")\n",
    "data = f.read()\n",
    "print(data)"
   ]
  },
  {
   "cell_type": "code",
   "execution_count": 204,
   "id": "394f8183",
   "metadata": {},
   "outputs": [
    {
     "name": "stdout",
     "output_type": "stream",
     "text": [
      "1번째 줄입니다.\n",
      "2번째 줄입니다.\n",
      "3번째 줄입니다.\n",
      "4번째 줄입니다.\n",
      "5번째 줄입니다.\n",
      "6번째 줄입니다.\n",
      "7번째 줄입니다.\n",
      "8번째 줄입니다.\n",
      "9번째 줄입니다.\n",
      "10번째 줄입니다.\n",
      "11번째 줄입니다.\n",
      "12번째 줄입니다.\n",
      "13번째 줄입니다.\n",
      "14번째 줄입니다.\n",
      "15번째 줄입니다.\n",
      "16번째 줄입니다.\n",
      "17번째 줄입니다.\n",
      "18번째 줄입니다.\n",
      "19번째 줄입니다.\n",
      "\n"
     ]
    }
   ],
   "source": [
    "f = open(\"test1.txt\", \"w\")\n",
    "for i in range(1, 20):\n",
    "    f.write(f\"{i}번째 줄입니다.\\n\")\n",
    "f.close()\n",
    "f = open(\"test1.txt\", \"r\")\n",
    "data = f.read()\n",
    "f.close()\n",
    "print(data)"
   ]
  },
  {
   "cell_type": "code",
   "execution_count": 207,
   "id": "5e623fa0",
   "metadata": {},
   "outputs": [
    {
     "name": "stdout",
     "output_type": "stream",
     "text": [
      "1번째 줄입니다.\n",
      "2번째 줄입니다.\n",
      "3번째 줄입니다.\n",
      "4번째 줄입니다.\n",
      "5번째 줄입니다.\n",
      "6번째 줄입니다.\n",
      "7번째 줄입니다.\n",
      "8번째 줄입니다.\n",
      "9번째 줄입니다.\n",
      "10번째 줄입니다.\n",
      "\n",
      "1번째 줄입니다.\n",
      "2번째 줄입니다.\n",
      "3번째 줄입니다.\n",
      "4번째 줄입니다.\n",
      "5번째 줄입니다.\n",
      "6번째 줄입니다.\n",
      "7번째 줄입니다.\n",
      "8번째 줄입니다.\n",
      "9번째 줄입니다.\n",
      "10번째 줄입니다.\n",
      "11번째 줄입니다.\n",
      "12번째 줄입니다.\n",
      "13번째 줄입니다.\n",
      "14번째 줄입니다.\n",
      "15번째 줄입니다.\n",
      "16번째 줄입니다.\n",
      "17번째 줄입니다.\n",
      "18번째 줄입니다.\n",
      "19번째 줄입니다.\n",
      "20번째 줄입니다.\n",
      "\n"
     ]
    }
   ],
   "source": [
    "with open(\"test2.txt\",\"w\") as f:\n",
    "    for i in range(1, 11):\n",
    "        f.write(f\"{i}번째 줄입니다.\\n\")\n",
    "with open(\"test2.txt\",\"r\") as f:\n",
    "    data = f.read()\n",
    "print(data)\n",
    "\n",
    "with open(\"test2.txt\", \"a\") as f:\n",
    "    for i in range(11, 21):\n",
    "        f.write(f\"{i}번째 줄입니다.\\n\")\n",
    "with open(\"test2.txt\",\"r\") as f:\n",
    "    data = f.read()\n",
    "print(data)"
   ]
  },
  {
   "cell_type": "code",
   "execution_count": null,
   "id": "f44501a2",
   "metadata": {},
   "outputs": [],
   "source": []
  },
  {
   "cell_type": "code",
   "execution_count": null,
   "id": "32e96a00",
   "metadata": {},
   "outputs": [],
   "source": []
  },
  {
   "cell_type": "code",
   "execution_count": null,
   "id": "56fbfcec",
   "metadata": {},
   "outputs": [],
   "source": []
  },
  {
   "cell_type": "code",
   "execution_count": null,
   "id": "a5e75d5d",
   "metadata": {},
   "outputs": [],
   "source": []
  },
  {
   "cell_type": "code",
   "execution_count": null,
   "id": "a9a86293",
   "metadata": {},
   "outputs": [],
   "source": []
  },
  {
   "cell_type": "code",
   "execution_count": null,
   "id": "9ddab4d4",
   "metadata": {},
   "outputs": [],
   "source": []
  }
 ],
 "metadata": {
  "kernelspec": {
   "display_name": "Python 3 (ipykernel)",
   "language": "python",
   "name": "python3"
  },
  "language_info": {
   "codemirror_mode": {
    "name": "ipython",
    "version": 3
   },
   "file_extension": ".py",
   "mimetype": "text/x-python",
   "name": "python",
   "nbconvert_exporter": "python",
   "pygments_lexer": "ipython3",
   "version": "3.8.12"
  }
 },
 "nbformat": 4,
 "nbformat_minor": 5
}
