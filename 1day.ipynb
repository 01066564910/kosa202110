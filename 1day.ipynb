{
 "cells": [
  {
   "cell_type": "code",
   "execution_count": 2,
   "id": "f57db83c",
   "metadata": {},
   "outputs": [
    {
     "name": "stdout",
     "output_type": "stream",
     "text": [
      "hello python\n"
     ]
    }
   ],
   "source": [
    "print(\"hello python\")"
   ]
  },
  {
   "cell_type": "code",
   "execution_count": 76,
   "id": "9a9e16f2",
   "metadata": {},
   "outputs": [
    {
     "data": {
      "text/html": [
       "<style>\n",
       "div.container { width:100% !important; }\n",
       "div.CodeMirror {font-family: Consolas; font-size: 35pt;}\n",
       "div.output { font-size: 16pt; font-weight: bold;}\n",
       "div.input { font-family: Consolas; font-size: 35pt;}\n",
       "div.prompt { min-width: 100px;}\n",
       "</style>\n"
      ],
      "text/plain": [
       "<IPython.core.display.HTML object>"
      ]
     },
     "metadata": {},
     "output_type": "display_data"
    }
   ],
   "source": [
    "from IPython.core.display import display, HTML\n",
    "display(HTML(\n",
    "\"\"\"<style>\n",
    "div.container { width:100% !important; }\n",
    "div.CodeMirror {font-family: Consolas; font-size: 35pt;}\n",
    "div.output { font-size: 16pt; font-weight: bold;}\n",
    "div.input { font-family: Consolas; font-size: 35pt;}\n",
    "div.prompt { min-width: 100px;}\n",
    "</style>\n",
    "\"\"\"))"
   ]
  },
  {
   "cell_type": "code",
   "execution_count": 13,
   "id": "3d0fa7e4",
   "metadata": {},
   "outputs": [
    {
     "name": "stdout",
     "output_type": "stream",
     "text": [
      "파이썬은 쉬워요\n"
     ]
    }
   ],
   "source": [
    "print(\"파이썬은 쉬워요\")"
   ]
  },
  {
   "cell_type": "code",
   "execution_count": 19,
   "id": "c3c90702",
   "metadata": {},
   "outputs": [
    {
     "name": "stdout",
     "output_type": "stream",
     "text": [
      "실행1\n",
      "실행2\n",
      "파이썬은 쉬워요\n",
      "실행 1\n",
      "실행 2\n",
      "1\n",
      "1\n"
     ]
    }
   ],
   "source": [
    "print(\"실행1\")\n",
    "print(\"실행2\")\n",
    "# 파이썬의 명령문은 줄단위이다.\n",
    "print(\"파이썬은 \" + \\\n",
    "      \"쉬워요\" )\n",
    "\n",
    "print(\"실행 1\"); print(\"실행 2\")\n",
    "num = 1\n",
    "if num >= 1:\n",
    "    print(\"1\")\n",
    "    if 1 == 1:\n",
    "        print(\"1\")"
   ]
  },
  {
   "cell_type": "code",
   "execution_count": null,
   "id": "d67b40d0",
   "metadata": {},
   "outputs": [],
   "source": [
    "# 리터널 : 영어, 한국어, 중국어,..., 숫자(정수 , 실수, 지수)\n",
    "print(\"실행\")\n",
    "#        문자열 리터널, 숫자 리터널"
   ]
  },
  {
   "cell_type": "code",
   "execution_count": 31,
   "id": "6f58151d",
   "metadata": {},
   "outputs": [
    {
     "name": "stdout",
     "output_type": "stream",
     "text": [
      "1\n",
      "11\n",
      "-9\n",
      "10\n",
      "0.1\n",
      "1\n",
      "1\n",
      "11\n",
      "10\n",
      "3\n",
      "13\n",
      "1\n",
      "3\n",
      "1000\n"
     ]
    }
   ],
   "source": [
    "# 숫자형 : 숫자 리터널\n",
    "### 1,2,10, 0.5 10.6\n",
    "print(1)\n",
    "print(1 + 10)\n",
    "### +, - , * , /\n",
    "print(1 - 10)\n",
    "print(1 * 10)\n",
    "print(1 / 10)\n",
    "###  리터널 값을 저장하는 것을 변수\n",
    "가 = 1 ## '='을 대입\n",
    "print(가)\n",
    "a = 1\n",
    "print(a)\n",
    "b = 10\n",
    "print( a + b)\n",
    "\n",
    "a = 10# 변수는 오로지 하나의 값만을 저장하기 때문에 마지막 값을 가지게 된다.\n",
    "b = 3\n",
    "print(a)\n",
    "print(b)\n",
    "print( a + b )\n",
    "### 나눈 나머지\n",
    "c = a % b\n",
    "print(c)\n",
    "# 몫\n",
    "c = a // b\n",
    "print(c)\n",
    "# 제곱승\n",
    "c = a ** b\n",
    "print(c)\n",
    "\n",
    "#### 숫자 리터널 : 1, 10, 0.5, 10.7\n",
    "### 숫자 리터널이 사용하는 연산자 : + ,- , *, / , %, // , **"
   ]
  },
  {
   "cell_type": "code",
   "execution_count": 37,
   "id": "c867252a",
   "metadata": {},
   "outputs": [
    {
     "name": "stdout",
     "output_type": "stream",
     "text": [
      "f\n",
      "2\n",
      "11\n",
      "Life is too short, You need python\n",
      "Life is too short, You need python\n",
      "Life's too short, You need python\n",
      "Life is too short, \"You need python\"\n",
      "Life is too short, \"You need python\"\n",
      "Life's too short, You need python\n"
     ]
    }
   ],
   "source": [
    "### 문자열 리터널 : a, b,c ,d, f,  가,나,...\n",
    "print(\"f\")\n",
    "print(1 + 1) # 숫자\n",
    "print(\"1\" + \"1\") # \"\"을 표시하면 문자열\n",
    "### 숫자 리터널 : 1, 2, 3,\n",
    "### 문자열 리터널 : \"1\", \"2\", \"a\",...,    a(x) ==> 변수 \n",
    "print(\"Life is too short, You need python\")\n",
    "print('Life is too short, You need python')\n",
    "print(\"Life's too short, You need python\")\n",
    "print('Life is too short, \"You need python\"')\n",
    "### 문자열 : \"\", ''\n",
    "print(\"Life is too short, \\\"You need python\\\"\")\n",
    "print('Life\\'s too short, You need python')"
   ]
  },
  {
   "cell_type": "code",
   "execution_count": 48,
   "id": "72328f8b",
   "metadata": {},
   "outputs": [
    {
     "name": "stdout",
     "output_type": "stream",
     "text": [
      "이\n",
      "숭\n",
      "무\n",
      "이\n",
      "숭\n",
      "무\n",
      "Life is too short, \n",
      "You need python\n",
      "10\n",
      "a\n",
      "1\n",
      "1\n",
      "Python \n",
      "is fun\n",
      "2\n",
      "Python is fun\n",
      "Python Python Python \n"
     ]
    }
   ],
   "source": [
    "'''\n",
    "print('이\n",
    "     숭\n",
    "      무')\n",
    "'''\n",
    "print('''이\n",
    "숭\n",
    "무''') ### 행 바꿈문자를 사용\n",
    "print(\"\"\"이\n",
    "숭\n",
    "무\"\"\")\n",
    "print(\"\"\"Life is too short, \n",
    "You need python\"\"\")\n",
    "#### 문자열리터널을 나타내는 기호 : \"\", '' ,\"\"\"\"\"\" ,''''''\n",
    "print(a) # 변수 a\n",
    "print(\"a\") # 문자열 a\n",
    "print(1) # 숫자 1\n",
    "print(\"1\") # 문자열 1\n",
    "head = \"Python \"\n",
    "tail = \"is fun\"\n",
    "print(head)\n",
    "print(tail)\n",
    "print( 1 + 1) # 2\n",
    "print(head + tail) # 문자열에서 +는 붙이기 연산자.\n",
    "# print( 1 + \"1\" ) # 숫자와 문자열은 +연산을 할 수 없다.\n",
    "print(head * 3) # 문자열에서 *연산자는 반복 연산자\n",
    "## 문자열에서의 연산자는 +, *\n",
    "## 숫자 연산자 : +, -, * ,/ ,%, //, **"
   ]
  },
  {
   "cell_type": "code",
   "execution_count": 50,
   "id": "e2a5ccbe",
   "metadata": {},
   "outputs": [
    {
     "name": "stdout",
     "output_type": "stream",
     "text": [
      "결과를 화면에 출력\n",
      "3\n"
     ]
    }
   ],
   "source": [
    "print(\"결과를 화면에 출력\")\n",
    "a = 1\n",
    "b = 2\n",
    "print( a + b)"
   ]
  },
  {
   "cell_type": "code",
   "execution_count": 63,
   "id": "b76fa348",
   "metadata": {},
   "outputs": [
    {
     "name": "stdout",
     "output_type": "stream",
     "text": [
      "Life is too short, You need python\n",
      "34\n",
      "s\n",
      "Y\n",
      "s\n",
      "n\n",
      "n\n",
      "e\n"
     ]
    }
   ],
   "source": [
    "# 문자열 인덱싱과 슬라이싱\n",
    "a = \"Life is too short, You need python\"\n",
    "#    0123456789012345678901234567890123\n",
    "#              1         2         3\n",
    "#    4321098765432109876543210987654321-\n",
    "#        3         2         1\n",
    "print(a)\n",
    "print(len(a)) # len(a): 자료의 크기를 확인 \n",
    "# index : 문자열에서 각 문자가 가지고 있는 번호 : 0번부터 시작\n",
    "# index의 마지막 번호는 크기 보다 1 작다.\n",
    "print(a[12])\n",
    "print(a[19])\n",
    "print(a[6])\n",
    "print(a[33])\n",
    "print(a[-1])\n",
    "# indexing : 각 문자가 가지고 있는 고유의 번호를 이용해서 \n",
    "#            원하는 문자를 가지고 오는 것을 말한다.\n",
    "###  index번호 24번과 같은 마이너스 번호는 몇번?\n",
    "print(a[-10])"
   ]
  },
  {
   "cell_type": "code",
   "execution_count": 64,
   "id": "b243d7e4",
   "metadata": {},
   "outputs": [
    {
     "name": "stdout",
     "output_type": "stream",
     "text": [
      "L\n",
      "i\n",
      "f\n",
      "e\n",
      "Life\n",
      "Life\n",
      "Life \n",
      "o sho\n",
      "Life\n",
      "o sho\n"
     ]
    }
   ],
   "source": [
    "# 문제 : 변수 a에 있는 문자열에서 Life만 출력하시오(+연산자 사용)\n",
    "print(a[0])\n",
    "print(a[1])\n",
    "print(a[2])\n",
    "print(a[3])\n",
    "print(a[0]+a[1]+a[2]+a[3])\n",
    "### slicing : 원하는 문자열을 잘라서 가져오기\n",
    "b = 5\n",
    "print(a[0: 0 + 4])\n",
    "print(a[0: 0 + b])\n",
    "print(a[10 : 10 + b])\n",
    "print(a[0:4]) # 0번부터 4전까지 \n",
    "print(a[10 : 15]) # 10번부터 15번전까지 5글자."
   ]
  },
  {
   "cell_type": "code",
   "execution_count": 93,
   "id": "50a475cf",
   "metadata": {},
   "outputs": [
    {
     "name": "stdout",
     "output_type": "stream",
     "text": [
      "L\n",
      "L\n",
      "n\n",
      "n\n",
      "n\n",
      "python\n",
      "python\n",
      "python\n",
      "python\n",
      "short\n",
      "short\n",
      "short\n",
      "short\n",
      "short\n",
      "short\n",
      "Life\n",
      "Life\n",
      "python\n",
      "python\n",
      "python\n"
     ]
    }
   ],
   "source": [
    "a = \"Life is too short, You need python\"\n",
    "#    0123456789012345678901234567890123\n",
    "#              1         2         3\n",
    "#    4321098765432109876543210987654321-\n",
    "#        3         2         1\n",
    "## 맨 앞 문자를 출력하시오\n",
    "print(a[0])\n",
    "print(a[-34])\n",
    "### 맨뒤문자를 출력하시오\n",
    "print(a[-1])\n",
    "print(a[33])\n",
    "print(a[len(a)-1])\n",
    "\n",
    "### slicing \n",
    "## python을 출력하시오\n",
    "print(a[28: 28+ 6])\n",
    "print(a[28:34])\n",
    "print(a[28:len(a)])\n",
    "print(a[-6: 34])\n",
    "## short를 출력하시오\n",
    "print(a[12: 17])\n",
    "print(a[12: 12 + 5])\n",
    "print(a[-22: -17])\n",
    "print(a[-22: -22+5])\n",
    "print(a[-22: 17])\n",
    "print(a[12: -17])\n",
    "### Life 를 출력하시오.\n",
    "print(a[0:4])\n",
    "print(a[:4]) \n",
    "# 처음 부터 출력하는 경우에는 0번 index를 적지 않아도 된다.\n",
    "# python을 출력\n",
    "print(a[28: 34])\n",
    "print(a[28:]) # p부터 마지막까지\n",
    "print(a[-6:]) \n",
    "# 마지막까지 출력할 경우 마지막 index는 적지 않아도 된다."
   ]
  },
  {
   "cell_type": "code",
   "execution_count": 95,
   "id": "28585340",
   "metadata": {},
   "outputs": [
    {
     "name": "stdout",
     "output_type": "stream",
     "text": [
      "20001025\n",
      "RheeSoongMoo\n",
      "2000\n",
      "10\n",
      "25\n"
     ]
    }
   ],
   "source": [
    "a = \"20001025RheeSoongMoo\"\n",
    "# 날짜와 이름을 분리하여 출력하시오.\n",
    "print(a[:8])\n",
    "print(a[8:])\n",
    "# 년과 월 그리고 일을 따로 출력하시오.\n",
    "print(a[:4])\n",
    "print(a[4:4+2])\n",
    "print(a[6:6+2])"
   ]
  },
  {
   "cell_type": "code",
   "execution_count": 99,
   "id": "c76ed889",
   "metadata": {},
   "outputs": [
    {
     "name": "stdout",
     "output_type": "stream",
     "text": [
      "i\n",
      "10\n",
      "20\n",
      "pithon\n",
      "python\n"
     ]
    }
   ],
   "source": [
    "a = \"pithon\" \n",
    "print(a[1])\n",
    "i = 10\n",
    "print(i)\n",
    "i = 20\n",
    "print(i)\n",
    "# a[1] = 'y' #문자열에서는 indexing을 이용해서 데이터를 변경할 수\n",
    "# 없다.\n",
    "print(a)\n",
    "a = \"python\"\n",
    "print(a)"
   ]
  },
  {
   "cell_type": "code",
   "execution_count": 108,
   "id": "0aae3599",
   "metadata": {},
   "outputs": [
    {
     "name": "stdout",
     "output_type": "stream",
     "text": [
      "나의 이름은 이숭무이고 나이는 25이며 키는 170.500000입니다.\n",
      "이숭무의 계좌번호는 1111이고 잔액은 1000원입니다.\n",
      "이숭무의 계좌번호는 1111이고 잔액은 1000원입니다.\n"
     ]
    }
   ],
   "source": [
    "nai = 25 # decimal (d)\n",
    "ki = 170.5 #float (f)\n",
    "name = \"이숭무\" # string (s)\n",
    "## 나의 이름은 이숭무이고 나이는 25이며 키는 170.5입니다.\n",
    "# print(\"나의 이름은 \" + name + \"이고 나이는 \" + nai)\n",
    "# 포맷문자 \n",
    "# 정수 : %d,  실수는 %f , 문자열 %s\n",
    "print(\"나의 이름은 %s이고 나이는 %d이며 키는 %f입니다.\" % \\\n",
    "      (name, nai, ki))\n",
    "money = 1000\n",
    "account = '1111'\n",
    "name = '이숭무'\n",
    "# 이숭무의 계좌 번호는 1111 이고 잔액은 1000원입니다.\n",
    "print(\"%s의 계좌번호는 %s이고 잔액은 %d원입니다.\" % \\\n",
    "      (name, account, money))\n",
    "print(\"%s의 계좌번호는 %s이고 잔액은 %d원입니다.\" % \\\n",
    "      ('이숭무', '1111', 1000))"
   ]
  },
  {
   "cell_type": "code",
   "execution_count": 122,
   "id": "cbfc0535",
   "metadata": {},
   "outputs": [
    {
     "name": "stdout",
     "output_type": "stream",
     "text": [
      "나의 이름은 이숭무이고 나이는 30이며 키는 172.500000입니다.\n",
      "나의 이름은 이숭무이고 나이는 30이며 키는 172.5입니다.\n",
      "나의 이름은 이숭무이고 나이는 30이며 키는 172.50입니다.\n",
      "나의 이름은 이숭무이고 나이는 30이며 키는 172.500입니다.\n",
      "나의 이름은 이숭무이고 나이는 30이며 키는 172.500입니다.\n",
      "나의 이름은 이숭무이고 나이는 30이며 키는 172.255입니다.\n",
      "나의 이름은 이숭무이고 나이는 30이며 키는 172.25입니다.\n",
      "나의 이름은 이숭무이고 나이는 30이며 키는 172.26입니다.\n"
     ]
    }
   ],
   "source": [
    "age = 30\n",
    "height = 172.5\n",
    "name = '이숭무'\n",
    "print(\"나의 이름은 %s이고 나이는 %d이며 키는 %f입니다.\" % \\\n",
    "      (name, age, height))\n",
    "print(\"나의 이름은 %s이고 나이는 %d이며 키는 %5.1f입니다.\" % \\\n",
    "      (name, age, height))\n",
    "print(\"나의 이름은 %s이고 나이는 %d이며 키는 %5.2f입니다.\" % \\\n",
    "      (name, age, height))\n",
    "print(\"나의 이름은 %s이고 나이는 %d이며 키는 %5.3f입니다.\" % \\\n",
    "      (name, age, height))\n",
    "# 정수부는 출력공간과 상관없이 무조건 출력이 된다.\n",
    "print(\"나의 이름은 %s이고 나이는 %d이며 키는 %.3f입니다.\" % \\\n",
    "      (name, age, height))\n",
    "print(\"나의 이름은 %s이고 나이는 %d이며 키는 %.3f입니다.\" % \\\n",
    "      (name, age, 172.255))\n",
    "print(\"나의 이름은 %s이고 나이는 %d이며 키는 %.2f입니다.\" % \\\n",
    "      (name, age, 172.255))\n",
    "print(\"나의 이름은 %s이고 나이는 %d이며 키는 %.2f입니다.\" % \\\n",
    "      (name, age, 172.256))"
   ]
  },
  {
   "cell_type": "code",
   "execution_count": 130,
   "id": "d63a4298",
   "metadata": {},
   "outputs": [
    {
     "name": "stdout",
     "output_type": "stream",
     "text": [
      "나의 이름은   이숭무이고 나이는    30이며 키는     172.26입니다.\n",
      "나의 이름은 이숭무  이고 나이는    30이며 키는 172.26    입니다.\n",
      "나의 이름은 이숭무이고 나이는 30이며 키는 172.256입니다.\n"
     ]
    }
   ],
   "source": [
    "print(\"나의 이름은 %5s이고 나이는 %5d이며 키는 %10.2f입니다.\" % \\\n",
    "      (name, age, 172.256))\n",
    "print(\"나의 이름은 %-5s이고 나이는 %5d이며 키는 %-10.2f입니다.\" \\\n",
    "      % (name, age, 172.256))\n",
    "print(\"나의 이름은 %s이고 나이는 %s이며 키는 %s입니다.\" \\\n",
    "      % (name, age, 172.256))"
   ]
  },
  {
   "cell_type": "code",
   "execution_count": 129,
   "id": "984b75de",
   "metadata": {},
   "outputs": [
    {
     "name": "stdout",
     "output_type": "stream",
     "text": [
      "나의 이름은 이숭무입니다.\n",
      "나의 이름은 이숭무입니다.\n"
     ]
    }
   ],
   "source": [
    "print(\"나의 이름은 %s입니다.\" % name)\n",
    "print(\"나의 이름은 %s입니다.\" % (name))"
   ]
  },
  {
   "cell_type": "code",
   "execution_count": 135,
   "id": "20311bbb",
   "metadata": {},
   "outputs": [
    {
     "name": "stdout",
     "output_type": "stream",
     "text": [
      "나의 이름은 이숭무이고 나이는 30이며 키는 172.5입니다.\n",
      "나의 이름은 이숭무이고 나이는 30이며 키는 172.5입니다.\n",
      "나의 이름은 이숭무이고 나이는 30이며 키는 172.5입니다.\n",
      "나의 이름은 이숭무입니다.\n",
      "나의 이름은 이숭무입니다.\n"
     ]
    }
   ],
   "source": [
    "# format함수 \n",
    "name = '이숭무'\n",
    "age = 30\n",
    "height = 172.5\n",
    "# 나의 이름은 이숭무이고 나이는 30이며 키는 172.5입니다.\n",
    "print(\"나의 이름은 {0}이고 나이는 {1}이며 키는 {2}입니다.\".\\\n",
    "      format(name, age, height))\n",
    "print(\"나의 이름은 {1}이고 나이는 {0}이며 키는 {2}입니다.\".\\\n",
    "      format(age, name,  height))\n",
    "print(\"나의 이름은 {1}이고 나이는 {0}이며 키는 {2}입니다.\".\\\n",
    "      format(age, name, 172.5))\n",
    "# 나의 이름은 이숭무입니다.\n",
    "print(\"나의 이름은 {0}입니다.\".format('이숭무'))\n",
    "print(\"나의 이름은 {0}입니다.\".format(name))"
   ]
  },
  {
   "cell_type": "code",
   "execution_count": 144,
   "id": "8f5654b8",
   "metadata": {},
   "outputs": [
    {
     "name": "stdout",
     "output_type": "stream",
     "text": [
      "나의 이름은 이숭무이고 나이는 30이며 키는 172.5입니다.\n",
      "나의 이름은 이숭무이고 나이는 30이며 키는 172.5입니다.\n",
      "172.5\n",
      "나의 이름은 이숭무이고 나이는 30이며 키는 172.5입니다.\n",
      "나의 이름은 이숭무이고 나이는 30이며 키는 172.5입니다.\n"
     ]
    }
   ],
   "source": [
    "# 인수의 index를 이용하여 출력\n",
    "print(\"나의 이름은 {1}이고 나이는 {0}이며 키는 {2}입니다.\".\\\n",
    "      format(age, name, 172.5))\n",
    "# 인수의 index와 이름을 이용해서 출력\n",
    "print(\"나의 이름은 {1}이고 나이는 {0}이며 키는 {h}입니다.\".\\\n",
    "      format(age, name, h = 172.5))\n",
    "print(height)\n",
    "print(\"나의 이름은 {1}이고 나이는 {0}이며 키는 {h}입니다.\".\\\n",
    "      format(age, name, h = height))\n",
    "'''\n",
    "print(\"나의 이름은 {n}이고 나이는 {0}이며 키는 {h}입니다.\".\\\n",
    "      format(age, h = height , name))\n",
    "'''\n",
    "print(\"나의 이름은 {n}이고 나이는 {0}이며 키는 {h}입니다.\".\\\n",
    "      format(age, h = height , n = name))\n",
    "# 인수의 이름은 중간에 사용할 수 없다.\n",
    "# 인수의 이름을 사용할 경우에는 뒤에서 부터 하나씩 \n",
    "# 앞으로 만들어준다."
   ]
  },
  {
   "cell_type": "code",
   "execution_count": 145,
   "id": "41348002",
   "metadata": {},
   "outputs": [
    {
     "name": "stdout",
     "output_type": "stream",
     "text": [
      "나의 이름은 이숭무이고 나이는 30이며 불로그 이숭무입니다.\n"
     ]
    }
   ],
   "source": [
    "print(\"나의 이름은 {0}이고 나이는 {1}이며 불로그는 {0}입니다.\".\\\n",
    "     format(name, age))"
   ]
  },
  {
   "cell_type": "code",
   "execution_count": 146,
   "id": "731b1d47",
   "metadata": {},
   "outputs": [
    {
     "name": "stdout",
     "output_type": "stream",
     "text": [
      "나의 이름은 이숭무이고 나이는 35이며 키는 175.5입니다.\n"
     ]
    }
   ],
   "source": [
    "# f문자를 이용\n",
    "name = '이숭무'\n",
    "age = 35\n",
    "height = 175.5\n",
    "print(f\"나의 이름은 {name}이고 나이는 {age}이며 키는 {height}입니다.\")"
   ]
  }
 ],
 "metadata": {
  "kernelspec": {
   "display_name": "Python 3 (ipykernel)",
   "language": "python",
   "name": "python3"
  },
  "language_info": {
   "codemirror_mode": {
    "name": "ipython",
    "version": 3
   },
   "file_extension": ".py",
   "mimetype": "text/x-python",
   "name": "python",
   "nbconvert_exporter": "python",
   "pygments_lexer": "ipython3",
   "version": "3.8.12"
  }
 },
 "nbformat": 4,
 "nbformat_minor": 5
}
