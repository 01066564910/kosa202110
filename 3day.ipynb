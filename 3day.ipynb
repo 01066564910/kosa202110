{
 "cells": [
  {
   "cell_type": "code",
   "execution_count": 1,
   "id": "284f8089",
   "metadata": {},
   "outputs": [
    {
     "data": {
      "text/html": [
       "<style>\n",
       "div.container { width:100% !important; }\n",
       "div.CodeMirror {font-family: Consolas; font-size: 35pt;}\n",
       "div.output { font-size: 16pt; font-weight: bold;}\n",
       "div.input { font-family: Consolas; font-size: 35pt;}\n",
       "div.prompt { min-width: 100px;}\n",
       "</style>\n"
      ],
      "text/plain": [
       "<IPython.core.display.HTML object>"
      ]
     },
     "metadata": {},
     "output_type": "display_data"
    }
   ],
   "source": [
    "from IPython.core.display import display, HTML\n",
    "display(HTML(\n",
    "\"\"\"<style>\n",
    "div.container { width:100% !important; }\n",
    "div.CodeMirror {font-family: Consolas; font-size: 35pt;}\n",
    "div.output { font-size: 16pt; font-weight: bold;}\n",
    "div.input { font-family: Consolas; font-size: 35pt;}\n",
    "div.prompt { min-width: 100px;}\n",
    "</style>\n",
    "\"\"\"))"
   ]
  },
  {
   "cell_type": "code",
   "execution_count": 11,
   "id": "851f5a91",
   "metadata": {},
   "outputs": [
    {
     "name": "stdout",
     "output_type": "stream",
     "text": [
      "1\n",
      "1\n",
      "i\n",
      "1\n",
      "2\n",
      "6\n",
      "11\n",
      "33333\n"
     ]
    }
   ],
   "source": [
    "#리터널 : 자연어 (한국어, 영어, 일본, 중국어,...), 숫자\n",
    "#         a,b,c,d, 가,나,다,라,... , 1,2,3, 10.5\n",
    "# 숫자 리터널 : 1,2,3, 10.5, 17.22 (정수, 실수)\n",
    "# 문자열 리터널 : abcd, a, b, 가, 가나다\n",
    "# 숫자 자료형 (숫자 리터널)\n",
    "# 문자열 자료형 (문자열 리터널)\n",
    "print(1)\n",
    "a = 1 # a(변수)\n",
    "print(a) # 변수 a\n",
    "print(\"i\") # 문자열 리터널 i\n",
    "print(\"1\")\n",
    "print(1 + 1) # + , - , * , /\n",
    "print(3 * 2) \n",
    "print(\"1\" + \"1\") # + : 붙이기 연산자\n",
    "print(\"3\" * 5) # * : 문자열 반복 연산자"
   ]
  },
  {
   "cell_type": "code",
   "execution_count": 14,
   "id": "a52c256d",
   "metadata": {},
   "outputs": [
    {
     "name": "stdout",
     "output_type": "stream",
     "text": [
      "나\n",
      "나\n",
      "이숭무\n",
      "나\n"
     ]
    }
   ],
   "source": [
    "## 숫자 자료형 : 1,2,3, 10.5, 170.22 (정수 , 실수)\n",
    "## 문자열 자료형 : \"a\", \"abc\", 'abn', 'b', \n",
    "##                \"\"\"a\"\"\", '''a'''\n",
    "## 1(숫자), \"1\"(문자열) , a(변수), \"a\"(문자열)\n",
    "\n",
    "가 = \"나\"\n",
    "print(\"나\")\n",
    "print(가)\n",
    "a = \"이숭무\"\n",
    "print(a)\n",
    "a = 가\n",
    "print(a)"
   ]
  },
  {
   "cell_type": "code",
   "execution_count": 19,
   "id": "9ce57b95",
   "metadata": {},
   "outputs": [
    {
     "name": "stdout",
     "output_type": "stream",
     "text": [
      "i\n",
      "t\n",
      "t\n",
      "t\n"
     ]
    }
   ],
   "source": [
    "a = \"Life is too short\"\n",
    "#    01234567890123456 # index\n",
    "#              1\n",
    "#    76543210987654321 -\n",
    "#           1\n",
    "### indexing\n",
    "print(a[5])\n",
    "print(a[8])\n",
    "print(a[16])\n",
    "print(a[-1])\n"
   ]
  },
  {
   "cell_type": "code",
   "execution_count": 27,
   "id": "1e16d09a",
   "metadata": {},
   "outputs": [
    {
     "name": "stdout",
     "output_type": "stream",
     "text": [
      "too\n",
      "too\n",
      "short\n",
      "too\n",
      "Life\n",
      "Life\n",
      "short\n",
      "short\n",
      "short\n"
     ]
    }
   ],
   "source": [
    "# slicing\n",
    "a = \"Life is too short\"\n",
    "#    01234567890123456 # index\n",
    "#              1\n",
    "#    76543210987654321 -\n",
    "#           1\n",
    "print(a[8:8+3])\n",
    "print(a[8:11]) # 8부터 11전까지 \n",
    "print(a[12:17]) # 12부터 17전까지\n",
    "print(a[-9:-6])\n",
    "# Life를 출력하시오\n",
    "print(a[0:4])\n",
    "print(a[:4])\n",
    "# short를 출력\n",
    "print(a[12:17])\n",
    "print(a[12:])\n",
    "print(a[-5:])"
   ]
  },
  {
   "cell_type": "code",
   "execution_count": 35,
   "id": "011d3f0a",
   "metadata": {},
   "outputs": [
    {
     "name": "stdout",
     "output_type": "stream",
     "text": [
      "Life is too short\n",
      "Life is too short\n",
      "Life is too short\n",
      "Lf stosot\n",
      "Lf\n",
      "Lesosr\n",
      "trohs oot si efiL\n"
     ]
    }
   ],
   "source": [
    "a = \"Life is too short\"\n",
    "#    01234567890123456 # index\n",
    "#              1\n",
    "#    76543210987654321 -\n",
    "#           1\n",
    "## 처음부터 마지막까지 출력\n",
    "print(a[0:17])\n",
    "print(a[:])\n",
    "print(a)\n",
    "# 하나씩 띄어서 출력\n",
    "print(a[::2])\n",
    "print(a[:4:2])\n",
    "# 두글자 띄어서 출력\n",
    "print(a[::3])\n",
    "# 거꾸로 출력\n",
    "print(a[::-1])"
   ]
  },
  {
   "cell_type": "code",
   "execution_count": 51,
   "id": "7457f2ce",
   "metadata": {},
   "outputs": [
    {
     "name": "stdout",
     "output_type": "stream",
     "text": [
      "이숭무\n",
      "Life is too short\n",
      "17\n",
      "3\n",
      "2\n",
      "2\n",
      "8\n",
      "8\n",
      "8\n",
      "8\n",
      "6\n",
      "6\n",
      "12\n",
      "12\n",
      "-1\n"
     ]
    }
   ],
   "source": [
    "### 문자열 가공하기 위해서 사용하는 함수\n",
    "### a : 변수 , 'a' : 문자열, a() : 함수\n",
    "print(\"이숭무\") # argument : 인자\n",
    "a = \"Life is too short\"\n",
    "print(a)\n",
    "# 변수 a가 가지고 있는 데이터의 길이 출력\n",
    "print(len(a))\n",
    "# 변수 a가 가지고 있는 데이터에서 문자 'o'의 갯수를 출력\n",
    "print(a.count('o'))\n",
    "# f문자의 index(위치)번호를 출력하시오.\n",
    "print(a.find('f'))\n",
    "print(a.index('f'))\n",
    "# t문자의 index(위치)번호를 출력하시오.\n",
    "print(a.find('t'))\n",
    "print(a.index('t'))\n",
    "# 문자열의 첫번째 문자의 index를 가져옴\n",
    "# 'too'에 있는 't'의 index를 가져옴\n",
    "print(a.find('too')) \n",
    "print(a.index('too'))\n",
    "# s문자의 index(위치)번호를 출력하시오.\n",
    "print(a.find('s'))# 처음 만나는 문자의 index를 가져옴 \n",
    "print(a.index('s'))\n",
    "# index 7번 이후에 있는 's'의 index를 가져오시오.\n",
    "print(a.index('s',7))\n",
    "print(a.find('s',7))\n",
    "# 문자 'u'의 index를 출력하시오.\n",
    "print(a.find('u'))#없는 문자의 index를 찾는 경우 -1출력\n",
    "#print(a.index('u'))#index()함수는 없는 문자인 경우 오류"
   ]
  },
  {
   "cell_type": "code",
   "execution_count": 60,
   "id": "655535b8",
   "metadata": {
    "scrolled": false
   },
   "outputs": [
    {
     "name": "stdout",
     "output_type": "stream",
     "text": [
      "LIFE IS TOO SHORT\n",
      "life is too short\n",
      " Life is too short \n",
      "Life is too short\n",
      "Life is too short \n",
      " Life is too short\n",
      "Life is too short\n",
      "abLife is too short\n",
      "Life is too shortab\n"
     ]
    }
   ],
   "source": [
    "a = \"Life is too short\"\n",
    "# 변수 a에 있는 문자열을 모두 대문자로 출력\n",
    "print(a.upper())\n",
    "# 변수 a에 있는 문자열을 모두 소문자로 출력\n",
    "print(a.lower())\n",
    "a = \" Life is too short \"\n",
    "print(a)\n",
    "b = a.strip()\n",
    "print(b)\n",
    "b = a.lstrip()\n",
    "print(b)\n",
    "b = a.rstrip()\n",
    "print(b)\n",
    "a = \"abLife is too shortab\"\n",
    "print(a.strip('ab'))\n",
    "print(a.rstrip('ab'))\n",
    "print(a.lstrip('ab'))"
   ]
  },
  {
   "cell_type": "code",
   "execution_count": 70,
   "id": "652d65f6",
   "metadata": {},
   "outputs": [
    {
     "name": "stdout",
     "output_type": "stream",
     "text": [
      "Your leg is too short\n",
      "Life is too short\n",
      "============================================================\n",
      "False\n",
      "True\n",
      "False\n",
      "False\n",
      "True\n",
      "True\n",
      "True\n"
     ]
    }
   ],
   "source": [
    "# Life를 Your leg로 변경\n",
    "a = \"Life is too short\"\n",
    "b = a.replace(\"Life\",\"Your leg\")\n",
    "print(b)\n",
    "print(a)\n",
    "##########\n",
    "print(\"==\" * 30)\n",
    "a = \"010-7146-1970\"\n",
    "#변수 a에 있는 문자열의 데이터 모두 숫자인지를 확인하시오\n",
    "print(a.isdigit())\n",
    "a = \"01071461970\"\n",
    "print(a.isdigit())\n",
    "### 변수 a의 문자열은 모두 영어입니까?\n",
    "print(a.isalpha())\n",
    "a = \"Life is too short\"\n",
    "print(a.isalpha())\n",
    "a = \"ancdfgdg\"\n",
    "print(a.isalpha())\n",
    "a = \"LIFE\"\n",
    "print(a.isupper())\n",
    "a = \"life\"\n",
    "print(a.islower())"
   ]
  },
  {
   "cell_type": "code",
   "execution_count": 71,
   "id": "3ddf6c97",
   "metadata": {},
   "outputs": [
    {
     "name": "stdout",
     "output_type": "stream",
     "text": [
      "1\n",
      "1\n",
      "[1]\n",
      "1\n"
     ]
    }
   ],
   "source": [
    "# 자료형\n",
    "# 숫자 자료형 : 숫자 리터널\n",
    "#      연산자 : +, -, *, / , %, //, **\n",
    "# 문자열 자료형 : \"a\",'a','''a''', \"\"\"aaa\"\"\"\n",
    "#                \"문자 리터널\"\n",
    "#               1(숫자),\"1\"(문자열),a(변수),\"a\"(문자열)\n",
    "# 리스트 자료형 : [] : \n",
    "print(1)\n",
    "print(\"1\")\n",
    "print([1])"
   ]
  },
  {
   "cell_type": "code",
   "execution_count": 87,
   "id": "2dc995a6",
   "metadata": {},
   "outputs": [
    {
     "name": "stdout",
     "output_type": "stream",
     "text": [
      "1\n",
      "7\n",
      "이숭무\n",
      "강참찬\n",
      "2\n",
      "11\n",
      "이숭무\n",
      "이숭무\n",
      "Life is too short\n",
      "t\n",
      "이숭무\n",
      "35\n",
      "나의 이름은 이숭무이고 나이는 35살이며 키는 172.5이고 사는 곳은 경기도입니다.\n",
      "나의 이름은 이숭무이고 나이는 35살이며 키는 175.5이고 사는 곳은 경기도입니다.\n"
     ]
    }
   ],
   "source": [
    "####변수는 오로지 하나의 데이터만 저장 할 수 있다.\n",
    "a = 1\n",
    "print(a)\n",
    "a = 7\n",
    "print(a)\n",
    "a = \"이숭무\"\n",
    "print(a)\n",
    "a = \"강참찬\"\n",
    "print(a)\n",
    "b = 1 + 1\n",
    "print(b)\n",
    "b = \"1\" + \"1\"\n",
    "print(b)\n",
    "name = '이숭무'\n",
    "age = 35\n",
    "height = 175.5\n",
    "add = '경기도'\n",
    "l = ['이숭무', 35, 172.5, '경기도']\n",
    "print(name)\n",
    "print(l[0])\n",
    "# 리스트 여러 종류의 데이터를 여러개 저장 할 수 있다.\n",
    "# 리스트를 사용하기 위해서는 index를 사용한다.\n",
    "a = \"Life is too short\"\n",
    "#    01234567890123456\n",
    "#              1\n",
    "print(a)\n",
    "print(a[8])\n",
    "# 리스트 안에 있는 각각의 데이터를 요소라고 한다.\n",
    "# 리스트는 각 요소마다 index를 가진다.\n",
    "l = ['이숭무', 35, 172.5, '경기도']\n",
    "#       0      1    2       3\n",
    "print(l[0])\n",
    "print(l[1])\n",
    "# 나의 이름은 이숭무이고 나이는 35살이며 키는 175.5이고\n",
    "# 사는 곳은 경기도입니다.\n",
    "print(f\"나의 이름은 {l[0]}이고 나이는 {l[1]}살이며 키는 {l[2]}이고 사는 곳은 {l[3]}입니다.\")\n",
    "print(f\"나의 이름은 {name}이고 나이는 {age}살이며 키는 {height}이고 사는 곳은 {add}입니다.\")"
   ]
  },
  {
   "cell_type": "code",
   "execution_count": 93,
   "id": "0c19c351",
   "metadata": {},
   "outputs": [
    {
     "name": "stdout",
     "output_type": "stream",
     "text": [
      "1\n",
      "2\n",
      "3\n",
      "[4, 5, 'Life']\n",
      "4\n"
     ]
    }
   ],
   "source": [
    "l = [] # 빈 리스트\n",
    "l1 = [1,2,3,4] # 숫자 리스트\n",
    "l2 = [\"Life\", \"is\", \"too\", \"short\"] # 문자열 리스트\n",
    "l3 = ['이숭무', 35, 175.5, '경기도'] # 혼합형 리스트\n",
    "l4 = [1,2,3,[4,5,\"Life\"]] # 리스트를 포함한 리스트\n",
    "#     0 1 2      3\n",
    "print(l4[0]) # 1\n",
    "print(l4[1]) # 2\n",
    "print(l4[2]) # 3\n",
    "print(l4[3]) # [4, 5, 'Life']\n",
    "print(l4[0] + l4[2]) # 1 + 3 = 4\n",
    "#print(l4[1] + l4[3]) # print(2 + [4, 5, 'Life'])"
   ]
  },
  {
   "cell_type": "code",
   "execution_count": 99,
   "id": "85e918ad",
   "metadata": {},
   "outputs": [
    {
     "name": "stdout",
     "output_type": "stream",
     "text": [
      "1\n",
      "[1, 2, 3]\n",
      "[1]\n",
      "[3, [4, 5, 'Life']]\n",
      "[3, [4, 5, 'Life']]\n",
      "[4, 5, 'Life']\n",
      "Life\n"
     ]
    }
   ],
   "source": [
    "l4 = [1,2,3,[4,5,\"Life\"]] \n",
    "#     0 1 2      3\n",
    "print(l4[0])\n",
    "print(l4[0:3])\n",
    "print(l4[0:1])\n",
    "print(l4[2:4]) # [3, [4, 5, 'Life']]\n",
    "print(l4[2:]) # [3, [4, 5, 'Life']]\n",
    "print(l4[3]) # [4, 5, 'Life']\n",
    "#               0  1    2\n",
    "# \"Life\"를 가져오시오.\n",
    "print(l4[3][2])"
   ]
  },
  {
   "cell_type": "code",
   "execution_count": 106,
   "id": "3a88cccd",
   "metadata": {},
   "outputs": [
    {
     "name": "stdout",
     "output_type": "stream",
     "text": [
      "Life\n",
      "[1, 2, 3]\n",
      "[1, 2, 3, 4]\n",
      "[1, 2, 3, 4, 5, 6]\n",
      "[1, 2, 10, 3, 4, 5, 6]\n",
      "[1, 2, 10, 3, 4, 20, 5, 6]\n",
      "[1, 2, 10, 3, 4, 20, 5, 6, 7, 8, 9]\n"
     ]
    }
   ],
   "source": [
    "### 리스트에 있는 데이터를 가공하기 위한 함수\n",
    "l4 = [1,2,3,[4,5,\"Life\"]]\n",
    "#     0 1 2       3\n",
    "#            0 1    2\n",
    "print(l4[3][2])\n",
    "# 삭제\n",
    "del l4[3] # index3번 요소를 삭제\n",
    "print(l4)\n",
    "# 추가 \n",
    "l4.append(4) #   리스트뒤에 값이 붙는다.\n",
    "print(l4)\n",
    "l4.append(5)\n",
    "l4.append(6)\n",
    "print(l4)\n",
    "### 중간에 삽입\n",
    "l4.insert(2, 10) # 2번 index에 10을 넣는다.\n",
    "print(l4)\n",
    "l4.insert(5, 20)\n",
    "print(l4)\n",
    "### 여러개의 값을 한번에 추가\n",
    "l4.extend([7,8,9])\n",
    "print(l4)"
   ]
  },
  {
   "cell_type": "code",
   "execution_count": 116,
   "id": "0ec24d28",
   "metadata": {},
   "outputs": [
    {
     "name": "stdout",
     "output_type": "stream",
     "text": [
      "[1, 2, 10, 3, 4, 20, 5, 6, 7, 8, 9]\n",
      "[1, 2, 10, 3, 4, 20, 5, 6, 7, 8]\n",
      "[1, 2, 10, 3, 4, 5, 6, 7, 8]\n",
      "[1, 2, 3, 4, 5, 6, 7, 8]\n",
      "[1, 2, 3, 4, 5, 6, 7]\n",
      "[1, 2, 3, 4, 5, 6]\n",
      "6\n",
      "[1, 2, 3, 4, 5]\n",
      "3\n",
      "[1, 2, 4, 5]\n"
     ]
    }
   ],
   "source": [
    "l4 = [1, 2, 10, 3, 4, 20, 5, 6, 7, 8, 9]\n",
    "####  0  1   2  3  4   5  6  7  8  9  10\n",
    "print(l4)\n",
    "# 삭제\n",
    "del l4[10] # 10번 index를 삭제\n",
    "print(l4)\n",
    "### 요소의 값을 이용해서 삭제\n",
    "l4.remove(20)\n",
    "print(l4)\n",
    "l4.remove(10)\n",
    "print(l4)\n",
    "### pop()함수를 이용해서 삭제\n",
    "### 마지막 요소부터 삭제\n",
    "l4.pop()\n",
    "print(l4)  # [1, 2, 3, 4, 5, 6, 7]\n",
    "l4.pop()\n",
    "print(l4) # [1, 2, 3, 4, 5, 6]\n",
    "### pop()삭제 될 값을 가져온다.\n",
    "y = l4.pop() # 6\n",
    "print(y)\n",
    "print(l4) # [1, 2, 3, 4, 5]\n",
    "#            0  1  2  3  4 index\n",
    "### pop()함수에 index를 이용해서 삭제\n",
    "y = l4.pop(2) # 3\n",
    "print(y)\n",
    "print(l4) # [1, 2, 4, 5]"
   ]
  },
  {
   "cell_type": "code",
   "execution_count": 121,
   "id": "d24571f9",
   "metadata": {},
   "outputs": [
    {
     "name": "stdout",
     "output_type": "stream",
     "text": [
      "[1]\n",
      "[1, 5, 3, 2, 4]\n",
      "[1, 2, 3, 4, 5]\n",
      "[5, 4, 3, 2, 1]\n",
      "[4, 2, 3, 5, 1]\n"
     ]
    }
   ],
   "source": [
    "l = []\n",
    "l.append(1)\n",
    "print(l)\n",
    "l.append(5)\n",
    "l.append(3)\n",
    "l.append(2)\n",
    "l.append(4)\n",
    "print(l)\n",
    "### 정렬\n",
    "l.sort() # 오름차순 정렬\n",
    "print(l) \n",
    "l = [1, 5, 3, 2, 4]\n",
    "# 내림차순 정렬\n",
    "l.sort(reverse=True)\n",
    "print(l)\n",
    "l = [1, 5, 3, 2, 4]\n",
    "# 거꾸로 저장\n",
    "l.reverse()\n",
    "print(l)"
   ]
  },
  {
   "cell_type": "code",
   "execution_count": 123,
   "id": "b4a88e6b",
   "metadata": {},
   "outputs": [
    {
     "name": "stdout",
     "output_type": "stream",
     "text": [
      "[1, 5, 3, 2, 4, 3, 7, 8, 3]\n",
      "3\n"
     ]
    }
   ],
   "source": [
    "l = [1, 5, 3, 2, 4, 3, 7, 8, 3]\n",
    "print(l)\n",
    "# 리스트에 3이 몇개인지 출력하시오.\n",
    "print(l.count(3))"
   ]
  },
  {
   "cell_type": "code",
   "execution_count": 125,
   "id": "a96e1abf",
   "metadata": {},
   "outputs": [
    {
     "name": "stdout",
     "output_type": "stream",
     "text": [
      "[1, 2, 3, 4, 5]\n",
      "(1, 2, 3, 4, 5)\n",
      "[1, 2, 3, [4, 5, 6], (7, 8)]\n"
     ]
    }
   ],
   "source": [
    "### 리터널 :자연어 ( 한국어, 일본어, 영어,..., 정수, 실수)\n",
    "### 숫자 자료형 : 숫자 리터널 (1,2,3, 10.5)\n",
    "### 문자열 자료형 : \"리터널\", '리터널', \"\"\"\"\"\", ''''''\n",
    "##    1 : 숫자, \"1\" :문자열, a : 변수, \"a\" :문자열\n",
    "### 리스트 자료형 : [] :여러개 값을 저장\n",
    "### 튜플 자료형 : () :여러개 값을 저장\n",
    "a = [1,2,3,4,5] # 리스트 자료형\n",
    "print(a) \n",
    "a = (1,2,3,4,5) # 튜플 자료형\n",
    "print(a)\n",
    "l = [1,2,3,[4,5,6],(7,8)]\n",
    "print(l)"
   ]
  },
  {
   "cell_type": "code",
   "execution_count": 127,
   "id": "fe6d6eb2",
   "metadata": {},
   "outputs": [
    {
     "name": "stdout",
     "output_type": "stream",
     "text": [
      "[1]\n",
      "1\n",
      "(1,)\n"
     ]
    }
   ],
   "source": [
    "i = 1\n",
    "s = \"1\"\n",
    "l = [1]\n",
    "print(l)\n",
    "t = (1) # 정수 \n",
    "t1 = (1,) # 요소가 하나인 경우에는 ,가 있어야 한다.\n",
    "print(t) # 정수\n",
    "print(t1) # 튜플"
   ]
  },
  {
   "cell_type": "code",
   "execution_count": 131,
   "id": "927b503a",
   "metadata": {},
   "outputs": [
    {
     "name": "stdout",
     "output_type": "stream",
     "text": [
      "이숭무\n",
      "이숭무\n",
      "(1, 2, 3, '이숭무', [4, 5, 6], (7, 8, 9))\n",
      "[4, 5, 6]\n",
      "5\n"
     ]
    }
   ],
   "source": [
    "t = () #빈 튜플\n",
    "t1 = (1,)\n",
    "t2 = (1,2,3)\n",
    "t3 = (1,2,3,\"이숭무\", [4,5,6], (7,8,9))\n",
    "#    0 1 2    3         4        5\n",
    "l = [1,2,3,\"이숭무\", [4,5,6], (7,8,9)]\n",
    "#    0 1 2    3         4        5\n",
    "print(l[3])\n",
    "print(t3[3])\n",
    "print(t3)#(1, 2, 3, '이숭무', [4, 5, 6], (7, 8, 9))\n",
    "#          0  1  2     3          4          5\n",
    "print(t3[4]) # [4, 5, 6]\n",
    "#               0  1  2\n",
    "print(t3[4][1])"
   ]
  },
  {
   "cell_type": "code",
   "execution_count": 139,
   "id": "75ada42e",
   "metadata": {},
   "outputs": [
    {
     "name": "stdout",
     "output_type": "stream",
     "text": [
      "4\n",
      "4\n",
      "[1, 2, 3, 20]\n",
      "[1, 2, 3]\n",
      "1\n"
     ]
    }
   ],
   "source": [
    "# 리스트와 튜플 차이점\n",
    "l = [1,2,3,4]\n",
    "#    0 1 2 3\n",
    "t = (1,2,3,4)\n",
    "#    0 1 2 3\n",
    "print(l[3])\n",
    "print(t[3])\n",
    "l[3] = 20 # 리스트는 요소의 값을 변경할 수 있다.\n",
    "print(l) # [1, 2, 3, 20]\n",
    "# t[3] = 20  # 튜플은 요소의 값을 변경하지 못한다.\n",
    "del l[3] \n",
    "print(l) # [1, 2, 3]\n",
    "# del t[3] # 튜플은 수정이 안되기 때문에 삭제도 안됨\n",
    "print(t.index(2))"
   ]
  },
  {
   "cell_type": "code",
   "execution_count": 147,
   "id": "a9a8a5b9",
   "metadata": {},
   "outputs": [
    {
     "name": "stdout",
     "output_type": "stream",
     "text": [
      "[4, 5, 6]\n",
      "5\n",
      "(1, 2, 3, [4, 20, 6], (7, 8, 9))\n",
      "(7, 8, 9)\n",
      "8\n"
     ]
    }
   ],
   "source": [
    "t = (1,2,3,[4,5,6],(7,8,9))\n",
    "#    0 1 2    3        4\n",
    "print(t[3]) # [4, 5, 6]\n",
    "print(t[3][1]) # 5\n",
    "t[3][1] = 20\n",
    "print(t)\n",
    "print(t[4]) # (7, 8, 9)\n",
    "print(t[4][1])\n",
    "# t[4][1] = 20 # 튜플 자료형은 값을 변경할 수 없다."
   ]
  },
  {
   "cell_type": "code",
   "execution_count": 163,
   "id": "977e8918",
   "metadata": {},
   "outputs": [
    {
     "name": "stdout",
     "output_type": "stream",
     "text": [
      "이숭무\n",
      "35\n",
      "가\n",
      "숭\n",
      "{1: '이', 2: '숭', 3: '무'}\n",
      "이\n",
      "숭\n",
      "무\n",
      "{1: 'Rhee', 2: 'Soong', 3: 'Moo'}\n",
      "{1: 'Rhee', 2: 'Soong', 3: 'Moo', 4: '경기도'}\n",
      "{1: 'Rhee', 2: 'Soong', 3: 'Moo', 4: '서울'}\n"
     ]
    }
   ],
   "source": [
    "# 자료형\n",
    "# 숫자 자료형 : 1,2,..., \n",
    "# 문자열 자료형 : \"\" ,'',\"\"\"\"\"\",''''''\n",
    "# 리스트 자료형 : [] \n",
    "# 튜플 자료형 : ()\n",
    "# 딕셔너리 자료형 : {단어 : 뜻,...} => {키 : 값,...}\n",
    "# 키와 값을 한쌍으로 묶인 자료형\n",
    "dic = {} # 빈 딕셔너리\n",
    "l = [] # 빈 리스트\n",
    "t = () # 빈 튜플\n",
    "dic = {'name':'이숭무', 'age':35, 'height': 172.5}\n",
    "# 딕셔너리는 index를 사용하지 않고 키를 이용해서 값을\n",
    "# 가지고 온다.\n",
    "print(dic['name'])\n",
    "print(dic['age'])\n",
    "dic = { 'a' : '가'}\n",
    "print(dic['a'])\n",
    "#키는 바뀌지 않는 값이어야 하기 때문에 변수를 \n",
    "#키로 사용할 수 없다\n",
    "#dic = { 1 : '이', 'a' : '숭' , [1,2,3] : '무'}\n",
    "#dic = { 1 : '이', 'a' : '숭' , (1,2,3) : '무'}\n",
    "#오류는 없지만 튜플을 키로 사용하지는 않는다.\n",
    "dic = {1 : '이', 1 : '숭'}\n",
    "print(dic[1]) \n",
    "#딕셔너리는 중복키를 가지지 않는다.\n",
    "#중복키가 있는 경우 키는 마지막값을 저장한다.\n",
    "dic = {1 : '이', 2 : '숭' , 3: '무'}\n",
    "print(dic)\n",
    "print(dic[1])\n",
    "print(dic[2])\n",
    "print(dic[3])\n",
    "dic[1] = 'Rhee'\n",
    "dic[2] = 'Soong'\n",
    "dic[3] = 'Moo'\n",
    "print(dic)\n",
    "# 키를 이용해서 값을 변경할 수 있다.\n",
    "dic[4] = \"경기도\" # 4키가 없는 경우\n",
    "print(dic) # 키가 없는 경우에는 딕셔너리에 추가\n",
    "dic[4] = '서울'\n",
    "print(dic) # 키가 있으면 값이 변경이 된다."
   ]
  },
  {
   "cell_type": "code",
   "execution_count": 167,
   "id": "a8145e42",
   "metadata": {},
   "outputs": [
    {
     "name": "stdout",
     "output_type": "stream",
     "text": [
      "[1, 2]\n",
      "{1: '이', 2: '숭', 3: '무', 'age': 35}\n",
      "[1, 2, {1: '이', 2: '숭', 3: '무', 'age': 35}]\n",
      "{1: '이', 2: '숭', 3: '무', 'age': 35}\n"
     ]
    }
   ],
   "source": [
    "l = []\n",
    "l.append(1)\n",
    "l.append(2)\n",
    "print(l)\n",
    "dic = {}\n",
    "dic[1] = '이'\n",
    "dic[2] = '숭'\n",
    "dic[3] = '무'\n",
    "dic['age'] = 35\n",
    "print(dic)\n",
    "l.append(dic)\n",
    "print(l)\n",
    "print(l[2])"
   ]
  },
  {
   "cell_type": "code",
   "execution_count": 173,
   "id": "ee041435",
   "metadata": {},
   "outputs": [
    {
     "name": "stdout",
     "output_type": "stream",
     "text": [
      "이숭무\n",
      "35\n",
      "경기도\n",
      "19991025\n",
      "1999\n",
      "1025\n",
      "1025\n"
     ]
    }
   ],
   "source": [
    "dic = {'name':'이숭무' , 'age':35 , \n",
    "       'birth':'19991025', 'add' : '경기도'}\n",
    "print(dic['name'])\n",
    "print(dic['age'])\n",
    "print(dic['add'])\n",
    "print(dic['birth']) # 19991025 : 문자열\n",
    "#                     01234567   index\n",
    "#                     87654321 -\n",
    "### 'birth'에 있는 값 중에서 년도를 출력하시오.\n",
    "print(dic['birth'][:4])\n",
    "### 'birth'에 있는 값 중에서 월일을 출력하시오.\n",
    "print(dic['birth'][4:])\n",
    "print(dic['birth'][-4:])"
   ]
  },
  {
   "cell_type": "code",
   "execution_count": 181,
   "id": "6c535b1f",
   "metadata": {},
   "outputs": [
    {
     "name": "stdout",
     "output_type": "stream",
     "text": [
      "{'name': '이숭무', 'age': 35, 'birth': '19991025', 'add': '경기도'}\n",
      "dict_keys(['name', 'age', 'birth', 'add'])\n",
      "dict_values(['이숭무', 35, '19991025', '경기도'])\n",
      "dict_items([('name', '이숭무'), ('age', 35), ('birth', '19991025'), ('add', '경기도')])\n",
      "[1, 2, 3, 4, 5]\n",
      "[]\n",
      "{'name': '이숭무', 'age': 35, 'birth': '19991025', 'add': '경기도'}\n",
      "{}\n"
     ]
    }
   ],
   "source": [
    "# 딕셔너리에 사용 가능한 함수\n",
    "print(dic)\n",
    "print(dic.keys()) # 딕셔너리에 있는 키만 가져옴\n",
    "print(dic.values())# 딕셔너리에 있는 값만 가져옴\n",
    "print(dic.items())#키와 값을 튜플로 묶어서 가져옴\n",
    "l = [1,2,3,4,5]\n",
    "print(l)\n",
    "l = []\n",
    "print(l)\n",
    "print(dic)\n",
    "dic.clear() # dic = {}\n",
    "print(dic)"
   ]
  },
  {
   "cell_type": "code",
   "execution_count": 188,
   "id": "76c8ea35",
   "metadata": {},
   "outputs": [
    {
     "name": "stdout",
     "output_type": "stream",
     "text": [
      "{'name': '이숭무', 'age': 35, 'birth': '19991025'}\n",
      "이숭무\n",
      "이숭무\n",
      "None\n",
      "100\n"
     ]
    }
   ],
   "source": [
    "dic = {'name':'이숭무','age': 35,'birth':'19991025'}\n",
    "print(dic)\n",
    "print(dic['name'])\n",
    "# print(dic['money'])# 없는 키를 사용하는 경우 오류\n",
    "#키가 없는 경우 특정한 값을 출력\n",
    "print(dic.get('name'))\n",
    "print(dic.get('money'))\n",
    "print(dic.get('money', 100))"
   ]
  },
  {
   "cell_type": "code",
   "execution_count": 196,
   "id": "515f93c0",
   "metadata": {},
   "outputs": [
    {
     "name": "stdout",
     "output_type": "stream",
     "text": [
      "1200\n",
      "400\n",
      "300\n",
      "1200\n",
      "400\n"
     ]
    }
   ],
   "source": [
    "dic1 = {'classic' : 500 , 'pop' : 100 , '트롯': 300}\n",
    "dic2 = {'classic' : 700 , 'pop' : 300}\n",
    "## 각 분양별 매출은 얼마?\n",
    "print(dic1['classic'] + dic2['classic'])\n",
    "print(dic1['pop'] + dic2['pop'])\n",
    "# print(dic1['트롯'] + dic2['트롯'])\n",
    "print(dic1.get('트롯', 0) + dic2.get('트롯', 0))\n",
    "print(dic1.get('classic',0) + dic2.get('classic',0))\n",
    "print(dic1.get('pop',0) + dic2.get('pop',0))"
   ]
  },
  {
   "cell_type": "code",
   "execution_count": null,
   "id": "faaa42ab",
   "metadata": {},
   "outputs": [],
   "source": []
  },
  {
   "cell_type": "code",
   "execution_count": null,
   "id": "37964b16",
   "metadata": {},
   "outputs": [],
   "source": []
  },
  {
   "cell_type": "code",
   "execution_count": null,
   "id": "2688758c",
   "metadata": {},
   "outputs": [],
   "source": []
  },
  {
   "cell_type": "code",
   "execution_count": null,
   "id": "74ffc160",
   "metadata": {},
   "outputs": [],
   "source": []
  },
  {
   "cell_type": "code",
   "execution_count": null,
   "id": "1c9ca6bd",
   "metadata": {},
   "outputs": [],
   "source": []
  },
  {
   "cell_type": "code",
   "execution_count": null,
   "id": "59521d4d",
   "metadata": {},
   "outputs": [],
   "source": []
  },
  {
   "cell_type": "code",
   "execution_count": null,
   "id": "6facdacf",
   "metadata": {},
   "outputs": [],
   "source": []
  }
 ],
 "metadata": {
  "kernelspec": {
   "display_name": "Python 3 (ipykernel)",
   "language": "python",
   "name": "python3"
  },
  "language_info": {
   "codemirror_mode": {
    "name": "ipython",
    "version": 3
   },
   "file_extension": ".py",
   "mimetype": "text/x-python",
   "name": "python",
   "nbconvert_exporter": "python",
   "pygments_lexer": "ipython3",
   "version": "3.8.12"
  }
 },
 "nbformat": 4,
 "nbformat_minor": 5
}
